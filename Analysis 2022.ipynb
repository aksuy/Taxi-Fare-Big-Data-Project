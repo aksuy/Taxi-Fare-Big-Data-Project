{
  "nbformat": 4,
  "nbformat_minor": 0,
  "metadata": {
    "colab": {
      "provenance": []
    },
    "kernelspec": {
      "name": "python3",
      "display_name": "Python 3"
    },
    "language_info": {
      "name": "python"
    }
  },
  "cells": [
    {
      "cell_type": "code",
      "execution_count": 72,
      "metadata": {
        "id": "0mSKsGaMNFZD"
      },
      "outputs": [],
      "source": [
        "from google.cloud import bigquery\n",
        "#import db-dtypes\n",
        "import os\n",
        "import pandas as pd\n",
        "# Create a BigQuery client object\n",
        "#from pyspark.sql import SparkSession\n",
        "#from pyspark.ml.regression import LinearRegression\n",
        "#from pyspark.ml.feature import VectorAssembler\n",
        "\n",
        "os.environ[\"GOOGLE_APPLICATION_CREDENTIALS\"]= \"nifty-expanse-380117-34182b0834a5.json\"\n",
        "client = bigquery.Client()\n",
        "# Construct the SQL query to fetch data from a table in the database\n",
        "sql_query1 = \"\"\"SELECT * FROM `bigquery-public-data.new_york_taxi_trips.tlc_green_trips_2022`\"\"\"\n",
        "# Execute the query and fetch the results\n",
        "query_job = client.query(sql_query1)\n",
        "df1 = query_job.to_dataframe()\n",
        "\n",
        "\n"
      ]
    },
    {
      "cell_type": "code",
      "source": [
        "df1.shape"
      ],
      "metadata": {
        "colab": {
          "base_uri": "https://localhost:8080/"
        },
        "id": "bavFmsNGPEk2",
        "outputId": "e9a8172d-9926-409c-ff0b-b40c63cb1286"
      },
      "execution_count": 73,
      "outputs": [
        {
          "output_type": "execute_result",
          "data": {
            "text/plain": [
              "(767953, 24)"
            ]
          },
          "metadata": {},
          "execution_count": 73
        }
      ]
    },
    {
      "cell_type": "code",
      "source": [
        "df1.columns"
      ],
      "metadata": {
        "colab": {
          "base_uri": "https://localhost:8080/"
        },
        "id": "bOcYcGKJPrgw",
        "outputId": "66d8b22a-8e27-47e9-a570-3b2982df4940"
      },
      "execution_count": 74,
      "outputs": [
        {
          "output_type": "execute_result",
          "data": {
            "text/plain": [
              "Index(['vendor_id', 'pickup_datetime', 'dropoff_datetime',\n",
              "       'store_and_fwd_flag', 'rate_code', 'passenger_count', 'trip_distance',\n",
              "       'fare_amount', 'extra', 'mta_tax', 'tip_amount', 'tolls_amount',\n",
              "       'ehail_fee', 'airport_fee', 'total_amount', 'payment_type',\n",
              "       'distance_between_service', 'time_between_service', 'trip_type',\n",
              "       'imp_surcharge', 'pickup_location_id', 'dropoff_location_id',\n",
              "       'data_file_year', 'data_file_month'],\n",
              "      dtype='object')"
            ]
          },
          "metadata": {},
          "execution_count": 74
        }
      ]
    },
    {
      "cell_type": "code",
      "source": [
        "df1.dtypes"
      ],
      "metadata": {
        "colab": {
          "base_uri": "https://localhost:8080/"
        },
        "id": "mVSJK6o_PHbl",
        "outputId": "15536f23-fd23-4b1e-8979-f2e9818c8177"
      },
      "execution_count": 75,
      "outputs": [
        {
          "output_type": "execute_result",
          "data": {
            "text/plain": [
              "vendor_id                                object\n",
              "pickup_datetime             datetime64[ns, UTC]\n",
              "dropoff_datetime            datetime64[ns, UTC]\n",
              "store_and_fwd_flag                       object\n",
              "rate_code                                object\n",
              "passenger_count                           Int64\n",
              "trip_distance                            object\n",
              "fare_amount                              object\n",
              "extra                                    object\n",
              "mta_tax                                  object\n",
              "tip_amount                               object\n",
              "tolls_amount                             object\n",
              "ehail_fee                                object\n",
              "airport_fee                              object\n",
              "total_amount                             object\n",
              "payment_type                             object\n",
              "distance_between_service                 object\n",
              "time_between_service                      Int64\n",
              "trip_type                                object\n",
              "imp_surcharge                            object\n",
              "pickup_location_id                       object\n",
              "dropoff_location_id                      object\n",
              "data_file_year                            Int64\n",
              "data_file_month                           Int64\n",
              "dtype: object"
            ]
          },
          "metadata": {},
          "execution_count": 75
        }
      ]
    },
    {
      "cell_type": "code",
      "source": [
        "df1.passenger_count.isna().sum()"
      ],
      "metadata": {
        "colab": {
          "base_uri": "https://localhost:8080/"
        },
        "id": "AbRlsB5vPyp7",
        "outputId": "2c26940a-cd77-42b3-f626-cdd847b18160"
      },
      "execution_count": 76,
      "outputs": [
        {
          "output_type": "execute_result",
          "data": {
            "text/plain": [
              "83265"
            ]
          },
          "metadata": {},
          "execution_count": 76
        }
      ]
    },
    {
      "cell_type": "code",
      "source": [
        "df1.dropna(subset=['passenger_count'], inplace=True)\n"
      ],
      "metadata": {
        "id": "ZuLdvXMeP-w4"
      },
      "execution_count": 77,
      "outputs": []
    },
    {
      "cell_type": "code",
      "source": [
        "df1 = df1[df1['passenger_count'] != 0]"
      ],
      "metadata": {
        "id": "bteD6KDvQCzd"
      },
      "execution_count": 78,
      "outputs": []
    },
    {
      "cell_type": "code",
      "source": [
        "df1.passenger_count.unique()"
      ],
      "metadata": {
        "colab": {
          "base_uri": "https://localhost:8080/"
        },
        "id": "o5USmbPcQE8H",
        "outputId": "83a7c3b3-8b4f-43e9-afd1-b9a9cf9dece3"
      },
      "execution_count": 79,
      "outputs": [
        {
          "output_type": "execute_result",
          "data": {
            "text/plain": [
              "<IntegerArray>\n",
              "[1, 2, 5, 3, 4, 6, 8, 9, 7]\n",
              "Length: 9, dtype: Int64"
            ]
          },
          "metadata": {},
          "execution_count": 79
        }
      ]
    },
    {
      "cell_type": "code",
      "source": [
        "df1 = df1[df1['passenger_count'] != 32]"
      ],
      "metadata": {
        "id": "vc5BkC1rQHuf"
      },
      "execution_count": 80,
      "outputs": []
    },
    {
      "cell_type": "code",
      "source": [
        "df1 = df1[df1['passenger_count'] != 48]"
      ],
      "metadata": {
        "id": "Hez4u59FQLcK"
      },
      "execution_count": 81,
      "outputs": []
    },
    {
      "cell_type": "code",
      "source": [
        "df1.passenger_count.unique()"
      ],
      "metadata": {
        "colab": {
          "base_uri": "https://localhost:8080/"
        },
        "id": "ngz7GNMiQPYP",
        "outputId": "f40e0b44-a645-4596-cb93-cf1848020f48"
      },
      "execution_count": 82,
      "outputs": [
        {
          "output_type": "execute_result",
          "data": {
            "text/plain": [
              "<IntegerArray>\n",
              "[1, 2, 5, 3, 4, 6, 8, 9, 7]\n",
              "Length: 9, dtype: Int64"
            ]
          },
          "metadata": {},
          "execution_count": 82
        }
      ]
    },
    {
      "cell_type": "code",
      "source": [
        "import pandas as pd\n",
        "import matplotlib.pyplot as plt\n",
        "\n",
        "# Read in the data\n",
        "\n",
        "\n",
        "# Get value counts for the column\n",
        "value_counts = df1['passenger_count'].value_counts()\n",
        "\n",
        "# Plot pie chart\n",
        "fig, ax = plt.subplots()\n",
        "ax.pie(value_counts, labels=value_counts.index)\n",
        "plt.figure(figsize=(8, 8))\n",
        "\n",
        "# Add percentage values to legend\n",
        "total = sum(value_counts)\n",
        "vals = value_counts.values\n",
        "labels = value_counts.index\n",
        "percentages = [\"{0:.2f}%\".format(val/total*100) for val in vals]\n",
        "legends = [f'{label}: {percentage}' for label, percentage in zip(labels, percentages)]\n",
        "ax.legend(legends, loc=\"upper right\",bbox_to_anchor=(1.1, 1.5))\n",
        "plt.savefig('11.png', dpi=300, bbox_inches='tight')\n",
        "\n",
        "plt.show()"
      ],
      "metadata": {
        "colab": {
          "base_uri": "https://localhost:8080/",
          "height": 601
        },
        "id": "dgl_a7ixQRxZ",
        "outputId": "02845b5b-f467-4e1d-fc49-920245459223"
      },
      "execution_count": 83,
      "outputs": [
        {
          "output_type": "display_data",
          "data": {
            "text/plain": [
              "<Figure size 640x480 with 1 Axes>"
            ],
            "image/png": "[encoded data removed]"
          },
          "metadata": {}
        },
        {
          "output_type": "display_data",
          "data": {
            "text/plain": [
              "<Figure size 800x800 with 0 Axes>"
            ]
          },
          "metadata": {}
        }
      ]
    },
    {
      "cell_type": "code",
      "source": [
        "from google.cloud import bigquery\n",
        "#import db-dtypes\n",
        "import os\n",
        "import pandas as pd\n",
        "# Create a BigQuery client object\n",
        "#from pyspark.sql import SparkSession\n",
        "#from pyspark.ml.regression import LinearRegression\n",
        "#from pyspark.ml.feature import VectorAssembler\n",
        "\n",
        "os.environ[\"GOOGLE_APPLICATION_CREDENTIALS\"]= \"nifty-expanse-380117-34182b0834a5.json\"\n",
        "client = bigquery.Client()\n",
        "# Construct the SQL query to fetch data from a table in the database\n",
        "sql_query1 = \"\"\"SELECT * FROM `bigquery-public-data.new_york_taxi_trips.tlc_green_trips_2022`\"\"\"\n",
        "# Execute the query and fetch the results\n",
        "query_job = client.query(sql_query1)\n",
        "df1 = query_job.to_dataframe()\n"
      ],
      "metadata": {
        "id": "fQ3mGQWDQcMc"
      },
      "execution_count": 84,
      "outputs": []
    },
    {
      "cell_type": "code",
      "source": [
        "from google.cloud import bigquery\n",
        "#import db-dtypes\n",
        "import os\n",
        "import pandas as pd\n",
        "# Create a BigQuery client object\n",
        "#from pyspark.sql import SparkSession\n",
        "#from pyspark.ml.regression import LinearRegression\n",
        "#from pyspark.ml.feature import VectorAssembler\n",
        "\n",
        "os.environ[\"GOOGLE_APPLICATION_CREDENTIALS\"]= \"nifty-expanse-380117-34182b0834a5.json\"\n",
        "client = bigquery.Client()\n",
        "# Construct the SQL query to fetch data from a table in the database\n",
        "sql_query1 = \"\"\"SELECT * FROM `bigquery-public-data.new_york_taxi_trips.taxi_zone_geom`\"\"\"\n",
        "# Execute the query and fetch the results\n",
        "query_job = client.query(sql_query1)\n",
        "zone = query_job.to_dataframe()\n"
      ],
      "metadata": {
        "id": "0PNFnMLLSI4w"
      },
      "execution_count": 85,
      "outputs": []
    },
    {
      "cell_type": "code",
      "source": [
        "new_df = pd.DataFrame({\n",
        "    'Pick-up': df1['pickup_location_id'],\n",
        "    'Drop-off': df1['dropoff_location_id']\n",
        "})\n",
        "new_df"
      ],
      "metadata": {
        "colab": {
          "base_uri": "https://localhost:8080/",
          "height": 423
        },
        "id": "s79AXJDoSN77",
        "outputId": "18032c7e-d4c1-487b-dffd-5d0efb77ae9b"
      },
      "execution_count": 86,
      "outputs": [
        {
          "output_type": "execute_result",
          "data": {
            "text/plain": [
              "       Pick-up Drop-off\n",
              "0           93       93\n",
              "1          247      247\n",
              "2            7      193\n",
              "3          193      193\n",
              "4           93       93\n",
              "...        ...      ...\n",
              "767948     116      239\n",
              "767949     244      262\n",
              "767950      75      264\n",
              "767951     226      137\n",
              "767952     236        4\n",
              "\n",
              "[767953 rows x 2 columns]"
            ],
            "text/html": [
              "\n",
              "  <div id=\"df-86323c40-ed2f-4f6d-80ac-610d962bbba6\">\n",
              "    <div class=\"colab-df-container\">\n",
              "      <div>\n",
              "<style scoped>\n",
              "    .dataframe tbody tr th:only-of-type {\n",
              "        vertical-align: middle;\n",
              "    }\n",
              "\n",
              "    .dataframe tbody tr th {\n",
              "        vertical-align: top;\n",
              "    }\n",
              "\n",
              "    .dataframe thead th {\n",
              "        text-align: right;\n",
              "    }\n",
              "</style>\n",
              "<table border=\"1\" class=\"dataframe\">\n",
              "  <thead>\n",
              "    <tr style=\"text-align: right;\">\n",
              "      <th></th>\n",
              "      <th>Pick-up</th>\n",
              "      <th>Drop-off</th>\n",
              "    </tr>\n",
              "  </thead>\n",
              "  <tbody>\n",
              "    <tr>\n",
              "      <th>0</th>\n",
              "      <td>93</td>\n",
              "      <td>93</td>\n",
              "    </tr>\n",
              "    <tr>\n",
              "      <th>1</th>\n",
              "      <td>247</td>\n",
              "      <td>247</td>\n",
              "    </tr>\n",
              "    <tr>\n",
              "      <th>2</th>\n",
              "      <td>7</td>\n",
              "      <td>193</td>\n",
              "    </tr>\n",
              "    <tr>\n",
              "      <th>3</th>\n",
              "      <td>193</td>\n",
              "      <td>193</td>\n",
              "    </tr>\n",
              "    <tr>\n",
              "      <th>4</th>\n",
              "      <td>93</td>\n",
              "      <td>93</td>\n",
              "    </tr>\n",
              "    <tr>\n",
              "      <th>...</th>\n",
              "      <td>...</td>\n",
              "      <td>...</td>\n",
              "    </tr>\n",
              "    <tr>\n",
              "      <th>767948</th>\n",
              "      <td>116</td>\n",
              "      <td>239</td>\n",
              "    </tr>\n",
              "    <tr>\n",
              "      <th>767949</th>\n",
              "      <td>244</td>\n",
              "      <td>262</td>\n",
              "    </tr>\n",
              "    <tr>\n",
              "      <th>767950</th>\n",
              "      <td>75</td>\n",
              "      <td>264</td>\n",
              "    </tr>\n",
              "    <tr>\n",
              "      <th>767951</th>\n",
              "      <td>226</td>\n",
              "      <td>137</td>\n",
              "    </tr>\n",
              "    <tr>\n",
              "      <th>767952</th>\n",
              "      <td>236</td>\n",
              "      <td>4</td>\n",
              "    </tr>\n",
              "  </tbody>\n",
              "</table>\n",
              "<p>767953 rows × 2 columns</p>\n",
              "</div>\n",
              "      <button class=\"colab-df-convert\" onclick=\"convertToInteractive('df-86323c40-ed2f-4f6d-80ac-610d962bbba6')\"\n",
              "              title=\"Convert this dataframe to an interactive table.\"\n",
              "              style=\"display:none;\">\n",
              "        \n",
              "  <svg xmlns=\"http://www.w3.org/2000/svg\" height=\"24px\"viewBox=\"0 0 24 24\"\n",
              "       width=\"24px\">\n",
              "    <path d=\"M0 0h24v24H0V0z\" fill=\"none\"/>\n",
              "    <path d=\"M18.56 5.44l.94 2.06.94-2.06 2.06-.94-2.06-.94-.94-2.06-.94 2.06-2.06.94zm-11 1L8.5 8.5l.94-2.06 2.06-.94-2.06-.94L8.5 2.5l-.94 2.06-2.06.94zm10 10l.94 2.06.94-2.06 2.06-.94-2.06-.94-.94-2.06-.94 2.06-2.06.94z\"/><path d=\"M17.41 7.96l-1.37-1.37c-.4-.4-.92-.59-1.43-.59-.52 0-1.04.2-1.43.59L10.3 9.45l-7.72 7.72c-.78.78-.78 2.05 0 2.83L4 21.41c.39.39.9.59 1.41.59.51 0 1.02-.2 1.41-.59l7.78-7.78 2.81-2.81c.8-.78.8-2.07 0-2.86zM5.41 20L4 18.59l7.72-7.72 1.47 1.35L5.41 20z\"/>\n",
              "  </svg>\n",
              "      </button>\n",
              "      \n",
              "  <style>\n",
              "    .colab-df-container {\n",
              "      display:flex;\n",
              "      flex-wrap:wrap;\n",
              "      gap: 12px;\n",
              "    }\n",
              "\n",
              "    .colab-df-convert {\n",
              "      background-color: #E8F0FE;\n",
              "      border: none;\n",
              "      border-radius: 50%;\n",
              "      cursor: pointer;\n",
              "      display: none;\n",
              "      fill: #1967D2;\n",
              "      height: 32px;\n",
              "      padding: 0 0 0 0;\n",
              "      width: 32px;\n",
              "    }\n",
              "\n",
              "    .colab-df-convert:hover {\n",
              "      background-color: #E2EBFA;\n",
              "      box-shadow: 0px 1px 2px rgba(60, 64, 67, 0.3), 0px 1px 3px 1px rgba(60, 64, 67, 0.15);\n",
              "      fill: #174EA6;\n",
              "    }\n",
              "\n",
              "    [theme=dark] .colab-df-convert {\n",
              "      background-color: #3B4455;\n",
              "      fill: #D2E3FC;\n",
              "    }\n",
              "\n",
              "    [theme=dark] .colab-df-convert:hover {\n",
              "      background-color: #434B5C;\n",
              "      box-shadow: 0px 1px 3px 1px rgba(0, 0, 0, 0.15);\n",
              "      filter: drop-shadow(0px 1px 2px rgba(0, 0, 0, 0.3));\n",
              "      fill: #FFFFFF;\n",
              "    }\n",
              "  </style>\n",
              "\n",
              "      <script>\n",
              "        const buttonEl =\n",
              "          document.querySelector('#df-86323c40-ed2f-4f6d-80ac-610d962bbba6 button.colab-df-convert');\n",
              "        buttonEl.style.display =\n",
              "          google.colab.kernel.accessAllowed ? 'block' : 'none';\n",
              "\n",
              "        async function convertToInteractive(key) {\n",
              "          const element = document.querySelector('#df-86323c40-ed2f-4f6d-80ac-610d962bbba6');\n",
              "          const dataTable =\n",
              "            await google.colab.kernel.invokeFunction('convertToInteractive',\n",
              "                                                     [key], {});\n",
              "          if (!dataTable) return;\n",
              "\n",
              "          const docLinkHtml = 'Like what you see? Visit the ' +\n",
              "            '<a target=\"_blank\" href=https://colab.research.google.com/notebooks/data_table.ipynb>data table notebook</a>'\n",
              "            + ' to learn more about interactive tables.';\n",
              "          element.innerHTML = '';\n",
              "          dataTable['output_type'] = 'display_data';\n",
              "          await google.colab.output.renderOutput(dataTable, element);\n",
              "          const docLink = document.createElement('div');\n",
              "          docLink.innerHTML = docLinkHtml;\n",
              "          element.appendChild(docLink);\n",
              "        }\n",
              "      </script>\n",
              "    </div>\n",
              "  </div>\n",
              "  "
            ]
          },
          "metadata": {},
          "execution_count": 86
        }
      ]
    },
    {
      "cell_type": "code",
      "source": [
        "zone['zone_id'].max()"
      ],
      "metadata": {
        "colab": {
          "base_uri": "https://localhost:8080/",
          "height": 36
        },
        "id": "6tt0siWLSRrp",
        "outputId": "e427da44-50cd-4529-bdef-4992f24d8bbc"
      },
      "execution_count": 87,
      "outputs": [
        {
          "output_type": "execute_result",
          "data": {
            "text/plain": [
              "'99'"
            ],
            "application/vnd.google.colaboratory.intrinsic+json": {
              "type": "string"
            }
          },
          "metadata": {},
          "execution_count": 87
        }
      ]
    },
    {
      "cell_type": "code",
      "source": [
        "zone['zone_name_borough'] = zone['zone_name'] + '-' + zone['borough']\n",
        "\n",
        "# display merged dataframe\n",
        "print(zone)"
      ],
      "metadata": {
        "colab": {
          "base_uri": "https://localhost:8080/"
        },
        "id": "-RHMU1tvSUdk",
        "outputId": "3467f75f-f2c3-4dba-9f86-202a9e324ed3"
      },
      "execution_count": 88,
      "outputs": [
        {
          "output_type": "stream",
          "name": "stdout",
          "text": [
            "    zone_id                  zone_name        borough  \\\n",
            "0         1             Newark Airport            EWR   \n",
            "1         3    Allerton/Pelham Gardens          Bronx   \n",
            "2        18               Bedford Park          Bronx   \n",
            "3        20                    Belmont          Bronx   \n",
            "4        31                 Bronx Park          Bronx   \n",
            "..      ...                        ...            ...   \n",
            "258     206  Saint George/New Brighton  Staten Island   \n",
            "259     214   South Beach/Dongan Hills  Staten Island   \n",
            "260     221                  Stapleton  Staten Island   \n",
            "261     245              West Brighton  Staten Island   \n",
            "262     251                Westerleigh  Staten Island   \n",
            "\n",
            "                                             zone_geom  \\\n",
            "0    POLYGON((-74.1856319999999 40.6916479999999, -...   \n",
            "1    POLYGON((-73.848596761 40.8716707849999, -73.8...   \n",
            "2    POLYGON((-73.8844286139999 40.8668003789999, -...   \n",
            "3    POLYGON((-73.8839239579998 40.8644177609999, -...   \n",
            "4    POLYGON((-73.8710017319999 40.8572767429999, -...   \n",
            "..                                                 ...   \n",
            "258  POLYGON((-74.0825658580711 40.6483158193535, -...   \n",
            "259  POLYGON((-74.085787808 40.5958840799999, -74.0...   \n",
            "260  POLYGON((-74.076017768 40.6377481049999, -74.0...   \n",
            "261  POLYGON((-74.0992883379999 40.640204723, -74.0...   \n",
            "262  POLYGON((-74.1316183449999 40.6305836889999, -...   \n",
            "\n",
            "                           zone_name_borough  \n",
            "0                         Newark Airport-EWR  \n",
            "1              Allerton/Pelham Gardens-Bronx  \n",
            "2                         Bedford Park-Bronx  \n",
            "3                              Belmont-Bronx  \n",
            "4                           Bronx Park-Bronx  \n",
            "..                                       ...  \n",
            "258  Saint George/New Brighton-Staten Island  \n",
            "259   South Beach/Dongan Hills-Staten Island  \n",
            "260                  Stapleton-Staten Island  \n",
            "261              West Brighton-Staten Island  \n",
            "262                Westerleigh-Staten Island  \n",
            "\n",
            "[263 rows x 5 columns]\n"
          ]
        }
      ]
    },
    {
      "cell_type": "code",
      "source": [
        "zone.columns"
      ],
      "metadata": {
        "colab": {
          "base_uri": "https://localhost:8080/"
        },
        "id": "z209CDBNSbEz",
        "outputId": "dcf0201f-249e-4528-d21f-681cd9f52ee0"
      },
      "execution_count": 89,
      "outputs": [
        {
          "output_type": "execute_result",
          "data": {
            "text/plain": [
              "Index(['zone_id', 'zone_name', 'borough', 'zone_geom', 'zone_name_borough'], dtype='object')"
            ]
          },
          "metadata": {},
          "execution_count": 89
        }
      ]
    },
    {
      "cell_type": "code",
      "source": [
        "zone = zone.drop(columns=['zone_name', 'borough', 'zone_geom'])"
      ],
      "metadata": {
        "id": "i_km7BBFScwu"
      },
      "execution_count": 90,
      "outputs": []
    },
    {
      "cell_type": "code",
      "source": [
        "zone.head()"
      ],
      "metadata": {
        "colab": {
          "base_uri": "https://localhost:8080/",
          "height": 206
        },
        "id": "CJ1ok-1tSfbC",
        "outputId": "d6c933a8-cb0e-4a0b-b9b3-dd860a0e3b39"
      },
      "execution_count": 91,
      "outputs": [
        {
          "output_type": "execute_result",
          "data": {
            "text/plain": [
              "  zone_id              zone_name_borough\n",
              "0       1             Newark Airport-EWR\n",
              "1       3  Allerton/Pelham Gardens-Bronx\n",
              "2      18             Bedford Park-Bronx\n",
              "3      20                  Belmont-Bronx\n",
              "4      31               Bronx Park-Bronx"
            ],
            "text/html": [
              "\n",
              "  <div id=\"df-0de14bcb-5b95-41a4-a204-3b2922ea4ff3\">\n",
              "    <div class=\"colab-df-container\">\n",
              "      <div>\n",
              "<style scoped>\n",
              "    .dataframe tbody tr th:only-of-type {\n",
              "        vertical-align: middle;\n",
              "    }\n",
              "\n",
              "    .dataframe tbody tr th {\n",
              "        vertical-align: top;\n",
              "    }\n",
              "\n",
              "    .dataframe thead th {\n",
              "        text-align: right;\n",
              "    }\n",
              "</style>\n",
              "<table border=\"1\" class=\"dataframe\">\n",
              "  <thead>\n",
              "    <tr style=\"text-align: right;\">\n",
              "      <th></th>\n",
              "      <th>zone_id</th>\n",
              "      <th>zone_name_borough</th>\n",
              "    </tr>\n",
              "  </thead>\n",
              "  <tbody>\n",
              "    <tr>\n",
              "      <th>0</th>\n",
              "      <td>1</td>\n",
              "      <td>Newark Airport-EWR</td>\n",
              "    </tr>\n",
              "    <tr>\n",
              "      <th>1</th>\n",
              "      <td>3</td>\n",
              "      <td>Allerton/Pelham Gardens-Bronx</td>\n",
              "    </tr>\n",
              "    <tr>\n",
              "      <th>2</th>\n",
              "      <td>18</td>\n",
              "      <td>Bedford Park-Bronx</td>\n",
              "    </tr>\n",
              "    <tr>\n",
              "      <th>3</th>\n",
              "      <td>20</td>\n",
              "      <td>Belmont-Bronx</td>\n",
              "    </tr>\n",
              "    <tr>\n",
              "      <th>4</th>\n",
              "      <td>31</td>\n",
              "      <td>Bronx Park-Bronx</td>\n",
              "    </tr>\n",
              "  </tbody>\n",
              "</table>\n",
              "</div>\n",
              "      <button class=\"colab-df-convert\" onclick=\"convertToInteractive('df-0de14bcb-5b95-41a4-a204-3b2922ea4ff3')\"\n",
              "              title=\"Convert this dataframe to an interactive table.\"\n",
              "              style=\"display:none;\">\n",
              "        \n",
              "  <svg xmlns=\"http://www.w3.org/2000/svg\" height=\"24px\"viewBox=\"0 0 24 24\"\n",
              "       width=\"24px\">\n",
              "    <path d=\"M0 0h24v24H0V0z\" fill=\"none\"/>\n",
              "    <path d=\"M18.56 5.44l.94 2.06.94-2.06 2.06-.94-2.06-.94-.94-2.06-.94 2.06-2.06.94zm-11 1L8.5 8.5l.94-2.06 2.06-.94-2.06-.94L8.5 2.5l-.94 2.06-2.06.94zm10 10l.94 2.06.94-2.06 2.06-.94-2.06-.94-.94-2.06-.94 2.06-2.06.94z\"/><path d=\"M17.41 7.96l-1.37-1.37c-.4-.4-.92-.59-1.43-.59-.52 0-1.04.2-1.43.59L10.3 9.45l-7.72 7.72c-.78.78-.78 2.05 0 2.83L4 21.41c.39.39.9.59 1.41.59.51 0 1.02-.2 1.41-.59l7.78-7.78 2.81-2.81c.8-.78.8-2.07 0-2.86zM5.41 20L4 18.59l7.72-7.72 1.47 1.35L5.41 20z\"/>\n",
              "  </svg>\n",
              "      </button>\n",
              "      \n",
              "  <style>\n",
              "    .colab-df-container {\n",
              "      display:flex;\n",
              "      flex-wrap:wrap;\n",
              "      gap: 12px;\n",
              "    }\n",
              "\n",
              "    .colab-df-convert {\n",
              "      background-color: #E8F0FE;\n",
              "      border: none;\n",
              "      border-radius: 50%;\n",
              "      cursor: pointer;\n",
              "      display: none;\n",
              "      fill: #1967D2;\n",
              "      height: 32px;\n",
              "      padding: 0 0 0 0;\n",
              "      width: 32px;\n",
              "    }\n",
              "\n",
              "    .colab-df-convert:hover {\n",
              "      background-color: #E2EBFA;\n",
              "      box-shadow: 0px 1px 2px rgba(60, 64, 67, 0.3), 0px 1px 3px 1px rgba(60, 64, 67, 0.15);\n",
              "      fill: #174EA6;\n",
              "    }\n",
              "\n",
              "    [theme=dark] .colab-df-convert {\n",
              "      background-color: #3B4455;\n",
              "      fill: #D2E3FC;\n",
              "    }\n",
              "\n",
              "    [theme=dark] .colab-df-convert:hover {\n",
              "      background-color: #434B5C;\n",
              "      box-shadow: 0px 1px 3px 1px rgba(0, 0, 0, 0.15);\n",
              "      filter: drop-shadow(0px 1px 2px rgba(0, 0, 0, 0.3));\n",
              "      fill: #FFFFFF;\n",
              "    }\n",
              "  </style>\n",
              "\n",
              "      <script>\n",
              "        const buttonEl =\n",
              "          document.querySelector('#df-0de14bcb-5b95-41a4-a204-3b2922ea4ff3 button.colab-df-convert');\n",
              "        buttonEl.style.display =\n",
              "          google.colab.kernel.accessAllowed ? 'block' : 'none';\n",
              "\n",
              "        async function convertToInteractive(key) {\n",
              "          const element = document.querySelector('#df-0de14bcb-5b95-41a4-a204-3b2922ea4ff3');\n",
              "          const dataTable =\n",
              "            await google.colab.kernel.invokeFunction('convertToInteractive',\n",
              "                                                     [key], {});\n",
              "          if (!dataTable) return;\n",
              "\n",
              "          const docLinkHtml = 'Like what you see? Visit the ' +\n",
              "            '<a target=\"_blank\" href=https://colab.research.google.com/notebooks/data_table.ipynb>data table notebook</a>'\n",
              "            + ' to learn more about interactive tables.';\n",
              "          element.innerHTML = '';\n",
              "          dataTable['output_type'] = 'display_data';\n",
              "          await google.colab.output.renderOutput(dataTable, element);\n",
              "          const docLink = document.createElement('div');\n",
              "          docLink.innerHTML = docLinkHtml;\n",
              "          element.appendChild(docLink);\n",
              "        }\n",
              "      </script>\n",
              "    </div>\n",
              "  </div>\n",
              "  "
            ]
          },
          "metadata": {},
          "execution_count": 91
        }
      ]
    },
    {
      "cell_type": "code",
      "source": [
        "'''merged_df = pd.merge(new_df, zone, how='left', left_on='Pick-up', right_on='zone_id')\n",
        "merged_df = pd.merge(merged_df, zone, how='left', left_on='Drop-off', right_on='zone_id')\n",
        "\n",
        "# keep only the desired columns\n",
        "merged_df = merged_df[['Pick-up', 'Drop-off', 'zone_name_borough', 'zone_name_borough_y']]\n",
        "\n",
        "# rename the columns\n",
        "merged_df.columns = ['Pick-up', 'Drop-off', 'pickup_location', 'dropoff_location']\n",
        "\n",
        "# show the resulting dataframe\n",
        "print(merged_df.head())'''"
      ],
      "metadata": {
        "colab": {
          "base_uri": "https://localhost:8080/",
          "height": 88
        },
        "id": "gJxggxv1SiVh",
        "outputId": "5b2c1fb4-3817-4b79-f176-6f29f48dd8f4"
      },
      "execution_count": 92,
      "outputs": [
        {
          "output_type": "execute_result",
          "data": {
            "text/plain": [
              "\"merged_df = pd.merge(new_df, zone, how='left', left_on='Pick-up', right_on='zone_id')\\nmerged_df = pd.merge(merged_df, zone, how='left', left_on='Drop-off', right_on='zone_id')\\n\\n# keep only the desired columns\\nmerged_df = merged_df[['Pick-up', 'Drop-off', 'zone_name_borough', 'zone_name_borough_y']]\\n\\n# rename the columns\\nmerged_df.columns = ['Pick-up', 'Drop-off', 'pickup_location', 'dropoff_location']\\n\\n# show the resulting dataframe\\nprint(merged_df.head())\""
            ],
            "application/vnd.google.colaboratory.intrinsic+json": {
              "type": "string"
            }
          },
          "metadata": {},
          "execution_count": 92
        }
      ]
    },
    {
      "cell_type": "code",
      "source": [
        "merged_df = pd.merge(new_df, zone, how='left', left_on='Pick-up', right_on='zone_id')\n"
      ],
      "metadata": {
        "id": "JV_NeH3dSsIM"
      },
      "execution_count": 93,
      "outputs": []
    },
    {
      "cell_type": "code",
      "source": [
        "merged_df"
      ],
      "metadata": {
        "colab": {
          "base_uri": "https://localhost:8080/",
          "height": 423
        },
        "id": "_9vZ17_zSuU8",
        "outputId": "031503dd-d6d5-457c-855f-08108d6c88f5"
      },
      "execution_count": 94,
      "outputs": [
        {
          "output_type": "execute_result",
          "data": {
            "text/plain": [
              "       Pick-up Drop-off zone_id                    zone_name_borough\n",
              "0           93       93      93  Flushing Meadows-Corona Park-Queens\n",
              "1          247      247     247                 West Concourse-Bronx\n",
              "2            7      193       7                       Astoria-Queens\n",
              "3          193      193     193       Queensbridge/Ravenswood-Queens\n",
              "4           93       93      93  Flushing Meadows-Corona Park-Queens\n",
              "...        ...      ...     ...                                  ...\n",
              "768775     116      239     116           Hamilton Heights-Manhattan\n",
              "768776     244      262     244   Washington Heights South-Manhattan\n",
              "768777      75      264      75          East Harlem South-Manhattan\n",
              "768778     226      137     226                     Sunnyside-Queens\n",
              "768779     236        4     236      Upper East Side North-Manhattan\n",
              "\n",
              "[768780 rows x 4 columns]"
            ],
            "text/html": [
              "\n",
              "  <div id=\"df-5673ae30-a048-4c63-8e52-8ed5c0304740\">\n",
              "    <div class=\"colab-df-container\">\n",
              "      <div>\n",
              "<style scoped>\n",
              "    .dataframe tbody tr th:only-of-type {\n",
              "        vertical-align: middle;\n",
              "    }\n",
              "\n",
              "    .dataframe tbody tr th {\n",
              "        vertical-align: top;\n",
              "    }\n",
              "\n",
              "    .dataframe thead th {\n",
              "        text-align: right;\n",
              "    }\n",
              "</style>\n",
              "<table border=\"1\" class=\"dataframe\">\n",
              "  <thead>\n",
              "    <tr style=\"text-align: right;\">\n",
              "      <th></th>\n",
              "      <th>Pick-up</th>\n",
              "      <th>Drop-off</th>\n",
              "      <th>zone_id</th>\n",
              "      <th>zone_name_borough</th>\n",
              "    </tr>\n",
              "  </thead>\n",
              "  <tbody>\n",
              "    <tr>\n",
              "      <th>0</th>\n",
              "      <td>93</td>\n",
              "      <td>93</td>\n",
              "      <td>93</td>\n",
              "      <td>Flushing Meadows-Corona Park-Queens</td>\n",
              "    </tr>\n",
              "    <tr>\n",
              "      <th>1</th>\n",
              "      <td>247</td>\n",
              "      <td>247</td>\n",
              "      <td>247</td>\n",
              "      <td>West Concourse-Bronx</td>\n",
              "    </tr>\n",
              "    <tr>\n",
              "      <th>2</th>\n",
              "      <td>7</td>\n",
              "      <td>193</td>\n",
              "      <td>7</td>\n",
              "      <td>Astoria-Queens</td>\n",
              "    </tr>\n",
              "    <tr>\n",
              "      <th>3</th>\n",
              "      <td>193</td>\n",
              "      <td>193</td>\n",
              "      <td>193</td>\n",
              "      <td>Queensbridge/Ravenswood-Queens</td>\n",
              "    </tr>\n",
              "    <tr>\n",
              "      <th>4</th>\n",
              "      <td>93</td>\n",
              "      <td>93</td>\n",
              "      <td>93</td>\n",
              "      <td>Flushing Meadows-Corona Park-Queens</td>\n",
              "    </tr>\n",
              "    <tr>\n",
              "      <th>...</th>\n",
              "      <td>...</td>\n",
              "      <td>...</td>\n",
              "      <td>...</td>\n",
              "      <td>...</td>\n",
              "    </tr>\n",
              "    <tr>\n",
              "      <th>768775</th>\n",
              "      <td>116</td>\n",
              "      <td>239</td>\n",
              "      <td>116</td>\n",
              "      <td>Hamilton Heights-Manhattan</td>\n",
              "    </tr>\n",
              "    <tr>\n",
              "      <th>768776</th>\n",
              "      <td>244</td>\n",
              "      <td>262</td>\n",
              "      <td>244</td>\n",
              "      <td>Washington Heights South-Manhattan</td>\n",
              "    </tr>\n",
              "    <tr>\n",
              "      <th>768777</th>\n",
              "      <td>75</td>\n",
              "      <td>264</td>\n",
              "      <td>75</td>\n",
              "      <td>East Harlem South-Manhattan</td>\n",
              "    </tr>\n",
              "    <tr>\n",
              "      <th>768778</th>\n",
              "      <td>226</td>\n",
              "      <td>137</td>\n",
              "      <td>226</td>\n",
              "      <td>Sunnyside-Queens</td>\n",
              "    </tr>\n",
              "    <tr>\n",
              "      <th>768779</th>\n",
              "      <td>236</td>\n",
              "      <td>4</td>\n",
              "      <td>236</td>\n",
              "      <td>Upper East Side North-Manhattan</td>\n",
              "    </tr>\n",
              "  </tbody>\n",
              "</table>\n",
              "<p>768780 rows × 4 columns</p>\n",
              "</div>\n",
              "      <button class=\"colab-df-convert\" onclick=\"convertToInteractive('df-5673ae30-a048-4c63-8e52-8ed5c0304740')\"\n",
              "              title=\"Convert this dataframe to an interactive table.\"\n",
              "              style=\"display:none;\">\n",
              "        \n",
              "  <svg xmlns=\"http://www.w3.org/2000/svg\" height=\"24px\"viewBox=\"0 0 24 24\"\n",
              "       width=\"24px\">\n",
              "    <path d=\"M0 0h24v24H0V0z\" fill=\"none\"/>\n",
              "    <path d=\"M18.56 5.44l.94 2.06.94-2.06 2.06-.94-2.06-.94-.94-2.06-.94 2.06-2.06.94zm-11 1L8.5 8.5l.94-2.06 2.06-.94-2.06-.94L8.5 2.5l-.94 2.06-2.06.94zm10 10l.94 2.06.94-2.06 2.06-.94-2.06-.94-.94-2.06-.94 2.06-2.06.94z\"/><path d=\"M17.41 7.96l-1.37-1.37c-.4-.4-.92-.59-1.43-.59-.52 0-1.04.2-1.43.59L10.3 9.45l-7.72 7.72c-.78.78-.78 2.05 0 2.83L4 21.41c.39.39.9.59 1.41.59.51 0 1.02-.2 1.41-.59l7.78-7.78 2.81-2.81c.8-.78.8-2.07 0-2.86zM5.41 20L4 18.59l7.72-7.72 1.47 1.35L5.41 20z\"/>\n",
              "  </svg>\n",
              "      </button>\n",
              "      \n",
              "  <style>\n",
              "    .colab-df-container {\n",
              "      display:flex;\n",
              "      flex-wrap:wrap;\n",
              "      gap: 12px;\n",
              "    }\n",
              "\n",
              "    .colab-df-convert {\n",
              "      background-color: #E8F0FE;\n",
              "      border: none;\n",
              "      border-radius: 50%;\n",
              "      cursor: pointer;\n",
              "      display: none;\n",
              "      fill: #1967D2;\n",
              "      height: 32px;\n",
              "      padding: 0 0 0 0;\n",
              "      width: 32px;\n",
              "    }\n",
              "\n",
              "    .colab-df-convert:hover {\n",
              "      background-color: #E2EBFA;\n",
              "      box-shadow: 0px 1px 2px rgba(60, 64, 67, 0.3), 0px 1px 3px 1px rgba(60, 64, 67, 0.15);\n",
              "      fill: #174EA6;\n",
              "    }\n",
              "\n",
              "    [theme=dark] .colab-df-convert {\n",
              "      background-color: #3B4455;\n",
              "      fill: #D2E3FC;\n",
              "    }\n",
              "\n",
              "    [theme=dark] .colab-df-convert:hover {\n",
              "      background-color: #434B5C;\n",
              "      box-shadow: 0px 1px 3px 1px rgba(0, 0, 0, 0.15);\n",
              "      filter: drop-shadow(0px 1px 2px rgba(0, 0, 0, 0.3));\n",
              "      fill: #FFFFFF;\n",
              "    }\n",
              "  </style>\n",
              "\n",
              "      <script>\n",
              "        const buttonEl =\n",
              "          document.querySelector('#df-5673ae30-a048-4c63-8e52-8ed5c0304740 button.colab-df-convert');\n",
              "        buttonEl.style.display =\n",
              "          google.colab.kernel.accessAllowed ? 'block' : 'none';\n",
              "\n",
              "        async function convertToInteractive(key) {\n",
              "          const element = document.querySelector('#df-5673ae30-a048-4c63-8e52-8ed5c0304740');\n",
              "          const dataTable =\n",
              "            await google.colab.kernel.invokeFunction('convertToInteractive',\n",
              "                                                     [key], {});\n",
              "          if (!dataTable) return;\n",
              "\n",
              "          const docLinkHtml = 'Like what you see? Visit the ' +\n",
              "            '<a target=\"_blank\" href=https://colab.research.google.com/notebooks/data_table.ipynb>data table notebook</a>'\n",
              "            + ' to learn more about interactive tables.';\n",
              "          element.innerHTML = '';\n",
              "          dataTable['output_type'] = 'display_data';\n",
              "          await google.colab.output.renderOutput(dataTable, element);\n",
              "          const docLink = document.createElement('div');\n",
              "          docLink.innerHTML = docLinkHtml;\n",
              "          element.appendChild(docLink);\n",
              "        }\n",
              "      </script>\n",
              "    </div>\n",
              "  </div>\n",
              "  "
            ]
          },
          "metadata": {},
          "execution_count": 94
        }
      ]
    },
    {
      "cell_type": "code",
      "source": [
        "merged_df = pd.merge(merged_df, zone, how='left', left_on='Drop-off', right_on='zone_id')"
      ],
      "metadata": {
        "id": "_WvoiOWmSxb4"
      },
      "execution_count": 95,
      "outputs": []
    },
    {
      "cell_type": "code",
      "source": [
        "merged_df = merged_df.drop(columns=['zone_id_x', 'zone_id_y'])"
      ],
      "metadata": {
        "id": "dOUriRyiSzSu"
      },
      "execution_count": 96,
      "outputs": []
    },
    {
      "cell_type": "code",
      "source": [
        "new_names = {'zone_name_borough_x': 'Pick-up_location', 'zone_name_borough_y': 'Drop-off_location'}\n",
        "location = merged_df.rename(columns=new_names)"
      ],
      "metadata": {
        "id": "sqGVXxDxS1of"
      },
      "execution_count": 97,
      "outputs": []
    },
    {
      "cell_type": "code",
      "source": [
        "trip_counts = location.groupby(['Pick-up_location', 'Drop-off_location']).size().reset_index(name='count')\n",
        "\n",
        "# Sort the trip counts in descending order\n",
        "trip_counts = trip_counts.sort_values(by='count', ascending=False)\n",
        "\n",
        "# Plot a bar chart of the top 10 pickup-dropoff pairs by trip count\n",
        "top_pairs = trip_counts.head(10)\n",
        "plt.bar(range(len(top_pairs)), top_pairs['count'])\n",
        "plt.xticks(range(len(top_pairs)), [f\"{pickup}\\n{dropoff}\" for pickup, dropoff in zip(top_pairs['Pick-up_location'], top_pairs['Drop-off_location'])])\n",
        "plt.xlabel('Pickup and Dropoff Locations')\n",
        "plt.ylabel('Number of Trips')\n",
        "plt.title('Top 10 Pickup-Dropoff Pairs by Trip Count')\n",
        "plt.xticks(rotation=90)\n",
        "plt.savefig('22.png', dpi=300, bbox_inches='tight')\n",
        "plt.show()"
      ],
      "metadata": {
        "colab": {
          "base_uri": "https://localhost:8080/",
          "height": 692
        },
        "id": "OwA2rexjS3Xc",
        "outputId": "574bbc49-e157-448f-d128-2ecd0b731d90"
      },
      "execution_count": 98,
      "outputs": [
        {
          "output_type": "display_data",
          "data": {
            "text/plain": [
              "<Figure size 640x480 with 1 Axes>"
            ],
            "image/png": "[encoded data removed]"
          },
          "metadata": {}
        }
      ]
    },
    {
      "cell_type": "code",
      "source": [
        "df1.time_between_service.isna()"
      ],
      "metadata": {
        "colab": {
          "base_uri": "https://localhost:8080/"
        },
        "id": "BH_ugQFiTB_Z",
        "outputId": "a25e7ea1-efa6-4bb0-d85d-b29c08c98719"
      },
      "execution_count": 99,
      "outputs": [
        {
          "output_type": "execute_result",
          "data": {
            "text/plain": [
              "0         True\n",
              "1         True\n",
              "2         True\n",
              "3         True\n",
              "4         True\n",
              "          ... \n",
              "767948    True\n",
              "767949    True\n",
              "767950    True\n",
              "767951    True\n",
              "767952    True\n",
              "Name: time_between_service, Length: 767953, dtype: bool"
            ]
          },
          "metadata": {},
          "execution_count": 99
        }
      ]
    },
    {
      "cell_type": "code",
      "source": [
        "df1.trip_type.unique()"
      ],
      "metadata": {
        "colab": {
          "base_uri": "https://localhost:8080/"
        },
        "id": "L7Z3iVdxTHs_",
        "outputId": "877d4daf-1418-4873-cabe-0ffa003d4d28"
      },
      "execution_count": 100,
      "outputs": [
        {
          "output_type": "execute_result",
          "data": {
            "text/plain": [
              "array(['2.0', '1.0', None], dtype=object)"
            ]
          },
          "metadata": {},
          "execution_count": 100
        }
      ]
    },
    {
      "cell_type": "code",
      "source": [
        "df1.trip_type.nunique()"
      ],
      "metadata": {
        "colab": {
          "base_uri": "https://localhost:8080/"
        },
        "id": "4FoHuYX7TIfa",
        "outputId": "1ed73b98-47e0-40e1-a0f2-d1751b487065"
      },
      "execution_count": 101,
      "outputs": [
        {
          "output_type": "execute_result",
          "data": {
            "text/plain": [
              "2"
            ]
          },
          "metadata": {},
          "execution_count": 101
        }
      ]
    },
    {
      "cell_type": "code",
      "source": [
        "df1.fare_amount.min()"
      ],
      "metadata": {
        "colab": {
          "base_uri": "https://localhost:8080/"
        },
        "id": "CwWJzwcKTNc2",
        "outputId": "e81a101e-15d1-4fda-ad85-70a188250c24"
      },
      "execution_count": 102,
      "outputs": [
        {
          "output_type": "execute_result",
          "data": {
            "text/plain": [
              "Decimal('-350.080000000')"
            ]
          },
          "metadata": {},
          "execution_count": 102
        }
      ]
    },
    {
      "cell_type": "code",
      "source": [
        "df1.total_amount.min()"
      ],
      "metadata": {
        "colab": {
          "base_uri": "https://localhost:8080/"
        },
        "id": "Jlb6b457TRGd",
        "outputId": "1bd6ec58-04ca-4a44-d346-b5b90e127d39"
      },
      "execution_count": 103,
      "outputs": [
        {
          "output_type": "execute_result",
          "data": {
            "text/plain": [
              "Decimal('-350.380000000')"
            ]
          },
          "metadata": {},
          "execution_count": 103
        }
      ]
    },
    {
      "cell_type": "code",
      "source": [
        "df1.total_amount.max()"
      ],
      "metadata": {
        "colab": {
          "base_uri": "https://localhost:8080/"
        },
        "id": "TdJrlUVmTNm5",
        "outputId": "36781b7a-c30e-4ff3-e3e3-89595b4a7c7e"
      },
      "execution_count": 104,
      "outputs": [
        {
          "output_type": "execute_result",
          "data": {
            "text/plain": [
              "Decimal('2021.000000000')"
            ]
          },
          "metadata": {},
          "execution_count": 104
        }
      ]
    },
    {
      "cell_type": "code",
      "source": [
        "df1.fare_amount.min()"
      ],
      "metadata": {
        "colab": {
          "base_uri": "https://localhost:8080/"
        },
        "id": "UzakrixRUK4x",
        "outputId": "278d9d10-3742-463a-82aa-d23faf9fc9d9"
      },
      "execution_count": 105,
      "outputs": [
        {
          "output_type": "execute_result",
          "data": {
            "text/plain": [
              "Decimal('-350.080000000')"
            ]
          },
          "metadata": {},
          "execution_count": 105
        }
      ]
    },
    {
      "cell_type": "code",
      "source": [
        "df1.passenger_count.min()"
      ],
      "metadata": {
        "colab": {
          "base_uri": "https://localhost:8080/"
        },
        "id": "D4VcQ1DhUK95",
        "outputId": "dd2c5884-cea2-48e6-d86f-4fc7c0d794d3"
      },
      "execution_count": 106,
      "outputs": [
        {
          "output_type": "execute_result",
          "data": {
            "text/plain": [
              "0"
            ]
          },
          "metadata": {},
          "execution_count": 106
        }
      ]
    },
    {
      "cell_type": "code",
      "source": [
        "df1 = df1[df1['passenger_count'] != 0]"
      ],
      "metadata": {
        "id": "pT1xINdjULAE"
      },
      "execution_count": 107,
      "outputs": []
    },
    {
      "cell_type": "code",
      "source": [
        "df1.passenger_count.unique()"
      ],
      "metadata": {
        "colab": {
          "base_uri": "https://localhost:8080/"
        },
        "id": "sqV-WMDfULCN",
        "outputId": "2ef0738f-d0db-44ee-ab29-b124ea02cb6e"
      },
      "execution_count": 108,
      "outputs": [
        {
          "output_type": "execute_result",
          "data": {
            "text/plain": [
              "<IntegerArray>\n",
              "[1, 2, 5, 3, 4, 6, 8, 9, 7]\n",
              "Length: 9, dtype: Int64"
            ]
          },
          "metadata": {},
          "execution_count": 108
        }
      ]
    },
    {
      "cell_type": "code",
      "source": [
        "monthly_stats = df1.groupby('data_file_month').agg({'fare_amount': 'sum', 'passenger_count': 'sum'})"
      ],
      "metadata": {
        "id": "tjZwnI1SULEh"
      },
      "execution_count": 109,
      "outputs": []
    },
    {
      "cell_type": "code",
      "source": [
        "monthly_stats.plot(kind='line', y='passenger_count',legend=True)\n",
        "\n",
        "plt.xlabel('Month')\n",
        "plt.ylabel('Passenger Count')\n",
        "plt.title('Monthly Trend of Passenger Count')\n",
        "plt.savefig('33.png', dpi=300, bbox_inches='tight')\n",
        "plt.show()"
      ],
      "metadata": {
        "colab": {
          "base_uri": "https://localhost:8080/",
          "height": 472
        },
        "id": "iT0X_jmeULGi",
        "outputId": "ab314300-dca9-436c-e96d-e2dd7fb3f69a"
      },
      "execution_count": 110,
      "outputs": [
        {
          "output_type": "display_data",
          "data": {
            "text/plain": [
              "<Figure size 640x480 with 1 Axes>"
            ],
            "image/png": "[encoded data removed]"
          },
          "metadata": {}
        }
      ]
    },
    {
      "cell_type": "code",
      "source": [
        "from google.cloud import bigquery\n",
        "#import db-dtypes\n",
        "import os\n",
        "import pandas as pd\n",
        "# Create a BigQuery client object\n",
        "#from pyspark.sql import SparkSession\n",
        "#from pyspark.ml.regression import LinearRegression\n",
        "#from pyspark.ml.feature import VectorAssembler\n",
        "\n",
        "os.environ[\"GOOGLE_APPLICATION_CREDENTIALS\"]= \"nifty-expanse-380117-34182b0834a5.json\"\n",
        "client = bigquery.Client()\n",
        "# Construct the SQL query to fetch data from a table in the database\n",
        "sql_query1 = \"\"\"SELECT * FROM `bigquery-public-data.new_york_taxi_trips.tlc_green_trips_2022`\"\"\"\n",
        "# Execute the query and fetch the results\n",
        "query_job = client.query(sql_query1)\n",
        "df1 = query_job.to_dataframe()\n"
      ],
      "metadata": {
        "id": "_ZAr_QZqULJI"
      },
      "execution_count": 111,
      "outputs": []
    },
    {
      "cell_type": "code",
      "source": [
        "df1 = df1[df1['total_amount'] >= 0]\n"
      ],
      "metadata": {
        "id": "QTYgLyE9ULLV"
      },
      "execution_count": 112,
      "outputs": []
    },
    {
      "cell_type": "code",
      "source": [
        "df1 = df1[df1['total_amount'] != 0E-9]"
      ],
      "metadata": {
        "id": "iefDh7DlULN2"
      },
      "execution_count": 113,
      "outputs": []
    },
    {
      "cell_type": "code",
      "source": [
        "df1 = df1[df1['total_amount'] >= 1]"
      ],
      "metadata": {
        "id": "JAlCPfkKULQk"
      },
      "execution_count": 114,
      "outputs": []
    },
    {
      "cell_type": "code",
      "source": [
        "df1.total_amount.mean()"
      ],
      "metadata": {
        "colab": {
          "base_uri": "https://localhost:8080/"
        },
        "id": "0KuNMIe5ULSr",
        "outputId": "e412236b-6b68-4977-d097-f5e0375f07bd"
      },
      "execution_count": 115,
      "outputs": [
        {
          "output_type": "execute_result",
          "data": {
            "text/plain": [
              "19.270617461428284"
            ]
          },
          "metadata": {},
          "execution_count": 115
        }
      ]
    },
    {
      "cell_type": "code",
      "source": [
        "df1.data_file_month.unique()"
      ],
      "metadata": {
        "colab": {
          "base_uri": "https://localhost:8080/"
        },
        "id": "udA9rTsRUjWQ",
        "outputId": "2446f9a0-ae7e-4ca6-b9fb-b38fa9bb7e4b"
      },
      "execution_count": 116,
      "outputs": [
        {
          "output_type": "execute_result",
          "data": {
            "text/plain": [
              "<IntegerArray>\n",
              "[9, 11, 10, 1, 2, 3, 4, 5, 6, 7, 8]\n",
              "Length: 11, dtype: Int64"
            ]
          },
          "metadata": {},
          "execution_count": 116
        }
      ]
    },
    {
      "cell_type": "code",
      "source": [
        "monthly_stats = df1.groupby('data_file_month').agg({'fare_amount': 'sum'})"
      ],
      "metadata": {
        "id": "XaN-WBcAUskV"
      },
      "execution_count": 117,
      "outputs": []
    },
    {
      "cell_type": "code",
      "source": [
        "monthly_stats['fare_amount'] = pd.to_numeric(monthly_stats['fare_amount'], errors='coerce')\n",
        "monthly_stats.plot(kind='line', y='fare_amount', legend=True)\n",
        "\n",
        "plt.xlabel('Month')\n",
        "plt.ylabel('Fare')\n",
        "plt.title('Monthly Trend of Fare')\n",
        "plt.savefig('44.png', dpi=300, bbox_inches='tight')\n",
        "plt.show()"
      ],
      "metadata": {
        "colab": {
          "base_uri": "https://localhost:8080/",
          "height": 472
        },
        "id": "UhK7PsyYUtyV",
        "outputId": "cf792125-f285-4f63-a4d1-7c6fa6f80526"
      },
      "execution_count": 118,
      "outputs": [
        {
          "output_type": "display_data",
          "data": {
            "text/plain": [
              "<Figure size 640x480 with 1 Axes>"
            ],
            "image/png": "[encoded data removed]"
          },
          "metadata": {}
        }
      ]
    },
    {
      "cell_type": "code",
      "source": [
        "from google.cloud import bigquery\n",
        "#import db-dtypes\n",
        "import os\n",
        "import pandas as pd\n",
        "# Create a BigQuery client object\n",
        "#from pyspark.sql import SparkSession\n",
        "#from pyspark.ml.regression import LinearRegression\n",
        "#from pyspark.ml.feature import VectorAssembler\n",
        "\n",
        "os.environ[\"GOOGLE_APPLICATION_CREDENTIALS\"]= \"nifty-expanse-380117-34182b0834a5.json\"\n",
        "client = bigquery.Client()\n",
        "# Construct the SQL query to fetch data from a table in the database\n",
        "sql_query1 = \"\"\"SELECT * FROM `bigquery-public-data.new_york_taxi_trips.tlc_green_trips_2022`\"\"\"\n",
        "# Execute the query and fetch the results\n",
        "query_job = client.query(sql_query1)\n",
        "df1 = query_job.to_dataframe()\n"
      ],
      "metadata": {
        "id": "lomS0UB1UxcK"
      },
      "execution_count": 119,
      "outputs": []
    },
    {
      "cell_type": "code",
      "source": [
        "df1.pickup_datetime"
      ],
      "metadata": {
        "colab": {
          "base_uri": "https://localhost:8080/"
        },
        "id": "iT7v00lzUzry",
        "outputId": "3b658145-3732-40c3-a486-87a725a114d0"
      },
      "execution_count": 120,
      "outputs": [
        {
          "output_type": "execute_result",
          "data": {
            "text/plain": [
              "0        2022-09-01 01:23:37+00:00\n",
              "1        2022-09-01 04:55:25+00:00\n",
              "2        2022-09-01 07:13:21+00:00\n",
              "3        2022-09-01 13:31:05+00:00\n",
              "4        2022-09-01 16:53:04+00:00\n",
              "                    ...           \n",
              "767948   2022-08-13 15:43:30+00:00\n",
              "767949   2022-08-08 14:40:05+00:00\n",
              "767950   2022-08-12 10:07:53+00:00\n",
              "767951   2022-08-14 17:45:32+00:00\n",
              "767952   2022-08-17 13:55:33+00:00\n",
              "Name: pickup_datetime, Length: 767953, dtype: datetime64[ns, UTC]"
            ]
          },
          "metadata": {},
          "execution_count": 120
        }
      ]
    },
    {
      "cell_type": "code",
      "source": [
        "import pandas as pd\n",
        "from datetime import datetime\n",
        "\n",
        "# Load the data into a pandas DataFrame\n",
        "#df1 = pd.read_csv('your_file.csv')\n",
        "\n",
        "# Convert the pickup_datetime column to a datetime object\n",
        "df1['pickup_datetime'] = pd.to_datetime(df1['pickup_datetime'])\n",
        "\n",
        "# Extract the pickup time as a separate column\n",
        "df1['pickup_time'] = df1['pickup_datetime'].apply(lambda x: datetime.strftime(x, '%H:%M:%S'))\n",
        "\n",
        "# Print the first few rows to verify the results\n",
        "print(df1.head())"
      ],
      "metadata": {
        "colab": {
          "base_uri": "https://localhost:8080/"
        },
        "id": "xf3kQ5D2U14N",
        "outputId": "59a9bcb4-3a6f-4f57-f349-573abe91843a"
      },
      "execution_count": 121,
      "outputs": [
        {
          "output_type": "stream",
          "name": "stdout",
          "text": [
            "  vendor_id           pickup_datetime          dropoff_datetime  \\\n",
            "0         1 2022-09-01 01:23:37+00:00 2022-09-01 01:24:08+00:00   \n",
            "1         1 2022-09-01 04:55:25+00:00 2022-09-01 04:55:33+00:00   \n",
            "2         2 2022-09-01 07:13:21+00:00 2022-09-01 07:14:15+00:00   \n",
            "3         2 2022-09-01 13:31:05+00:00 2022-09-01 13:31:30+00:00   \n",
            "4         1 2022-09-01 16:53:04+00:00 2022-09-01 16:53:34+00:00   \n",
            "\n",
            "  store_and_fwd_flag rate_code  passenger_count trip_distance fare_amount  \\\n",
            "0                  N       5.0                0   0.100000000        0E-9   \n",
            "1                  N       5.0                1          0E-9        0E-9   \n",
            "2                  N       1.0                1          0E-9        0E-9   \n",
            "3                  N       1.0                1          0E-9        0E-9   \n",
            "4                  N       5.0                1   0.100000000        0E-9   \n",
            "\n",
            "  extra mta_tax  ... payment_type distance_between_service  \\\n",
            "0  0E-9    0E-9  ...          3.0                     None   \n",
            "1  0E-9    0E-9  ...          3.0                     None   \n",
            "2  0E-9    0E-9  ...          1.0                     None   \n",
            "3  0E-9    0E-9  ...          1.0                     None   \n",
            "4  0E-9    0E-9  ...          3.0                     None   \n",
            "\n",
            "  time_between_service trip_type imp_surcharge pickup_location_id  \\\n",
            "0                 <NA>       2.0          0E-9                 93   \n",
            "1                 <NA>       2.0          0E-9                247   \n",
            "2                 <NA>       1.0          0E-9                  7   \n",
            "3                 <NA>       1.0          0E-9                193   \n",
            "4                 <NA>       2.0          0E-9                 93   \n",
            "\n",
            "  dropoff_location_id  data_file_year data_file_month pickup_time  \n",
            "0                  93            2022               9    01:23:37  \n",
            "1                 247            2022               9    04:55:25  \n",
            "2                 193            2022               9    07:13:21  \n",
            "3                 193            2022               9    13:31:05  \n",
            "4                  93            2022               9    16:53:04  \n",
            "\n",
            "[5 rows x 25 columns]\n"
          ]
        }
      ]
    },
    {
      "cell_type": "code",
      "source": [
        "df1.head()"
      ],
      "metadata": {
        "colab": {
          "base_uri": "https://localhost:8080/",
          "height": 386
        },
        "id": "3DjlRttbU6_f",
        "outputId": "599684d0-0c46-4f16-f620-8b313775f27e"
      },
      "execution_count": 122,
      "outputs": [
        {
          "output_type": "execute_result",
          "data": {
            "text/plain": [
              "  vendor_id           pickup_datetime          dropoff_datetime  \\\n",
              "0         1 2022-09-01 01:23:37+00:00 2022-09-01 01:24:08+00:00   \n",
              "1         1 2022-09-01 04:55:25+00:00 2022-09-01 04:55:33+00:00   \n",
              "2         2 2022-09-01 07:13:21+00:00 2022-09-01 07:14:15+00:00   \n",
              "3         2 2022-09-01 13:31:05+00:00 2022-09-01 13:31:30+00:00   \n",
              "4         1 2022-09-01 16:53:04+00:00 2022-09-01 16:53:34+00:00   \n",
              "\n",
              "  store_and_fwd_flag rate_code  passenger_count trip_distance fare_amount  \\\n",
              "0                  N       5.0                0   0.100000000        0E-9   \n",
              "1                  N       5.0                1          0E-9        0E-9   \n",
              "2                  N       1.0                1          0E-9        0E-9   \n",
              "3                  N       1.0                1          0E-9        0E-9   \n",
              "4                  N       5.0                1   0.100000000        0E-9   \n",
              "\n",
              "  extra mta_tax  ... payment_type distance_between_service  \\\n",
              "0  0E-9    0E-9  ...          3.0                     None   \n",
              "1  0E-9    0E-9  ...          3.0                     None   \n",
              "2  0E-9    0E-9  ...          1.0                     None   \n",
              "3  0E-9    0E-9  ...          1.0                     None   \n",
              "4  0E-9    0E-9  ...          3.0                     None   \n",
              "\n",
              "  time_between_service trip_type imp_surcharge pickup_location_id  \\\n",
              "0                 <NA>       2.0          0E-9                 93   \n",
              "1                 <NA>       2.0          0E-9                247   \n",
              "2                 <NA>       1.0          0E-9                  7   \n",
              "3                 <NA>       1.0          0E-9                193   \n",
              "4                 <NA>       2.0          0E-9                 93   \n",
              "\n",
              "  dropoff_location_id  data_file_year data_file_month pickup_time  \n",
              "0                  93            2022               9    01:23:37  \n",
              "1                 247            2022               9    04:55:25  \n",
              "2                 193            2022               9    07:13:21  \n",
              "3                 193            2022               9    13:31:05  \n",
              "4                  93            2022               9    16:53:04  \n",
              "\n",
              "[5 rows x 25 columns]"
            ],
            "text/html": [
              "\n",
              "  <div id=\"df-2f0f2984-6af1-4d97-976f-4feb77e3aaba\">\n",
              "    <div class=\"colab-df-container\">\n",
              "      <div>\n",
              "<style scoped>\n",
              "    .dataframe tbody tr th:only-of-type {\n",
              "        vertical-align: middle;\n",
              "    }\n",
              "\n",
              "    .dataframe tbody tr th {\n",
              "        vertical-align: top;\n",
              "    }\n",
              "\n",
              "    .dataframe thead th {\n",
              "        text-align: right;\n",
              "    }\n",
              "</style>\n",
              "<table border=\"1\" class=\"dataframe\">\n",
              "  <thead>\n",
              "    <tr style=\"text-align: right;\">\n",
              "      <th></th>\n",
              "      <th>vendor_id</th>\n",
              "      <th>pickup_datetime</th>\n",
              "      <th>dropoff_datetime</th>\n",
              "      <th>store_and_fwd_flag</th>\n",
              "      <th>rate_code</th>\n",
              "      <th>passenger_count</th>\n",
              "      <th>trip_distance</th>\n",
              "      <th>fare_amount</th>\n",
              "      <th>extra</th>\n",
              "      <th>mta_tax</th>\n",
              "      <th>...</th>\n",
              "      <th>payment_type</th>\n",
              "      <th>distance_between_service</th>\n",
              "      <th>time_between_service</th>\n",
              "      <th>trip_type</th>\n",
              "      <th>imp_surcharge</th>\n",
              "      <th>pickup_location_id</th>\n",
              "      <th>dropoff_location_id</th>\n",
              "      <th>data_file_year</th>\n",
              "      <th>data_file_month</th>\n",
              "      <th>pickup_time</th>\n",
              "    </tr>\n",
              "  </thead>\n",
              "  <tbody>\n",
              "    <tr>\n",
              "      <th>0</th>\n",
              "      <td>1</td>\n",
              "      <td>2022-09-01 01:23:37+00:00</td>\n",
              "      <td>2022-09-01 01:24:08+00:00</td>\n",
              "      <td>N</td>\n",
              "      <td>5.0</td>\n",
              "      <td>0</td>\n",
              "      <td>0.100000000</td>\n",
              "      <td>0E-9</td>\n",
              "      <td>0E-9</td>\n",
              "      <td>0E-9</td>\n",
              "      <td>...</td>\n",
              "      <td>3.0</td>\n",
              "      <td>None</td>\n",
              "      <td>&lt;NA&gt;</td>\n",
              "      <td>2.0</td>\n",
              "      <td>0E-9</td>\n",
              "      <td>93</td>\n",
              "      <td>93</td>\n",
              "      <td>2022</td>\n",
              "      <td>9</td>\n",
              "      <td>01:23:37</td>\n",
              "    </tr>\n",
              "    <tr>\n",
              "      <th>1</th>\n",
              "      <td>1</td>\n",
              "      <td>2022-09-01 04:55:25+00:00</td>\n",
              "      <td>2022-09-01 04:55:33+00:00</td>\n",
              "      <td>N</td>\n",
              "      <td>5.0</td>\n",
              "      <td>1</td>\n",
              "      <td>0E-9</td>\n",
              "      <td>0E-9</td>\n",
              "      <td>0E-9</td>\n",
              "      <td>0E-9</td>\n",
              "      <td>...</td>\n",
              "      <td>3.0</td>\n",
              "      <td>None</td>\n",
              "      <td>&lt;NA&gt;</td>\n",
              "      <td>2.0</td>\n",
              "      <td>0E-9</td>\n",
              "      <td>247</td>\n",
              "      <td>247</td>\n",
              "      <td>2022</td>\n",
              "      <td>9</td>\n",
              "      <td>04:55:25</td>\n",
              "    </tr>\n",
              "    <tr>\n",
              "      <th>2</th>\n",
              "      <td>2</td>\n",
              "      <td>2022-09-01 07:13:21+00:00</td>\n",
              "      <td>2022-09-01 07:14:15+00:00</td>\n",
              "      <td>N</td>\n",
              "      <td>1.0</td>\n",
              "      <td>1</td>\n",
              "      <td>0E-9</td>\n",
              "      <td>0E-9</td>\n",
              "      <td>0E-9</td>\n",
              "      <td>0E-9</td>\n",
              "      <td>...</td>\n",
              "      <td>1.0</td>\n",
              "      <td>None</td>\n",
              "      <td>&lt;NA&gt;</td>\n",
              "      <td>1.0</td>\n",
              "      <td>0E-9</td>\n",
              "      <td>7</td>\n",
              "      <td>193</td>\n",
              "      <td>2022</td>\n",
              "      <td>9</td>\n",
              "      <td>07:13:21</td>\n",
              "    </tr>\n",
              "    <tr>\n",
              "      <th>3</th>\n",
              "      <td>2</td>\n",
              "      <td>2022-09-01 13:31:05+00:00</td>\n",
              "      <td>2022-09-01 13:31:30+00:00</td>\n",
              "      <td>N</td>\n",
              "      <td>1.0</td>\n",
              "      <td>1</td>\n",
              "      <td>0E-9</td>\n",
              "      <td>0E-9</td>\n",
              "      <td>0E-9</td>\n",
              "      <td>0E-9</td>\n",
              "      <td>...</td>\n",
              "      <td>1.0</td>\n",
              "      <td>None</td>\n",
              "      <td>&lt;NA&gt;</td>\n",
              "      <td>1.0</td>\n",
              "      <td>0E-9</td>\n",
              "      <td>193</td>\n",
              "      <td>193</td>\n",
              "      <td>2022</td>\n",
              "      <td>9</td>\n",
              "      <td>13:31:05</td>\n",
              "    </tr>\n",
              "    <tr>\n",
              "      <th>4</th>\n",
              "      <td>1</td>\n",
              "      <td>2022-09-01 16:53:04+00:00</td>\n",
              "      <td>2022-09-01 16:53:34+00:00</td>\n",
              "      <td>N</td>\n",
              "      <td>5.0</td>\n",
              "      <td>1</td>\n",
              "      <td>0.100000000</td>\n",
              "      <td>0E-9</td>\n",
              "      <td>0E-9</td>\n",
              "      <td>0E-9</td>\n",
              "      <td>...</td>\n",
              "      <td>3.0</td>\n",
              "      <td>None</td>\n",
              "      <td>&lt;NA&gt;</td>\n",
              "      <td>2.0</td>\n",
              "      <td>0E-9</td>\n",
              "      <td>93</td>\n",
              "      <td>93</td>\n",
              "      <td>2022</td>\n",
              "      <td>9</td>\n",
              "      <td>16:53:04</td>\n",
              "    </tr>\n",
              "  </tbody>\n",
              "</table>\n",
              "<p>5 rows × 25 columns</p>\n",
              "</div>\n",
              "      <button class=\"colab-df-convert\" onclick=\"convertToInteractive('df-2f0f2984-6af1-4d97-976f-4feb77e3aaba')\"\n",
              "              title=\"Convert this dataframe to an interactive table.\"\n",
              "              style=\"display:none;\">\n",
              "        \n",
              "  <svg xmlns=\"http://www.w3.org/2000/svg\" height=\"24px\"viewBox=\"0 0 24 24\"\n",
              "       width=\"24px\">\n",
              "    <path d=\"M0 0h24v24H0V0z\" fill=\"none\"/>\n",
              "    <path d=\"M18.56 5.44l.94 2.06.94-2.06 2.06-.94-2.06-.94-.94-2.06-.94 2.06-2.06.94zm-11 1L8.5 8.5l.94-2.06 2.06-.94-2.06-.94L8.5 2.5l-.94 2.06-2.06.94zm10 10l.94 2.06.94-2.06 2.06-.94-2.06-.94-.94-2.06-.94 2.06-2.06.94z\"/><path d=\"M17.41 7.96l-1.37-1.37c-.4-.4-.92-.59-1.43-.59-.52 0-1.04.2-1.43.59L10.3 9.45l-7.72 7.72c-.78.78-.78 2.05 0 2.83L4 21.41c.39.39.9.59 1.41.59.51 0 1.02-.2 1.41-.59l7.78-7.78 2.81-2.81c.8-.78.8-2.07 0-2.86zM5.41 20L4 18.59l7.72-7.72 1.47 1.35L5.41 20z\"/>\n",
              "  </svg>\n",
              "      </button>\n",
              "      \n",
              "  <style>\n",
              "    .colab-df-container {\n",
              "      display:flex;\n",
              "      flex-wrap:wrap;\n",
              "      gap: 12px;\n",
              "    }\n",
              "\n",
              "    .colab-df-convert {\n",
              "      background-color: #E8F0FE;\n",
              "      border: none;\n",
              "      border-radius: 50%;\n",
              "      cursor: pointer;\n",
              "      display: none;\n",
              "      fill: #1967D2;\n",
              "      height: 32px;\n",
              "      padding: 0 0 0 0;\n",
              "      width: 32px;\n",
              "    }\n",
              "\n",
              "    .colab-df-convert:hover {\n",
              "      background-color: #E2EBFA;\n",
              "      box-shadow: 0px 1px 2px rgba(60, 64, 67, 0.3), 0px 1px 3px 1px rgba(60, 64, 67, 0.15);\n",
              "      fill: #174EA6;\n",
              "    }\n",
              "\n",
              "    [theme=dark] .colab-df-convert {\n",
              "      background-color: #3B4455;\n",
              "      fill: #D2E3FC;\n",
              "    }\n",
              "\n",
              "    [theme=dark] .colab-df-convert:hover {\n",
              "      background-color: #434B5C;\n",
              "      box-shadow: 0px 1px 3px 1px rgba(0, 0, 0, 0.15);\n",
              "      filter: drop-shadow(0px 1px 2px rgba(0, 0, 0, 0.3));\n",
              "      fill: #FFFFFF;\n",
              "    }\n",
              "  </style>\n",
              "\n",
              "      <script>\n",
              "        const buttonEl =\n",
              "          document.querySelector('#df-2f0f2984-6af1-4d97-976f-4feb77e3aaba button.colab-df-convert');\n",
              "        buttonEl.style.display =\n",
              "          google.colab.kernel.accessAllowed ? 'block' : 'none';\n",
              "\n",
              "        async function convertToInteractive(key) {\n",
              "          const element = document.querySelector('#df-2f0f2984-6af1-4d97-976f-4feb77e3aaba');\n",
              "          const dataTable =\n",
              "            await google.colab.kernel.invokeFunction('convertToInteractive',\n",
              "                                                     [key], {});\n",
              "          if (!dataTable) return;\n",
              "\n",
              "          const docLinkHtml = 'Like what you see? Visit the ' +\n",
              "            '<a target=\"_blank\" href=https://colab.research.google.com/notebooks/data_table.ipynb>data table notebook</a>'\n",
              "            + ' to learn more about interactive tables.';\n",
              "          element.innerHTML = '';\n",
              "          dataTable['output_type'] = 'display_data';\n",
              "          await google.colab.output.renderOutput(dataTable, element);\n",
              "          const docLink = document.createElement('div');\n",
              "          docLink.innerHTML = docLinkHtml;\n",
              "          element.appendChild(docLink);\n",
              "        }\n",
              "      </script>\n",
              "    </div>\n",
              "  </div>\n",
              "  "
            ]
          },
          "metadata": {},
          "execution_count": 122
        }
      ]
    },
    {
      "cell_type": "code",
      "source": [
        "# Create a new column indicating if pickup_time is at night or during the day\n",
        "df1['pickup_time_period'] = df1['pickup_datetime'].apply(lambda x: 'night' if ((x.hour >= 20) or (x.hour < 8)) else 'day')\n",
        "\n",
        "# Print the first few rows to verify the results\n",
        "print(df1.head())\n"
      ],
      "metadata": {
        "colab": {
          "base_uri": "https://localhost:8080/"
        },
        "id": "RSC-uVUyU-OH",
        "outputId": "e25a8cbb-f0e1-438b-e9ac-6d361062bdd7"
      },
      "execution_count": 123,
      "outputs": [
        {
          "output_type": "stream",
          "name": "stdout",
          "text": [
            "  vendor_id           pickup_datetime          dropoff_datetime  \\\n",
            "0         1 2022-09-01 01:23:37+00:00 2022-09-01 01:24:08+00:00   \n",
            "1         1 2022-09-01 04:55:25+00:00 2022-09-01 04:55:33+00:00   \n",
            "2         2 2022-09-01 07:13:21+00:00 2022-09-01 07:14:15+00:00   \n",
            "3         2 2022-09-01 13:31:05+00:00 2022-09-01 13:31:30+00:00   \n",
            "4         1 2022-09-01 16:53:04+00:00 2022-09-01 16:53:34+00:00   \n",
            "\n",
            "  store_and_fwd_flag rate_code  passenger_count trip_distance fare_amount  \\\n",
            "0                  N       5.0                0   0.100000000        0E-9   \n",
            "1                  N       5.0                1          0E-9        0E-9   \n",
            "2                  N       1.0                1          0E-9        0E-9   \n",
            "3                  N       1.0                1          0E-9        0E-9   \n",
            "4                  N       5.0                1   0.100000000        0E-9   \n",
            "\n",
            "  extra mta_tax  ... distance_between_service time_between_service trip_type  \\\n",
            "0  0E-9    0E-9  ...                     None                 <NA>       2.0   \n",
            "1  0E-9    0E-9  ...                     None                 <NA>       2.0   \n",
            "2  0E-9    0E-9  ...                     None                 <NA>       1.0   \n",
            "3  0E-9    0E-9  ...                     None                 <NA>       1.0   \n",
            "4  0E-9    0E-9  ...                     None                 <NA>       2.0   \n",
            "\n",
            "  imp_surcharge pickup_location_id dropoff_location_id data_file_year  \\\n",
            "0          0E-9                 93                  93           2022   \n",
            "1          0E-9                247                 247           2022   \n",
            "2          0E-9                  7                 193           2022   \n",
            "3          0E-9                193                 193           2022   \n",
            "4          0E-9                 93                  93           2022   \n",
            "\n",
            "   data_file_month pickup_time pickup_time_period  \n",
            "0                9    01:23:37              night  \n",
            "1                9    04:55:25              night  \n",
            "2                9    07:13:21              night  \n",
            "3                9    13:31:05                day  \n",
            "4                9    16:53:04                day  \n",
            "\n",
            "[5 rows x 26 columns]\n"
          ]
        }
      ]
    },
    {
      "cell_type": "code",
      "source": [
        "import matplotlib.pyplot as plt\n",
        "\n",
        "# Calculate the average fare amount by pickup time period\n",
        "fare_by_time_period = df1.groupby('pickup_time_period')['fare_amount'].mean()\n",
        "\n",
        "# Print the average fare amount by pickup time period\n",
        "print(\"Average Fare Amount by Pickup Time Period:\")\n",
        "print(fare_by_time_period)\n",
        "\n",
        "# Create a bar plot of average fare amount by pickup time period\n",
        "plt.bar(fare_by_time_period.index, fare_by_time_period.values)\n",
        "\n",
        "# Set the plot title and axis labels\n",
        "plt.title('Average Fare Amount by Pickup Time Period')\n",
        "plt.xlabel('Pickup Time Period')\n",
        "plt.ylabel('Average Fare Amount')\n",
        "plt.savefig('55.png', dpi=300, bbox_inches='tight')\n",
        "# Show the plot\n",
        "plt.show()\n"
      ],
      "metadata": {
        "colab": {
          "base_uri": "https://localhost:8080/",
          "height": 559
        },
        "id": "l21KTSR_U_1Z",
        "outputId": "bc6256da-a193-40d6-dc9f-fd416cd81d27"
      },
      "execution_count": 124,
      "outputs": [
        {
          "output_type": "stream",
          "name": "stdout",
          "text": [
            "Average Fare Amount by Pickup Time Period:\n",
            "pickup_time_period\n",
            "day      14.856421\n",
            "night    16.140022\n",
            "Name: fare_amount, dtype: float64\n"
          ]
        },
        {
          "output_type": "display_data",
          "data": {
            "text/plain": [
              "<Figure size 640x480 with 1 Axes>"
            ],
            "image/png": "[encoded data removed]"
          },
          "metadata": {}
        }
      ]
    },
    {
      "cell_type": "code",
      "source": [
        "# Create a new column to extract the hour component of pickup_datetime\n",
        "df1['pickup_hour'] = df1['pickup_datetime'].apply(lambda x: x.hour)\n",
        "\n",
        "# Calculate the total fare amount earned for each pickup hour\n",
        "fare_by_hour = df1.groupby('pickup_hour')['fare_amount'].sum()\n",
        "\n",
        "# Create a bar plot of total fare amount earned by pickup hour\n",
        "plt.bar(fare_by_hour.index, fare_by_hour.values)\n",
        "\n",
        "# Set the plot title and axis labels\n",
        "plt.title('Total Fare Amount Earned by Pickup Hour')\n",
        "plt.xlabel('Pickup Hour')\n",
        "plt.ylabel('Total Fare Amount')\n",
        "\n",
        "plt.savefig('66.png', dpi=300, bbox_inches='tight')\n",
        "\n",
        "\n",
        "# Show the plot\n",
        "plt.show()\n"
      ],
      "metadata": {
        "colab": {
          "base_uri": "https://localhost:8080/",
          "height": 472
        },
        "id": "UcgjadkRVEXG",
        "outputId": "7b79ce0f-674e-49b2-9f4b-9a20f204c21a"
      },
      "execution_count": 125,
      "outputs": [
        {
          "output_type": "display_data",
          "data": {
            "text/plain": [
              "<Figure size 640x480 with 1 Axes>"
            ],
            "image/png": "[encoded data removed]"
          },
          "metadata": {}
        }
      ]
    },
    {
      "cell_type": "code",
      "source": [
        "df1.columns"
      ],
      "metadata": {
        "id": "lHlWjFcMVAqh",
        "colab": {
          "base_uri": "https://localhost:8080/"
        },
        "outputId": "33f2cfcd-aed1-4ece-ade4-55bba507182b"
      },
      "execution_count": 126,
      "outputs": [
        {
          "output_type": "execute_result",
          "data": {
            "text/plain": [
              "Index(['vendor_id', 'pickup_datetime', 'dropoff_datetime',\n",
              "       'store_and_fwd_flag', 'rate_code', 'passenger_count', 'trip_distance',\n",
              "       'fare_amount', 'extra', 'mta_tax', 'tip_amount', 'tolls_amount',\n",
              "       'ehail_fee', 'airport_fee', 'total_amount', 'payment_type',\n",
              "       'distance_between_service', 'time_between_service', 'trip_type',\n",
              "       'imp_surcharge', 'pickup_location_id', 'dropoff_location_id',\n",
              "       'data_file_year', 'data_file_month', 'pickup_time',\n",
              "       'pickup_time_period', 'pickup_hour'],\n",
              "      dtype='object')"
            ]
          },
          "metadata": {},
          "execution_count": 126
        }
      ]
    },
    {
      "cell_type": "code",
      "source": [
        "# Example code\n",
        "import pandas as pd\n",
        "import matplotlib.pyplot as plt\n",
        "\n",
        "# Load NYC taxi fare data into a dataframe (replace 'filename.csv' with your actual filename)\n",
        "#df = pd.read_csv('filename.csv')\n",
        "\n",
        "# Count the number of occurrences of each payment type\n",
        "payment_counts = df1['payment_type'].value_counts()\n",
        "\n",
        "# Create a pie chart showing the distribution of payment types\n",
        "plt.pie(payment_counts, labels=payment_counts.index, autopct='%1.1f%%')\n",
        "plt.title('Distribution of Payment Types')\n",
        "\n",
        "# Add a legend to the chart with percentage values\n",
        "plt.legend(title='Payment Types', loc='best', bbox_to_anchor=(1, 0, 0.5, 1),\n",
        "           labels=['{} ({:.1f}%)'.format(i,j*100/sum(payment_counts)) for i,j in payment_counts.items()])\n",
        "\n",
        "plt.axis('equal')  # Equal aspect ratio ensures that pie is drawn as a circle\n",
        "plt.savefig('77.png', dpi=300, bbox_inches='tight')\n",
        "plt.show()\n"
      ],
      "metadata": {
        "colab": {
          "base_uri": "https://localhost:8080/",
          "height": 428
        },
        "id": "2nLSU5ReaJ6z",
        "outputId": "ae721324-eb6c-40fe-d844-50c9cda4d76c"
      },
      "execution_count": 127,
      "outputs": [
        {
          "output_type": "display_data",
          "data": {
            "text/plain": [
              "<Figure size 640x480 with 1 Axes>"
            ],
            "image/png": "[encoded data removed]"
          },
          "metadata": {}
        }
      ]
    }
  ]
}