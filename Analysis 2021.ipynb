{
  "nbformat": 4,
  "nbformat_minor": 0,
  "metadata": {
    "colab": {
      "provenance": []
    },
    "kernelspec": {
      "name": "python3",
      "display_name": "Python 3"
    },
    "language_info": {
      "name": "python"
    }
  },
  "cells": [
    {
      "cell_type": "code",
      "execution_count": 86,
      "metadata": {
        "id": "0mSKsGaMNFZD"
      },
      "outputs": [],
      "source": [
        "from google.cloud import bigquery\n",
        "#import db-dtypes\n",
        "import os\n",
        "import pandas as pd\n",
        "# Create a BigQuery client object\n",
        "#from pyspark.sql import SparkSession\n",
        "#from pyspark.ml.regression import LinearRegression\n",
        "#from pyspark.ml.feature import VectorAssembler\n",
        "\n",
        "os.environ[\"GOOGLE_APPLICATION_CREDENTIALS\"]= \"nifty-expanse-380117-34182b0834a5.json\"\n",
        "client = bigquery.Client()\n",
        "# Construct the SQL query to fetch data from a table in the database\n",
        "sql_query1 = \"\"\"SELECT * FROM `bigquery-public-data.new_york_taxi_trips.tlc_green_trips_2021`\"\"\"\n",
        "# Execute the query and fetch the results\n",
        "query_job = client.query(sql_query1)\n",
        "df1 = query_job.to_dataframe()\n",
        "\n",
        "\n"
      ]
    },
    {
      "cell_type": "code",
      "source": [
        "df1.shape"
      ],
      "metadata": {
        "colab": {
          "base_uri": "https://localhost:8080/"
        },
        "id": "bavFmsNGPEk2",
        "outputId": "8e5adec4-9cd1-4fb0-97c3-307bf1676880"
      },
      "execution_count": 87,
      "outputs": [
        {
          "output_type": "execute_result",
          "data": {
            "text/plain": [
              "(1068744, 24)"
            ]
          },
          "metadata": {},
          "execution_count": 87
        }
      ]
    },
    {
      "cell_type": "code",
      "source": [
        "df1.columns"
      ],
      "metadata": {
        "colab": {
          "base_uri": "https://localhost:8080/"
        },
        "id": "bOcYcGKJPrgw",
        "outputId": "aa8fd363-83ba-41d8-8caf-5e1d785c1ed5"
      },
      "execution_count": 88,
      "outputs": [
        {
          "output_type": "execute_result",
          "data": {
            "text/plain": [
              "Index(['vendor_id', 'pickup_datetime', 'dropoff_datetime',\n",
              "       'store_and_fwd_flag', 'rate_code', 'passenger_count', 'trip_distance',\n",
              "       'fare_amount', 'extra', 'mta_tax', 'tip_amount', 'tolls_amount',\n",
              "       'ehail_fee', 'airport_fee', 'total_amount', 'payment_type',\n",
              "       'distance_between_service', 'time_between_service', 'trip_type',\n",
              "       'imp_surcharge', 'pickup_location_id', 'dropoff_location_id',\n",
              "       'data_file_year', 'data_file_month'],\n",
              "      dtype='object')"
            ]
          },
          "metadata": {},
          "execution_count": 88
        }
      ]
    },
    {
      "cell_type": "code",
      "source": [
        "df1.dtypes"
      ],
      "metadata": {
        "colab": {
          "base_uri": "https://localhost:8080/"
        },
        "id": "mVSJK6o_PHbl",
        "outputId": "a8aa72d1-e1f6-4aa2-fce1-d73e205ece0c"
      },
      "execution_count": 89,
      "outputs": [
        {
          "output_type": "execute_result",
          "data": {
            "text/plain": [
              "vendor_id                                object\n",
              "pickup_datetime             datetime64[ns, UTC]\n",
              "dropoff_datetime            datetime64[ns, UTC]\n",
              "store_and_fwd_flag                       object\n",
              "rate_code                                object\n",
              "passenger_count                           Int64\n",
              "trip_distance                            object\n",
              "fare_amount                              object\n",
              "extra                                    object\n",
              "mta_tax                                  object\n",
              "tip_amount                               object\n",
              "tolls_amount                             object\n",
              "ehail_fee                                object\n",
              "airport_fee                              object\n",
              "total_amount                             object\n",
              "payment_type                             object\n",
              "distance_between_service                 object\n",
              "time_between_service                      Int64\n",
              "trip_type                                object\n",
              "imp_surcharge                            object\n",
              "pickup_location_id                       object\n",
              "dropoff_location_id                      object\n",
              "data_file_year                            Int64\n",
              "data_file_month                           Int64\n",
              "dtype: object"
            ]
          },
          "metadata": {},
          "execution_count": 89
        }
      ]
    },
    {
      "cell_type": "code",
      "source": [
        "df1.passenger_count.isna().sum()"
      ],
      "metadata": {
        "colab": {
          "base_uri": "https://localhost:8080/"
        },
        "id": "AbRlsB5vPyp7",
        "outputId": "809aafd7-fcbf-477b-80af-c8b7851054d3"
      },
      "execution_count": 90,
      "outputs": [
        {
          "output_type": "execute_result",
          "data": {
            "text/plain": [
              "412434"
            ]
          },
          "metadata": {},
          "execution_count": 90
        }
      ]
    },
    {
      "cell_type": "code",
      "source": [
        "df1.dropna(subset=['passenger_count'], inplace=True)\n"
      ],
      "metadata": {
        "id": "ZuLdvXMeP-w4"
      },
      "execution_count": 91,
      "outputs": []
    },
    {
      "cell_type": "code",
      "source": [
        "df1 = df1[df1['passenger_count'] != 0]"
      ],
      "metadata": {
        "id": "bteD6KDvQCzd"
      },
      "execution_count": 92,
      "outputs": []
    },
    {
      "cell_type": "code",
      "source": [
        "df1.passenger_count.unique()"
      ],
      "metadata": {
        "colab": {
          "base_uri": "https://localhost:8080/"
        },
        "id": "o5USmbPcQE8H",
        "outputId": "ca9e61be-671f-409f-d893-a7cf57f3aa38"
      },
      "execution_count": 93,
      "outputs": [
        {
          "output_type": "execute_result",
          "data": {
            "text/plain": [
              "<IntegerArray>\n",
              "[1, 2, 3, 5, 6, 4, 9, 8, 7, 32, 48]\n",
              "Length: 11, dtype: Int64"
            ]
          },
          "metadata": {},
          "execution_count": 93
        }
      ]
    },
    {
      "cell_type": "code",
      "source": [
        "df1 = df1[df1['passenger_count'] != 32]"
      ],
      "metadata": {
        "id": "vc5BkC1rQHuf"
      },
      "execution_count": 94,
      "outputs": []
    },
    {
      "cell_type": "code",
      "source": [
        "df1 = df1[df1['passenger_count'] != 48]"
      ],
      "metadata": {
        "id": "Hez4u59FQLcK"
      },
      "execution_count": 95,
      "outputs": []
    },
    {
      "cell_type": "code",
      "source": [
        "df1.passenger_count.unique()"
      ],
      "metadata": {
        "colab": {
          "base_uri": "https://localhost:8080/"
        },
        "id": "ngz7GNMiQPYP",
        "outputId": "bc285937-90dc-46f8-e31f-7987f02ad306"
      },
      "execution_count": 96,
      "outputs": [
        {
          "output_type": "execute_result",
          "data": {
            "text/plain": [
              "<IntegerArray>\n",
              "[1, 2, 3, 5, 6, 4, 9, 8, 7]\n",
              "Length: 9, dtype: Int64"
            ]
          },
          "metadata": {},
          "execution_count": 96
        }
      ]
    },
    {
      "cell_type": "code",
      "source": [
        "import pandas as pd\n",
        "import matplotlib.pyplot as plt\n",
        "\n",
        "# Read in the data\n",
        "\n",
        "\n",
        "# Get value counts for the column\n",
        "value_counts = df1['passenger_count'].value_counts()\n",
        "\n",
        "# Plot pie chart\n",
        "fig, ax = plt.subplots()\n",
        "ax.pie(value_counts, labels=value_counts.index)\n",
        "plt.figure(figsize=(8, 8))\n",
        "\n",
        "# Add percentage values to legend\n",
        "total = sum(value_counts)\n",
        "vals = value_counts.values\n",
        "labels = value_counts.index\n",
        "percentages = [\"{0:.2f}%\".format(val/total*100) for val in vals]\n",
        "legends = [f'{label}: {percentage}' for label, percentage in zip(labels, percentages)]\n",
        "ax.legend(legends, loc=\"upper right\",bbox_to_anchor=(1.1, 1.5))\n",
        "\n",
        "plt.savefig('fare_by_hour.png', dpi=300, bbox_inches='tight')\n",
        "plt.savefig('1.png', dpi=300, bbox_inches='tight')\n",
        "plt.show()\n",
        "\n"
      ],
      "metadata": {
        "colab": {
          "base_uri": "https://localhost:8080/",
          "height": 601
        },
        "id": "dgl_a7ixQRxZ",
        "outputId": "20f8fec0-7043-41d8-ed75-0711d240d51b"
      },
      "execution_count": 97,
      "outputs": [
        {
          "output_type": "display_data",
          "data": {
            "text/plain": [
              "<Figure size 640x480 with 1 Axes>"
            ],
            "image/png": "[encoded data removed]"
          },
          "metadata": {}
        },
        {
          "output_type": "display_data",
          "data": {
            "text/plain": [
              "<Figure size 800x800 with 0 Axes>"
            ]
          },
          "metadata": {}
        }
      ]
    },
    {
      "cell_type": "code",
      "source": [
        "from google.cloud import bigquery\n",
        "#import db-dtypes\n",
        "import os\n",
        "import pandas as pd\n",
        "# Create a BigQuery client object\n",
        "#from pyspark.sql import SparkSession\n",
        "#from pyspark.ml.regression import LinearRegression\n",
        "#from pyspark.ml.feature import VectorAssembler\n",
        "\n",
        "os.environ[\"GOOGLE_APPLICATION_CREDENTIALS\"]= \"nifty-expanse-380117-34182b0834a5.json\"\n",
        "client = bigquery.Client()\n",
        "# Construct the SQL query to fetch data from a table in the database\n",
        "sql_query1 = \"\"\"SELECT * FROM `bigquery-public-data.new_york_taxi_trips.tlc_green_trips_2021`\"\"\"\n",
        "# Execute the query and fetch the results\n",
        "query_job = client.query(sql_query1)\n",
        "df1 = query_job.to_dataframe()\n"
      ],
      "metadata": {
        "id": "fQ3mGQWDQcMc"
      },
      "execution_count": 98,
      "outputs": []
    },
    {
      "cell_type": "code",
      "source": [
        "from google.cloud import bigquery\n",
        "#import db-dtypes\n",
        "import os\n",
        "import pandas as pd\n",
        "# Create a BigQuery client object\n",
        "#from pyspark.sql import SparkSession\n",
        "#from pyspark.ml.regression import LinearRegression\n",
        "#from pyspark.ml.feature import VectorAssembler\n",
        "\n",
        "os.environ[\"GOOGLE_APPLICATION_CREDENTIALS\"]= \"nifty-expanse-380117-34182b0834a5.json\"\n",
        "client = bigquery.Client()\n",
        "# Construct the SQL query to fetch data from a table in the database\n",
        "sql_query1 = \"\"\"SELECT * FROM `bigquery-public-data.new_york_taxi_trips.taxi_zone_geom`\"\"\"\n",
        "# Execute the query and fetch the results\n",
        "query_job = client.query(sql_query1)\n",
        "zone = query_job.to_dataframe()\n"
      ],
      "metadata": {
        "id": "0PNFnMLLSI4w"
      },
      "execution_count": 99,
      "outputs": []
    },
    {
      "cell_type": "code",
      "source": [
        "new_df = pd.DataFrame({\n",
        "    'Pick-up': df1['pickup_location_id'],\n",
        "    'Drop-off': df1['dropoff_location_id']\n",
        "})\n",
        "new_df"
      ],
      "metadata": {
        "colab": {
          "base_uri": "https://localhost:8080/",
          "height": 423
        },
        "id": "s79AXJDoSN77",
        "outputId": "891aad6e-2ec1-4310-81b4-845db600d690"
      },
      "execution_count": 100,
      "outputs": [
        {
          "output_type": "execute_result",
          "data": {
            "text/plain": [
              "        Pick-up Drop-off\n",
              "0           193      193\n",
              "1            42       42\n",
              "2           193      193\n",
              "3           193      193\n",
              "4            95      134\n",
              "...         ...      ...\n",
              "1068739      82      223\n",
              "1068740      55      137\n",
              "1068741      71      188\n",
              "1068742      55      228\n",
              "1068743      72      228\n",
              "\n",
              "[1068744 rows x 2 columns]"
            ],
            "text/html": [
              "\n",
              "  <div id=\"df-2538fcfa-8bd5-4c72-b779-827d28b0f377\">\n",
              "    <div class=\"colab-df-container\">\n",
              "      <div>\n",
              "<style scoped>\n",
              "    .dataframe tbody tr th:only-of-type {\n",
              "        vertical-align: middle;\n",
              "    }\n",
              "\n",
              "    .dataframe tbody tr th {\n",
              "        vertical-align: top;\n",
              "    }\n",
              "\n",
              "    .dataframe thead th {\n",
              "        text-align: right;\n",
              "    }\n",
              "</style>\n",
              "<table border=\"1\" class=\"dataframe\">\n",
              "  <thead>\n",
              "    <tr style=\"text-align: right;\">\n",
              "      <th></th>\n",
              "      <th>Pick-up</th>\n",
              "      <th>Drop-off</th>\n",
              "    </tr>\n",
              "  </thead>\n",
              "  <tbody>\n",
              "    <tr>\n",
              "      <th>0</th>\n",
              "      <td>193</td>\n",
              "      <td>193</td>\n",
              "    </tr>\n",
              "    <tr>\n",
              "      <th>1</th>\n",
              "      <td>42</td>\n",
              "      <td>42</td>\n",
              "    </tr>\n",
              "    <tr>\n",
              "      <th>2</th>\n",
              "      <td>193</td>\n",
              "      <td>193</td>\n",
              "    </tr>\n",
              "    <tr>\n",
              "      <th>3</th>\n",
              "      <td>193</td>\n",
              "      <td>193</td>\n",
              "    </tr>\n",
              "    <tr>\n",
              "      <th>4</th>\n",
              "      <td>95</td>\n",
              "      <td>134</td>\n",
              "    </tr>\n",
              "    <tr>\n",
              "      <th>...</th>\n",
              "      <td>...</td>\n",
              "      <td>...</td>\n",
              "    </tr>\n",
              "    <tr>\n",
              "      <th>1068739</th>\n",
              "      <td>82</td>\n",
              "      <td>223</td>\n",
              "    </tr>\n",
              "    <tr>\n",
              "      <th>1068740</th>\n",
              "      <td>55</td>\n",
              "      <td>137</td>\n",
              "    </tr>\n",
              "    <tr>\n",
              "      <th>1068741</th>\n",
              "      <td>71</td>\n",
              "      <td>188</td>\n",
              "    </tr>\n",
              "    <tr>\n",
              "      <th>1068742</th>\n",
              "      <td>55</td>\n",
              "      <td>228</td>\n",
              "    </tr>\n",
              "    <tr>\n",
              "      <th>1068743</th>\n",
              "      <td>72</td>\n",
              "      <td>228</td>\n",
              "    </tr>\n",
              "  </tbody>\n",
              "</table>\n",
              "<p>1068744 rows × 2 columns</p>\n",
              "</div>\n",
              "      <button class=\"colab-df-convert\" onclick=\"convertToInteractive('df-2538fcfa-8bd5-4c72-b779-827d28b0f377')\"\n",
              "              title=\"Convert this dataframe to an interactive table.\"\n",
              "              style=\"display:none;\">\n",
              "        \n",
              "  <svg xmlns=\"http://www.w3.org/2000/svg\" height=\"24px\"viewBox=\"0 0 24 24\"\n",
              "       width=\"24px\">\n",
              "    <path d=\"M0 0h24v24H0V0z\" fill=\"none\"/>\n",
              "    <path d=\"M18.56 5.44l.94 2.06.94-2.06 2.06-.94-2.06-.94-.94-2.06-.94 2.06-2.06.94zm-11 1L8.5 8.5l.94-2.06 2.06-.94-2.06-.94L8.5 2.5l-.94 2.06-2.06.94zm10 10l.94 2.06.94-2.06 2.06-.94-2.06-.94-.94-2.06-.94 2.06-2.06.94z\"/><path d=\"M17.41 7.96l-1.37-1.37c-.4-.4-.92-.59-1.43-.59-.52 0-1.04.2-1.43.59L10.3 9.45l-7.72 7.72c-.78.78-.78 2.05 0 2.83L4 21.41c.39.39.9.59 1.41.59.51 0 1.02-.2 1.41-.59l7.78-7.78 2.81-2.81c.8-.78.8-2.07 0-2.86zM5.41 20L4 18.59l7.72-7.72 1.47 1.35L5.41 20z\"/>\n",
              "  </svg>\n",
              "      </button>\n",
              "      \n",
              "  <style>\n",
              "    .colab-df-container {\n",
              "      display:flex;\n",
              "      flex-wrap:wrap;\n",
              "      gap: 12px;\n",
              "    }\n",
              "\n",
              "    .colab-df-convert {\n",
              "      background-color: #E8F0FE;\n",
              "      border: none;\n",
              "      border-radius: 50%;\n",
              "      cursor: pointer;\n",
              "      display: none;\n",
              "      fill: #1967D2;\n",
              "      height: 32px;\n",
              "      padding: 0 0 0 0;\n",
              "      width: 32px;\n",
              "    }\n",
              "\n",
              "    .colab-df-convert:hover {\n",
              "      background-color: #E2EBFA;\n",
              "      box-shadow: 0px 1px 2px rgba(60, 64, 67, 0.3), 0px 1px 3px 1px rgba(60, 64, 67, 0.15);\n",
              "      fill: #174EA6;\n",
              "    }\n",
              "\n",
              "    [theme=dark] .colab-df-convert {\n",
              "      background-color: #3B4455;\n",
              "      fill: #D2E3FC;\n",
              "    }\n",
              "\n",
              "    [theme=dark] .colab-df-convert:hover {\n",
              "      background-color: #434B5C;\n",
              "      box-shadow: 0px 1px 3px 1px rgba(0, 0, 0, 0.15);\n",
              "      filter: drop-shadow(0px 1px 2px rgba(0, 0, 0, 0.3));\n",
              "      fill: #FFFFFF;\n",
              "    }\n",
              "  </style>\n",
              "\n",
              "      <script>\n",
              "        const buttonEl =\n",
              "          document.querySelector('#df-2538fcfa-8bd5-4c72-b779-827d28b0f377 button.colab-df-convert');\n",
              "        buttonEl.style.display =\n",
              "          google.colab.kernel.accessAllowed ? 'block' : 'none';\n",
              "\n",
              "        async function convertToInteractive(key) {\n",
              "          const element = document.querySelector('#df-2538fcfa-8bd5-4c72-b779-827d28b0f377');\n",
              "          const dataTable =\n",
              "            await google.colab.kernel.invokeFunction('convertToInteractive',\n",
              "                                                     [key], {});\n",
              "          if (!dataTable) return;\n",
              "\n",
              "          const docLinkHtml = 'Like what you see? Visit the ' +\n",
              "            '<a target=\"_blank\" href=https://colab.research.google.com/notebooks/data_table.ipynb>data table notebook</a>'\n",
              "            + ' to learn more about interactive tables.';\n",
              "          element.innerHTML = '';\n",
              "          dataTable['output_type'] = 'display_data';\n",
              "          await google.colab.output.renderOutput(dataTable, element);\n",
              "          const docLink = document.createElement('div');\n",
              "          docLink.innerHTML = docLinkHtml;\n",
              "          element.appendChild(docLink);\n",
              "        }\n",
              "      </script>\n",
              "    </div>\n",
              "  </div>\n",
              "  "
            ]
          },
          "metadata": {},
          "execution_count": 100
        }
      ]
    },
    {
      "cell_type": "code",
      "source": [
        "zone['zone_id'].max()"
      ],
      "metadata": {
        "colab": {
          "base_uri": "https://localhost:8080/",
          "height": 36
        },
        "id": "6tt0siWLSRrp",
        "outputId": "f50b0618-2caf-4d79-8e4b-b2f3cf567b1e"
      },
      "execution_count": 101,
      "outputs": [
        {
          "output_type": "execute_result",
          "data": {
            "text/plain": [
              "'99'"
            ],
            "application/vnd.google.colaboratory.intrinsic+json": {
              "type": "string"
            }
          },
          "metadata": {},
          "execution_count": 101
        }
      ]
    },
    {
      "cell_type": "code",
      "source": [
        "zone['zone_name_borough'] = zone['zone_name'] + '-' + zone['borough']\n",
        "\n",
        "# display merged dataframe\n",
        "print(zone)"
      ],
      "metadata": {
        "colab": {
          "base_uri": "https://localhost:8080/"
        },
        "id": "-RHMU1tvSUdk",
        "outputId": "91ebc6e6-2192-472a-d157-7fbd80d6a812"
      },
      "execution_count": 102,
      "outputs": [
        {
          "output_type": "stream",
          "name": "stdout",
          "text": [
            "    zone_id                  zone_name        borough  \\\n",
            "0         1             Newark Airport            EWR   \n",
            "1         3    Allerton/Pelham Gardens          Bronx   \n",
            "2        18               Bedford Park          Bronx   \n",
            "3        20                    Belmont          Bronx   \n",
            "4        31                 Bronx Park          Bronx   \n",
            "..      ...                        ...            ...   \n",
            "258     206  Saint George/New Brighton  Staten Island   \n",
            "259     214   South Beach/Dongan Hills  Staten Island   \n",
            "260     221                  Stapleton  Staten Island   \n",
            "261     245              West Brighton  Staten Island   \n",
            "262     251                Westerleigh  Staten Island   \n",
            "\n",
            "                                             zone_geom  \\\n",
            "0    POLYGON((-74.1856319999999 40.6916479999999, -...   \n",
            "1    POLYGON((-73.848596761 40.8716707849999, -73.8...   \n",
            "2    POLYGON((-73.8844286139999 40.8668003789999, -...   \n",
            "3    POLYGON((-73.8839239579998 40.8644177609999, -...   \n",
            "4    POLYGON((-73.8710017319999 40.8572767429999, -...   \n",
            "..                                                 ...   \n",
            "258  POLYGON((-74.0825658580711 40.6483158193535, -...   \n",
            "259  POLYGON((-74.085787808 40.5958840799999, -74.0...   \n",
            "260  POLYGON((-74.076017768 40.6377481049999, -74.0...   \n",
            "261  POLYGON((-74.0992883379999 40.640204723, -74.0...   \n",
            "262  POLYGON((-74.1316183449999 40.6305836889999, -...   \n",
            "\n",
            "                           zone_name_borough  \n",
            "0                         Newark Airport-EWR  \n",
            "1              Allerton/Pelham Gardens-Bronx  \n",
            "2                         Bedford Park-Bronx  \n",
            "3                              Belmont-Bronx  \n",
            "4                           Bronx Park-Bronx  \n",
            "..                                       ...  \n",
            "258  Saint George/New Brighton-Staten Island  \n",
            "259   South Beach/Dongan Hills-Staten Island  \n",
            "260                  Stapleton-Staten Island  \n",
            "261              West Brighton-Staten Island  \n",
            "262                Westerleigh-Staten Island  \n",
            "\n",
            "[263 rows x 5 columns]\n"
          ]
        }
      ]
    },
    {
      "cell_type": "code",
      "source": [
        "zone.columns"
      ],
      "metadata": {
        "colab": {
          "base_uri": "https://localhost:8080/"
        },
        "id": "z209CDBNSbEz",
        "outputId": "c029bf8c-d82e-409e-96a4-b5c53a1d17fc"
      },
      "execution_count": 103,
      "outputs": [
        {
          "output_type": "execute_result",
          "data": {
            "text/plain": [
              "Index(['zone_id', 'zone_name', 'borough', 'zone_geom', 'zone_name_borough'], dtype='object')"
            ]
          },
          "metadata": {},
          "execution_count": 103
        }
      ]
    },
    {
      "cell_type": "code",
      "source": [
        "zone = zone.drop(columns=['zone_name', 'borough', 'zone_geom'])"
      ],
      "metadata": {
        "id": "i_km7BBFScwu"
      },
      "execution_count": 104,
      "outputs": []
    },
    {
      "cell_type": "code",
      "source": [
        "zone.head()"
      ],
      "metadata": {
        "colab": {
          "base_uri": "https://localhost:8080/",
          "height": 206
        },
        "id": "CJ1ok-1tSfbC",
        "outputId": "a8cab043-5dd8-401e-e7b0-1423ca1edf6b"
      },
      "execution_count": 105,
      "outputs": [
        {
          "output_type": "execute_result",
          "data": {
            "text/plain": [
              "  zone_id              zone_name_borough\n",
              "0       1             Newark Airport-EWR\n",
              "1       3  Allerton/Pelham Gardens-Bronx\n",
              "2      18             Bedford Park-Bronx\n",
              "3      20                  Belmont-Bronx\n",
              "4      31               Bronx Park-Bronx"
            ],
            "text/html": [
              "\n",
              "  <div id=\"df-8ce835ce-c480-477c-8b55-cae17184beb3\">\n",
              "    <div class=\"colab-df-container\">\n",
              "      <div>\n",
              "<style scoped>\n",
              "    .dataframe tbody tr th:only-of-type {\n",
              "        vertical-align: middle;\n",
              "    }\n",
              "\n",
              "    .dataframe tbody tr th {\n",
              "        vertical-align: top;\n",
              "    }\n",
              "\n",
              "    .dataframe thead th {\n",
              "        text-align: right;\n",
              "    }\n",
              "</style>\n",
              "<table border=\"1\" class=\"dataframe\">\n",
              "  <thead>\n",
              "    <tr style=\"text-align: right;\">\n",
              "      <th></th>\n",
              "      <th>zone_id</th>\n",
              "      <th>zone_name_borough</th>\n",
              "    </tr>\n",
              "  </thead>\n",
              "  <tbody>\n",
              "    <tr>\n",
              "      <th>0</th>\n",
              "      <td>1</td>\n",
              "      <td>Newark Airport-EWR</td>\n",
              "    </tr>\n",
              "    <tr>\n",
              "      <th>1</th>\n",
              "      <td>3</td>\n",
              "      <td>Allerton/Pelham Gardens-Bronx</td>\n",
              "    </tr>\n",
              "    <tr>\n",
              "      <th>2</th>\n",
              "      <td>18</td>\n",
              "      <td>Bedford Park-Bronx</td>\n",
              "    </tr>\n",
              "    <tr>\n",
              "      <th>3</th>\n",
              "      <td>20</td>\n",
              "      <td>Belmont-Bronx</td>\n",
              "    </tr>\n",
              "    <tr>\n",
              "      <th>4</th>\n",
              "      <td>31</td>\n",
              "      <td>Bronx Park-Bronx</td>\n",
              "    </tr>\n",
              "  </tbody>\n",
              "</table>\n",
              "</div>\n",
              "      <button class=\"colab-df-convert\" onclick=\"convertToInteractive('df-8ce835ce-c480-477c-8b55-cae17184beb3')\"\n",
              "              title=\"Convert this dataframe to an interactive table.\"\n",
              "              style=\"display:none;\">\n",
              "        \n",
              "  <svg xmlns=\"http://www.w3.org/2000/svg\" height=\"24px\"viewBox=\"0 0 24 24\"\n",
              "       width=\"24px\">\n",
              "    <path d=\"M0 0h24v24H0V0z\" fill=\"none\"/>\n",
              "    <path d=\"M18.56 5.44l.94 2.06.94-2.06 2.06-.94-2.06-.94-.94-2.06-.94 2.06-2.06.94zm-11 1L8.5 8.5l.94-2.06 2.06-.94-2.06-.94L8.5 2.5l-.94 2.06-2.06.94zm10 10l.94 2.06.94-2.06 2.06-.94-2.06-.94-.94-2.06-.94 2.06-2.06.94z\"/><path d=\"M17.41 7.96l-1.37-1.37c-.4-.4-.92-.59-1.43-.59-.52 0-1.04.2-1.43.59L10.3 9.45l-7.72 7.72c-.78.78-.78 2.05 0 2.83L4 21.41c.39.39.9.59 1.41.59.51 0 1.02-.2 1.41-.59l7.78-7.78 2.81-2.81c.8-.78.8-2.07 0-2.86zM5.41 20L4 18.59l7.72-7.72 1.47 1.35L5.41 20z\"/>\n",
              "  </svg>\n",
              "      </button>\n",
              "      \n",
              "  <style>\n",
              "    .colab-df-container {\n",
              "      display:flex;\n",
              "      flex-wrap:wrap;\n",
              "      gap: 12px;\n",
              "    }\n",
              "\n",
              "    .colab-df-convert {\n",
              "      background-color: #E8F0FE;\n",
              "      border: none;\n",
              "      border-radius: 50%;\n",
              "      cursor: pointer;\n",
              "      display: none;\n",
              "      fill: #1967D2;\n",
              "      height: 32px;\n",
              "      padding: 0 0 0 0;\n",
              "      width: 32px;\n",
              "    }\n",
              "\n",
              "    .colab-df-convert:hover {\n",
              "      background-color: #E2EBFA;\n",
              "      box-shadow: 0px 1px 2px rgba(60, 64, 67, 0.3), 0px 1px 3px 1px rgba(60, 64, 67, 0.15);\n",
              "      fill: #174EA6;\n",
              "    }\n",
              "\n",
              "    [theme=dark] .colab-df-convert {\n",
              "      background-color: #3B4455;\n",
              "      fill: #D2E3FC;\n",
              "    }\n",
              "\n",
              "    [theme=dark] .colab-df-convert:hover {\n",
              "      background-color: #434B5C;\n",
              "      box-shadow: 0px 1px 3px 1px rgba(0, 0, 0, 0.15);\n",
              "      filter: drop-shadow(0px 1px 2px rgba(0, 0, 0, 0.3));\n",
              "      fill: #FFFFFF;\n",
              "    }\n",
              "  </style>\n",
              "\n",
              "      <script>\n",
              "        const buttonEl =\n",
              "          document.querySelector('#df-8ce835ce-c480-477c-8b55-cae17184beb3 button.colab-df-convert');\n",
              "        buttonEl.style.display =\n",
              "          google.colab.kernel.accessAllowed ? 'block' : 'none';\n",
              "\n",
              "        async function convertToInteractive(key) {\n",
              "          const element = document.querySelector('#df-8ce835ce-c480-477c-8b55-cae17184beb3');\n",
              "          const dataTable =\n",
              "            await google.colab.kernel.invokeFunction('convertToInteractive',\n",
              "                                                     [key], {});\n",
              "          if (!dataTable) return;\n",
              "\n",
              "          const docLinkHtml = 'Like what you see? Visit the ' +\n",
              "            '<a target=\"_blank\" href=https://colab.research.google.com/notebooks/data_table.ipynb>data table notebook</a>'\n",
              "            + ' to learn more about interactive tables.';\n",
              "          element.innerHTML = '';\n",
              "          dataTable['output_type'] = 'display_data';\n",
              "          await google.colab.output.renderOutput(dataTable, element);\n",
              "          const docLink = document.createElement('div');\n",
              "          docLink.innerHTML = docLinkHtml;\n",
              "          element.appendChild(docLink);\n",
              "        }\n",
              "      </script>\n",
              "    </div>\n",
              "  </div>\n",
              "  "
            ]
          },
          "metadata": {},
          "execution_count": 105
        }
      ]
    },
    {
      "cell_type": "code",
      "source": [
        "merged_df = pd.merge(new_df, zone, how='left', left_on='Pick-up', right_on='zone_id')\n"
      ],
      "metadata": {
        "id": "JV_NeH3dSsIM"
      },
      "execution_count": 106,
      "outputs": []
    },
    {
      "cell_type": "code",
      "source": [
        "merged_df"
      ],
      "metadata": {
        "colab": {
          "base_uri": "https://localhost:8080/",
          "height": 423
        },
        "id": "_9vZ17_zSuU8",
        "outputId": "38803e20-a732-4c1b-88b6-26091ba0044d"
      },
      "execution_count": 107,
      "outputs": [
        {
          "output_type": "execute_result",
          "data": {
            "text/plain": [
              "        Pick-up Drop-off zone_id                      zone_name_borough\n",
              "0           193      193     193         Queensbridge/Ravenswood-Queens\n",
              "1            42       42      42         Central Harlem North-Manhattan\n",
              "2           193      193     193         Queensbridge/Ravenswood-Queens\n",
              "3           193      193     193         Queensbridge/Ravenswood-Queens\n",
              "4            95      134      95                    Forest Hills-Queens\n",
              "...         ...      ...     ...                                    ...\n",
              "1071593      82      223      82                        Elmhurst-Queens\n",
              "1071594      55      137      55                  Coney Island-Brooklyn\n",
              "1071595      71      188      71        East Flatbush/Farragut-Brooklyn\n",
              "1071596      55      228      55                  Coney Island-Brooklyn\n",
              "1071597      72      228      72  East Flatbush/Remsen Village-Brooklyn\n",
              "\n",
              "[1071598 rows x 4 columns]"
            ],
            "text/html": [
              "\n",
              "  <div id=\"df-c2d51a74-a412-407d-9a9f-c58551f21149\">\n",
              "    <div class=\"colab-df-container\">\n",
              "      <div>\n",
              "<style scoped>\n",
              "    .dataframe tbody tr th:only-of-type {\n",
              "        vertical-align: middle;\n",
              "    }\n",
              "\n",
              "    .dataframe tbody tr th {\n",
              "        vertical-align: top;\n",
              "    }\n",
              "\n",
              "    .dataframe thead th {\n",
              "        text-align: right;\n",
              "    }\n",
              "</style>\n",
              "<table border=\"1\" class=\"dataframe\">\n",
              "  <thead>\n",
              "    <tr style=\"text-align: right;\">\n",
              "      <th></th>\n",
              "      <th>Pick-up</th>\n",
              "      <th>Drop-off</th>\n",
              "      <th>zone_id</th>\n",
              "      <th>zone_name_borough</th>\n",
              "    </tr>\n",
              "  </thead>\n",
              "  <tbody>\n",
              "    <tr>\n",
              "      <th>0</th>\n",
              "      <td>193</td>\n",
              "      <td>193</td>\n",
              "      <td>193</td>\n",
              "      <td>Queensbridge/Ravenswood-Queens</td>\n",
              "    </tr>\n",
              "    <tr>\n",
              "      <th>1</th>\n",
              "      <td>42</td>\n",
              "      <td>42</td>\n",
              "      <td>42</td>\n",
              "      <td>Central Harlem North-Manhattan</td>\n",
              "    </tr>\n",
              "    <tr>\n",
              "      <th>2</th>\n",
              "      <td>193</td>\n",
              "      <td>193</td>\n",
              "      <td>193</td>\n",
              "      <td>Queensbridge/Ravenswood-Queens</td>\n",
              "    </tr>\n",
              "    <tr>\n",
              "      <th>3</th>\n",
              "      <td>193</td>\n",
              "      <td>193</td>\n",
              "      <td>193</td>\n",
              "      <td>Queensbridge/Ravenswood-Queens</td>\n",
              "    </tr>\n",
              "    <tr>\n",
              "      <th>4</th>\n",
              "      <td>95</td>\n",
              "      <td>134</td>\n",
              "      <td>95</td>\n",
              "      <td>Forest Hills-Queens</td>\n",
              "    </tr>\n",
              "    <tr>\n",
              "      <th>...</th>\n",
              "      <td>...</td>\n",
              "      <td>...</td>\n",
              "      <td>...</td>\n",
              "      <td>...</td>\n",
              "    </tr>\n",
              "    <tr>\n",
              "      <th>1071593</th>\n",
              "      <td>82</td>\n",
              "      <td>223</td>\n",
              "      <td>82</td>\n",
              "      <td>Elmhurst-Queens</td>\n",
              "    </tr>\n",
              "    <tr>\n",
              "      <th>1071594</th>\n",
              "      <td>55</td>\n",
              "      <td>137</td>\n",
              "      <td>55</td>\n",
              "      <td>Coney Island-Brooklyn</td>\n",
              "    </tr>\n",
              "    <tr>\n",
              "      <th>1071595</th>\n",
              "      <td>71</td>\n",
              "      <td>188</td>\n",
              "      <td>71</td>\n",
              "      <td>East Flatbush/Farragut-Brooklyn</td>\n",
              "    </tr>\n",
              "    <tr>\n",
              "      <th>1071596</th>\n",
              "      <td>55</td>\n",
              "      <td>228</td>\n",
              "      <td>55</td>\n",
              "      <td>Coney Island-Brooklyn</td>\n",
              "    </tr>\n",
              "    <tr>\n",
              "      <th>1071597</th>\n",
              "      <td>72</td>\n",
              "      <td>228</td>\n",
              "      <td>72</td>\n",
              "      <td>East Flatbush/Remsen Village-Brooklyn</td>\n",
              "    </tr>\n",
              "  </tbody>\n",
              "</table>\n",
              "<p>1071598 rows × 4 columns</p>\n",
              "</div>\n",
              "      <button class=\"colab-df-convert\" onclick=\"convertToInteractive('df-c2d51a74-a412-407d-9a9f-c58551f21149')\"\n",
              "              title=\"Convert this dataframe to an interactive table.\"\n",
              "              style=\"display:none;\">\n",
              "        \n",
              "  <svg xmlns=\"http://www.w3.org/2000/svg\" height=\"24px\"viewBox=\"0 0 24 24\"\n",
              "       width=\"24px\">\n",
              "    <path d=\"M0 0h24v24H0V0z\" fill=\"none\"/>\n",
              "    <path d=\"M18.56 5.44l.94 2.06.94-2.06 2.06-.94-2.06-.94-.94-2.06-.94 2.06-2.06.94zm-11 1L8.5 8.5l.94-2.06 2.06-.94-2.06-.94L8.5 2.5l-.94 2.06-2.06.94zm10 10l.94 2.06.94-2.06 2.06-.94-2.06-.94-.94-2.06-.94 2.06-2.06.94z\"/><path d=\"M17.41 7.96l-1.37-1.37c-.4-.4-.92-.59-1.43-.59-.52 0-1.04.2-1.43.59L10.3 9.45l-7.72 7.72c-.78.78-.78 2.05 0 2.83L4 21.41c.39.39.9.59 1.41.59.51 0 1.02-.2 1.41-.59l7.78-7.78 2.81-2.81c.8-.78.8-2.07 0-2.86zM5.41 20L4 18.59l7.72-7.72 1.47 1.35L5.41 20z\"/>\n",
              "  </svg>\n",
              "      </button>\n",
              "      \n",
              "  <style>\n",
              "    .colab-df-container {\n",
              "      display:flex;\n",
              "      flex-wrap:wrap;\n",
              "      gap: 12px;\n",
              "    }\n",
              "\n",
              "    .colab-df-convert {\n",
              "      background-color: #E8F0FE;\n",
              "      border: none;\n",
              "      border-radius: 50%;\n",
              "      cursor: pointer;\n",
              "      display: none;\n",
              "      fill: #1967D2;\n",
              "      height: 32px;\n",
              "      padding: 0 0 0 0;\n",
              "      width: 32px;\n",
              "    }\n",
              "\n",
              "    .colab-df-convert:hover {\n",
              "      background-color: #E2EBFA;\n",
              "      box-shadow: 0px 1px 2px rgba(60, 64, 67, 0.3), 0px 1px 3px 1px rgba(60, 64, 67, 0.15);\n",
              "      fill: #174EA6;\n",
              "    }\n",
              "\n",
              "    [theme=dark] .colab-df-convert {\n",
              "      background-color: #3B4455;\n",
              "      fill: #D2E3FC;\n",
              "    }\n",
              "\n",
              "    [theme=dark] .colab-df-convert:hover {\n",
              "      background-color: #434B5C;\n",
              "      box-shadow: 0px 1px 3px 1px rgba(0, 0, 0, 0.15);\n",
              "      filter: drop-shadow(0px 1px 2px rgba(0, 0, 0, 0.3));\n",
              "      fill: #FFFFFF;\n",
              "    }\n",
              "  </style>\n",
              "\n",
              "      <script>\n",
              "        const buttonEl =\n",
              "          document.querySelector('#df-c2d51a74-a412-407d-9a9f-c58551f21149 button.colab-df-convert');\n",
              "        buttonEl.style.display =\n",
              "          google.colab.kernel.accessAllowed ? 'block' : 'none';\n",
              "\n",
              "        async function convertToInteractive(key) {\n",
              "          const element = document.querySelector('#df-c2d51a74-a412-407d-9a9f-c58551f21149');\n",
              "          const dataTable =\n",
              "            await google.colab.kernel.invokeFunction('convertToInteractive',\n",
              "                                                     [key], {});\n",
              "          if (!dataTable) return;\n",
              "\n",
              "          const docLinkHtml = 'Like what you see? Visit the ' +\n",
              "            '<a target=\"_blank\" href=https://colab.research.google.com/notebooks/data_table.ipynb>data table notebook</a>'\n",
              "            + ' to learn more about interactive tables.';\n",
              "          element.innerHTML = '';\n",
              "          dataTable['output_type'] = 'display_data';\n",
              "          await google.colab.output.renderOutput(dataTable, element);\n",
              "          const docLink = document.createElement('div');\n",
              "          docLink.innerHTML = docLinkHtml;\n",
              "          element.appendChild(docLink);\n",
              "        }\n",
              "      </script>\n",
              "    </div>\n",
              "  </div>\n",
              "  "
            ]
          },
          "metadata": {},
          "execution_count": 107
        }
      ]
    },
    {
      "cell_type": "code",
      "source": [
        "merged_df = pd.merge(merged_df, zone, how='left', left_on='Drop-off', right_on='zone_id')"
      ],
      "metadata": {
        "id": "_WvoiOWmSxb4"
      },
      "execution_count": 108,
      "outputs": []
    },
    {
      "cell_type": "code",
      "source": [
        "merged_df = merged_df.drop(columns=['zone_id_x', 'zone_id_y'])"
      ],
      "metadata": {
        "id": "dOUriRyiSzSu"
      },
      "execution_count": 109,
      "outputs": []
    },
    {
      "cell_type": "code",
      "source": [
        "new_names = {'zone_name_borough_x': 'Pick-up_location', 'zone_name_borough_y': 'Drop-off_location'}\n",
        "location = merged_df.rename(columns=new_names)"
      ],
      "metadata": {
        "id": "sqGVXxDxS1of"
      },
      "execution_count": 110,
      "outputs": []
    },
    {
      "cell_type": "code",
      "source": [
        "trip_counts = location.groupby(['Pick-up_location', 'Drop-off_location']).size().reset_index(name='count')\n",
        "\n",
        "# Sort the trip counts in descending order\n",
        "trip_counts = trip_counts.sort_values(by='count', ascending=False)\n",
        "\n",
        "# Plot a bar chart of the top 10 pickup-dropoff pairs by trip count\n",
        "top_pairs = trip_counts.head(10)\n",
        "plt.bar(range(len(top_pairs)), top_pairs['count'])\n",
        "plt.xticks(range(len(top_pairs)), [f\"{pickup}\\n{dropoff}\" for pickup, dropoff in zip(top_pairs['Pick-up_location'], top_pairs['Drop-off_location'])])\n",
        "plt.xlabel('Pickup and Dropoff Locations')\n",
        "plt.ylabel('Number of Trips')\n",
        "plt.title('Top 10 Pickup-Dropoff Pairs by Trip Count')\n",
        "plt.xticks(rotation=90)\n",
        "plt.savefig('2.png', dpi=300, bbox_inches='tight')\n",
        "plt.show()"
      ],
      "metadata": {
        "colab": {
          "base_uri": "https://localhost:8080/",
          "height": 692
        },
        "id": "OwA2rexjS3Xc",
        "outputId": "e281266d-7a53-44a6-b0fc-0db3fb27611a"
      },
      "execution_count": 111,
      "outputs": [
        {
          "output_type": "display_data",
          "data": {
            "text/plain": [
              "<Figure size 640x480 with 1 Axes>"
            ],
            "image/png": "[encoded data removed]"
          },
          "metadata": {}
        }
      ]
    },
    {
      "cell_type": "code",
      "source": [
        "df1.time_between_service.isna()"
      ],
      "metadata": {
        "colab": {
          "base_uri": "https://localhost:8080/"
        },
        "id": "BH_ugQFiTB_Z",
        "outputId": "7f3a5799-874f-4213-8056-098a271fa902"
      },
      "execution_count": 112,
      "outputs": [
        {
          "output_type": "execute_result",
          "data": {
            "text/plain": [
              "0          True\n",
              "1          True\n",
              "2          True\n",
              "3          True\n",
              "4          True\n",
              "           ... \n",
              "1068739    True\n",
              "1068740    True\n",
              "1068741    True\n",
              "1068742    True\n",
              "1068743    True\n",
              "Name: time_between_service, Length: 1068744, dtype: bool"
            ]
          },
          "metadata": {},
          "execution_count": 112
        }
      ]
    },
    {
      "cell_type": "code",
      "source": [
        "df1.trip_type.unique()"
      ],
      "metadata": {
        "colab": {
          "base_uri": "https://localhost:8080/"
        },
        "id": "L7Z3iVdxTHs_",
        "outputId": "a1cedfa5-0d82-461d-bd78-da83bfbf279c"
      },
      "execution_count": 113,
      "outputs": [
        {
          "output_type": "execute_result",
          "data": {
            "text/plain": [
              "array(['1.0', '2.0', None], dtype=object)"
            ]
          },
          "metadata": {},
          "execution_count": 113
        }
      ]
    },
    {
      "cell_type": "code",
      "source": [
        "df1.trip_type.nunique()"
      ],
      "metadata": {
        "colab": {
          "base_uri": "https://localhost:8080/"
        },
        "id": "4FoHuYX7TIfa",
        "outputId": "1b419382-43fd-4fed-c1ac-e18d71336686"
      },
      "execution_count": 114,
      "outputs": [
        {
          "output_type": "execute_result",
          "data": {
            "text/plain": [
              "2"
            ]
          },
          "metadata": {},
          "execution_count": 114
        }
      ]
    },
    {
      "cell_type": "code",
      "source": [
        "df1.fare_amount.min()"
      ],
      "metadata": {
        "colab": {
          "base_uri": "https://localhost:8080/"
        },
        "id": "CwWJzwcKTNc2",
        "outputId": "72ba5e44-1d8c-40bb-a89d-b0426fc9c848"
      },
      "execution_count": 115,
      "outputs": [
        {
          "output_type": "execute_result",
          "data": {
            "text/plain": [
              "Decimal('-300.000000000')"
            ]
          },
          "metadata": {},
          "execution_count": 115
        }
      ]
    },
    {
      "cell_type": "code",
      "source": [
        "df1.total_amount.min()"
      ],
      "metadata": {
        "colab": {
          "base_uri": "https://localhost:8080/"
        },
        "id": "Jlb6b457TRGd",
        "outputId": "9f465f9f-8f06-446e-a647-b8b2b496ef9f"
      },
      "execution_count": 116,
      "outputs": [
        {
          "output_type": "execute_result",
          "data": {
            "text/plain": [
              "Decimal('-300.800000000')"
            ]
          },
          "metadata": {},
          "execution_count": 116
        }
      ]
    },
    {
      "cell_type": "code",
      "source": [
        "df1.total_amount.max()"
      ],
      "metadata": {
        "colab": {
          "base_uri": "https://localhost:8080/"
        },
        "id": "TdJrlUVmTNm5",
        "outputId": "84800627-6fcc-49fe-b1f5-569462f735a7"
      },
      "execution_count": 117,
      "outputs": [
        {
          "output_type": "execute_result",
          "data": {
            "text/plain": [
              "Decimal('2113.550000000')"
            ]
          },
          "metadata": {},
          "execution_count": 117
        }
      ]
    },
    {
      "cell_type": "code",
      "source": [
        "df1.fare_amount.min()"
      ],
      "metadata": {
        "colab": {
          "base_uri": "https://localhost:8080/"
        },
        "id": "UzakrixRUK4x",
        "outputId": "5957df88-3529-41f4-d9d5-a242f67320f5"
      },
      "execution_count": 118,
      "outputs": [
        {
          "output_type": "execute_result",
          "data": {
            "text/plain": [
              "Decimal('-300.000000000')"
            ]
          },
          "metadata": {},
          "execution_count": 118
        }
      ]
    },
    {
      "cell_type": "code",
      "source": [
        "df1.passenger_count.min()"
      ],
      "metadata": {
        "colab": {
          "base_uri": "https://localhost:8080/"
        },
        "id": "D4VcQ1DhUK95",
        "outputId": "40c6dcba-c01d-4143-c96d-29b9088ebac7"
      },
      "execution_count": 119,
      "outputs": [
        {
          "output_type": "execute_result",
          "data": {
            "text/plain": [
              "0"
            ]
          },
          "metadata": {},
          "execution_count": 119
        }
      ]
    },
    {
      "cell_type": "code",
      "source": [
        "df1 = df1[df1['passenger_count'] != 0]"
      ],
      "metadata": {
        "id": "pT1xINdjULAE"
      },
      "execution_count": 120,
      "outputs": []
    },
    {
      "cell_type": "code",
      "source": [
        "df1.passenger_count.unique()"
      ],
      "metadata": {
        "colab": {
          "base_uri": "https://localhost:8080/"
        },
        "id": "sqV-WMDfULCN",
        "outputId": "dcb1f561-21ba-4f65-cd03-d11772c3bf81"
      },
      "execution_count": 121,
      "outputs": [
        {
          "output_type": "execute_result",
          "data": {
            "text/plain": [
              "<IntegerArray>\n",
              "[1, 3, 2, 6, 4, 5, 7, 9, 8, 32, 48]\n",
              "Length: 11, dtype: Int64"
            ]
          },
          "metadata": {},
          "execution_count": 121
        }
      ]
    },
    {
      "cell_type": "code",
      "source": [
        "monthly_stats = df1.groupby('data_file_month').agg({'fare_amount': 'sum', 'passenger_count': 'sum'})"
      ],
      "metadata": {
        "id": "tjZwnI1SULEh"
      },
      "execution_count": 122,
      "outputs": []
    },
    {
      "cell_type": "code",
      "source": [
        "monthly_stats.plot(kind='line', y='passenger_count',legend=True)\n",
        "\n",
        "plt.xlabel('Month')\n",
        "plt.ylabel('Passenger Count')\n",
        "plt.title('Monthly Trend of Passenger Count')\n",
        "plt.savefig('3.png', dpi=300, bbox_inches='tight')\n",
        "plt.show()"
      ],
      "metadata": {
        "colab": {
          "base_uri": "https://localhost:8080/",
          "height": 472
        },
        "id": "iT0X_jmeULGi",
        "outputId": "ee530235-abb8-4902-fcdf-f2c1510307d1"
      },
      "execution_count": 123,
      "outputs": [
        {
          "output_type": "display_data",
          "data": {
            "text/plain": [
              "<Figure size 640x480 with 1 Axes>"
            ],
            "image/png": "[encoded data removed]"
          },
          "metadata": {}
        }
      ]
    },
    {
      "cell_type": "code",
      "source": [
        "from google.cloud import bigquery\n",
        "#import db-dtypes\n",
        "import os\n",
        "import pandas as pd\n",
        "# Create a BigQuery client object\n",
        "#from pyspark.sql import SparkSession\n",
        "#from pyspark.ml.regression import LinearRegression\n",
        "#from pyspark.ml.feature import VectorAssembler\n",
        "\n",
        "os.environ[\"GOOGLE_APPLICATION_CREDENTIALS\"]= \"nifty-expanse-380117-34182b0834a5.json\"\n",
        "client = bigquery.Client()\n",
        "# Construct the SQL query to fetch data from a table in the database\n",
        "sql_query1 = \"\"\"SELECT * FROM `bigquery-public-data.new_york_taxi_trips.tlc_green_trips_2021`\"\"\"\n",
        "# Execute the query and fetch the results\n",
        "query_job = client.query(sql_query1)\n",
        "df1 = query_job.to_dataframe()\n"
      ],
      "metadata": {
        "id": "_ZAr_QZqULJI"
      },
      "execution_count": 124,
      "outputs": []
    },
    {
      "cell_type": "code",
      "source": [
        "df1 = df1[df1['total_amount'] >= 0]\n"
      ],
      "metadata": {
        "id": "QTYgLyE9ULLV"
      },
      "execution_count": 125,
      "outputs": []
    },
    {
      "cell_type": "code",
      "source": [
        "df1 = df1[df1['total_amount'] != 0E-9]"
      ],
      "metadata": {
        "id": "iefDh7DlULN2"
      },
      "execution_count": 126,
      "outputs": []
    },
    {
      "cell_type": "code",
      "source": [
        "df1 = df1[df1['total_amount'] >= 1]"
      ],
      "metadata": {
        "id": "JAlCPfkKULQk"
      },
      "execution_count": 127,
      "outputs": []
    },
    {
      "cell_type": "code",
      "source": [
        "df1.total_amount.mean()"
      ],
      "metadata": {
        "colab": {
          "base_uri": "https://localhost:8080/"
        },
        "id": "0KuNMIe5ULSr",
        "outputId": "c43d466e-1f53-4241-bc65-ecb4e7eb314e"
      },
      "execution_count": 128,
      "outputs": [
        {
          "output_type": "execute_result",
          "data": {
            "text/plain": [
              "24.055149725810466"
            ]
          },
          "metadata": {},
          "execution_count": 128
        }
      ]
    },
    {
      "cell_type": "code",
      "source": [
        "df1.data_file_month.unique()"
      ],
      "metadata": {
        "colab": {
          "base_uri": "https://localhost:8080/"
        },
        "id": "udA9rTsRUjWQ",
        "outputId": "2de56534-df78-4262-9f3e-1abcc2018bb8"
      },
      "execution_count": 129,
      "outputs": [
        {
          "output_type": "execute_result",
          "data": {
            "text/plain": [
              "<IntegerArray>\n",
              "[2, 3, 9, 1, 8, 5, 7, 10, 6, 11, 12, 4]\n",
              "Length: 12, dtype: Int64"
            ]
          },
          "metadata": {},
          "execution_count": 129
        }
      ]
    },
    {
      "cell_type": "code",
      "source": [
        "monthly_stats = df1.groupby('data_file_month').agg({'fare_amount': 'sum'})"
      ],
      "metadata": {
        "id": "XaN-WBcAUskV"
      },
      "execution_count": 130,
      "outputs": []
    },
    {
      "cell_type": "code",
      "source": [
        "monthly_stats['fare_amount'] = pd.to_numeric(monthly_stats['fare_amount'], errors='coerce')\n",
        "monthly_stats.plot(kind='line', y='fare_amount', legend=True)\n",
        "\n",
        "plt.xlabel('Month')\n",
        "plt.ylabel('Fare')\n",
        "plt.title('Monthly Trend of Fare')\n",
        "plt.savefig('4.png', dpi=300, bbox_inches='tight')\n",
        "plt.show()"
      ],
      "metadata": {
        "colab": {
          "base_uri": "https://localhost:8080/",
          "height": 472
        },
        "id": "UhK7PsyYUtyV",
        "outputId": "bda6bb0e-0d28-406b-cd47-a17d35dacf48"
      },
      "execution_count": 131,
      "outputs": [
        {
          "output_type": "display_data",
          "data": {
            "text/plain": [
              "<Figure size 640x480 with 1 Axes>"
            ],
            "image/png": "[encoded data removed]"
          },
          "metadata": {}
        }
      ]
    },
    {
      "cell_type": "code",
      "source": [
        "from google.cloud import bigquery\n",
        "#import db-dtypes\n",
        "import os\n",
        "import pandas as pd\n",
        "# Create a BigQuery client object\n",
        "#from pyspark.sql import SparkSession\n",
        "#from pyspark.ml.regression import LinearRegression\n",
        "#from pyspark.ml.feature import VectorAssembler\n",
        "\n",
        "os.environ[\"GOOGLE_APPLICATION_CREDENTIALS\"]= \"nifty-expanse-380117-34182b0834a5.json\"\n",
        "client = bigquery.Client()\n",
        "# Construct the SQL query to fetch data from a table in the database\n",
        "sql_query1 = \"\"\"SELECT * FROM `bigquery-public-data.new_york_taxi_trips.tlc_green_trips_2021`\"\"\"\n",
        "# Execute the query and fetch the results\n",
        "query_job = client.query(sql_query1)\n",
        "df1 = query_job.to_dataframe()\n"
      ],
      "metadata": {
        "id": "lomS0UB1UxcK"
      },
      "execution_count": 132,
      "outputs": []
    },
    {
      "cell_type": "code",
      "source": [
        "df1.pickup_datetime"
      ],
      "metadata": {
        "colab": {
          "base_uri": "https://localhost:8080/"
        },
        "id": "iT7v00lzUzry",
        "outputId": "ecbaa45f-4ba9-4536-d300-9c46f58046cd"
      },
      "execution_count": 133,
      "outputs": [
        {
          "output_type": "execute_result",
          "data": {
            "text/plain": [
              "0         2021-02-02 11:28:59+00:00\n",
              "1         2021-02-02 15:11:53+00:00\n",
              "2         2021-02-03 12:43:19+00:00\n",
              "3         2021-02-03 12:44:27+00:00\n",
              "4         2021-02-03 13:12:14+00:00\n",
              "                     ...           \n",
              "1068739   2021-04-07 19:22:00+00:00\n",
              "1068740   2021-04-21 11:52:00+00:00\n",
              "1068741   2021-04-08 08:15:00+00:00\n",
              "1068742   2021-04-24 14:22:00+00:00\n",
              "1068743   2021-04-12 14:54:00+00:00\n",
              "Name: pickup_datetime, Length: 1068744, dtype: datetime64[ns, UTC]"
            ]
          },
          "metadata": {},
          "execution_count": 133
        }
      ]
    },
    {
      "cell_type": "code",
      "source": [
        "import pandas as pd\n",
        "from datetime import datetime\n",
        "\n",
        "# Load the data into a pandas DataFrame\n",
        "#df1 = pd.read_csv('your_file.csv')\n",
        "\n",
        "# Convert the pickup_datetime column to a datetime object\n",
        "df1['pickup_datetime'] = pd.to_datetime(df1['pickup_datetime'])\n",
        "\n",
        "# Extract the pickup time as a separate column\n",
        "df1['pickup_time'] = df1['pickup_datetime'].apply(lambda x: datetime.strftime(x, '%H:%M:%S'))\n",
        "\n",
        "# Print the first few rows to verify the results\n",
        "print(df1.head())"
      ],
      "metadata": {
        "colab": {
          "base_uri": "https://localhost:8080/"
        },
        "id": "xf3kQ5D2U14N",
        "outputId": "0524928d-a9dd-4243-964f-dc81cb6dd678"
      },
      "execution_count": 134,
      "outputs": [
        {
          "output_type": "stream",
          "name": "stdout",
          "text": [
            "  vendor_id           pickup_datetime          dropoff_datetime  \\\n",
            "0         2 2021-02-02 11:28:59+00:00 2021-02-02 11:30:01+00:00   \n",
            "1         1 2021-02-02 15:11:53+00:00 2021-02-02 18:43:58+00:00   \n",
            "2         2 2021-02-03 12:43:19+00:00 2021-02-03 12:44:19+00:00   \n",
            "3         2 2021-02-03 12:44:27+00:00 2021-02-03 12:45:17+00:00   \n",
            "4         2 2021-02-03 13:12:14+00:00 2021-02-03 13:26:45+00:00   \n",
            "\n",
            "  store_and_fwd_flag rate_code  passenger_count trip_distance fare_amount  \\\n",
            "0                  N       1.0                1          0E-9        0E-9   \n",
            "1                  N       5.0                1  48.100000000        0E-9   \n",
            "2                  N       1.0                1          0E-9        0E-9   \n",
            "3                  N       1.0                1          0E-9        0E-9   \n",
            "4                  N       1.0                1   2.580000000        0E-9   \n",
            "\n",
            "  extra mta_tax  ... payment_type distance_between_service  \\\n",
            "0  0E-9    0E-9  ...          1.0                     None   \n",
            "1  0E-9    0E-9  ...          2.0                     None   \n",
            "2  0E-9    0E-9  ...          2.0                     None   \n",
            "3  0E-9    0E-9  ...          1.0                     None   \n",
            "4  0E-9    0E-9  ...          2.0                     None   \n",
            "\n",
            "  time_between_service trip_type imp_surcharge pickup_location_id  \\\n",
            "0                 <NA>       1.0          0E-9                193   \n",
            "1                 <NA>       2.0          0E-9                 83   \n",
            "2                 <NA>       1.0          0E-9                193   \n",
            "3                 <NA>       1.0          0E-9                193   \n",
            "4                 <NA>       1.0          0E-9                 95   \n",
            "\n",
            "  dropoff_location_id  data_file_year data_file_month pickup_time  \n",
            "0                 193            2021               2    11:28:59  \n",
            "1                  10            2021               2    15:11:53  \n",
            "2                 193            2021               2    12:43:19  \n",
            "3                 193            2021               2    12:44:27  \n",
            "4                 130            2021               2    13:12:14  \n",
            "\n",
            "[5 rows x 25 columns]\n"
          ]
        }
      ]
    },
    {
      "cell_type": "code",
      "source": [
        "df1.head()"
      ],
      "metadata": {
        "colab": {
          "base_uri": "https://localhost:8080/",
          "height": 386
        },
        "id": "3DjlRttbU6_f",
        "outputId": "e2bd8973-151f-4783-fffa-589f04cc8364"
      },
      "execution_count": 135,
      "outputs": [
        {
          "output_type": "execute_result",
          "data": {
            "text/plain": [
              "  vendor_id           pickup_datetime          dropoff_datetime  \\\n",
              "0         2 2021-02-02 11:28:59+00:00 2021-02-02 11:30:01+00:00   \n",
              "1         1 2021-02-02 15:11:53+00:00 2021-02-02 18:43:58+00:00   \n",
              "2         2 2021-02-03 12:43:19+00:00 2021-02-03 12:44:19+00:00   \n",
              "3         2 2021-02-03 12:44:27+00:00 2021-02-03 12:45:17+00:00   \n",
              "4         2 2021-02-03 13:12:14+00:00 2021-02-03 13:26:45+00:00   \n",
              "\n",
              "  store_and_fwd_flag rate_code  passenger_count trip_distance fare_amount  \\\n",
              "0                  N       1.0                1          0E-9        0E-9   \n",
              "1                  N       5.0                1  48.100000000        0E-9   \n",
              "2                  N       1.0                1          0E-9        0E-9   \n",
              "3                  N       1.0                1          0E-9        0E-9   \n",
              "4                  N       1.0                1   2.580000000        0E-9   \n",
              "\n",
              "  extra mta_tax  ... payment_type distance_between_service  \\\n",
              "0  0E-9    0E-9  ...          1.0                     None   \n",
              "1  0E-9    0E-9  ...          2.0                     None   \n",
              "2  0E-9    0E-9  ...          2.0                     None   \n",
              "3  0E-9    0E-9  ...          1.0                     None   \n",
              "4  0E-9    0E-9  ...          2.0                     None   \n",
              "\n",
              "  time_between_service trip_type imp_surcharge pickup_location_id  \\\n",
              "0                 <NA>       1.0          0E-9                193   \n",
              "1                 <NA>       2.0          0E-9                 83   \n",
              "2                 <NA>       1.0          0E-9                193   \n",
              "3                 <NA>       1.0          0E-9                193   \n",
              "4                 <NA>       1.0          0E-9                 95   \n",
              "\n",
              "  dropoff_location_id  data_file_year data_file_month pickup_time  \n",
              "0                 193            2021               2    11:28:59  \n",
              "1                  10            2021               2    15:11:53  \n",
              "2                 193            2021               2    12:43:19  \n",
              "3                 193            2021               2    12:44:27  \n",
              "4                 130            2021               2    13:12:14  \n",
              "\n",
              "[5 rows x 25 columns]"
            ],
            "text/html": [
              "\n",
              "  <div id=\"df-34d8786a-3f4f-4d18-987b-d4b50f8de8d7\">\n",
              "    <div class=\"colab-df-container\">\n",
              "      <div>\n",
              "<style scoped>\n",
              "    .dataframe tbody tr th:only-of-type {\n",
              "        vertical-align: middle;\n",
              "    }\n",
              "\n",
              "    .dataframe tbody tr th {\n",
              "        vertical-align: top;\n",
              "    }\n",
              "\n",
              "    .dataframe thead th {\n",
              "        text-align: right;\n",
              "    }\n",
              "</style>\n",
              "<table border=\"1\" class=\"dataframe\">\n",
              "  <thead>\n",
              "    <tr style=\"text-align: right;\">\n",
              "      <th></th>\n",
              "      <th>vendor_id</th>\n",
              "      <th>pickup_datetime</th>\n",
              "      <th>dropoff_datetime</th>\n",
              "      <th>store_and_fwd_flag</th>\n",
              "      <th>rate_code</th>\n",
              "      <th>passenger_count</th>\n",
              "      <th>trip_distance</th>\n",
              "      <th>fare_amount</th>\n",
              "      <th>extra</th>\n",
              "      <th>mta_tax</th>\n",
              "      <th>...</th>\n",
              "      <th>payment_type</th>\n",
              "      <th>distance_between_service</th>\n",
              "      <th>time_between_service</th>\n",
              "      <th>trip_type</th>\n",
              "      <th>imp_surcharge</th>\n",
              "      <th>pickup_location_id</th>\n",
              "      <th>dropoff_location_id</th>\n",
              "      <th>data_file_year</th>\n",
              "      <th>data_file_month</th>\n",
              "      <th>pickup_time</th>\n",
              "    </tr>\n",
              "  </thead>\n",
              "  <tbody>\n",
              "    <tr>\n",
              "      <th>0</th>\n",
              "      <td>2</td>\n",
              "      <td>2021-02-02 11:28:59+00:00</td>\n",
              "      <td>2021-02-02 11:30:01+00:00</td>\n",
              "      <td>N</td>\n",
              "      <td>1.0</td>\n",
              "      <td>1</td>\n",
              "      <td>0E-9</td>\n",
              "      <td>0E-9</td>\n",
              "      <td>0E-9</td>\n",
              "      <td>0E-9</td>\n",
              "      <td>...</td>\n",
              "      <td>1.0</td>\n",
              "      <td>None</td>\n",
              "      <td>&lt;NA&gt;</td>\n",
              "      <td>1.0</td>\n",
              "      <td>0E-9</td>\n",
              "      <td>193</td>\n",
              "      <td>193</td>\n",
              "      <td>2021</td>\n",
              "      <td>2</td>\n",
              "      <td>11:28:59</td>\n",
              "    </tr>\n",
              "    <tr>\n",
              "      <th>1</th>\n",
              "      <td>1</td>\n",
              "      <td>2021-02-02 15:11:53+00:00</td>\n",
              "      <td>2021-02-02 18:43:58+00:00</td>\n",
              "      <td>N</td>\n",
              "      <td>5.0</td>\n",
              "      <td>1</td>\n",
              "      <td>48.100000000</td>\n",
              "      <td>0E-9</td>\n",
              "      <td>0E-9</td>\n",
              "      <td>0E-9</td>\n",
              "      <td>...</td>\n",
              "      <td>2.0</td>\n",
              "      <td>None</td>\n",
              "      <td>&lt;NA&gt;</td>\n",
              "      <td>2.0</td>\n",
              "      <td>0E-9</td>\n",
              "      <td>83</td>\n",
              "      <td>10</td>\n",
              "      <td>2021</td>\n",
              "      <td>2</td>\n",
              "      <td>15:11:53</td>\n",
              "    </tr>\n",
              "    <tr>\n",
              "      <th>2</th>\n",
              "      <td>2</td>\n",
              "      <td>2021-02-03 12:43:19+00:00</td>\n",
              "      <td>2021-02-03 12:44:19+00:00</td>\n",
              "      <td>N</td>\n",
              "      <td>1.0</td>\n",
              "      <td>1</td>\n",
              "      <td>0E-9</td>\n",
              "      <td>0E-9</td>\n",
              "      <td>0E-9</td>\n",
              "      <td>0E-9</td>\n",
              "      <td>...</td>\n",
              "      <td>2.0</td>\n",
              "      <td>None</td>\n",
              "      <td>&lt;NA&gt;</td>\n",
              "      <td>1.0</td>\n",
              "      <td>0E-9</td>\n",
              "      <td>193</td>\n",
              "      <td>193</td>\n",
              "      <td>2021</td>\n",
              "      <td>2</td>\n",
              "      <td>12:43:19</td>\n",
              "    </tr>\n",
              "    <tr>\n",
              "      <th>3</th>\n",
              "      <td>2</td>\n",
              "      <td>2021-02-03 12:44:27+00:00</td>\n",
              "      <td>2021-02-03 12:45:17+00:00</td>\n",
              "      <td>N</td>\n",
              "      <td>1.0</td>\n",
              "      <td>1</td>\n",
              "      <td>0E-9</td>\n",
              "      <td>0E-9</td>\n",
              "      <td>0E-9</td>\n",
              "      <td>0E-9</td>\n",
              "      <td>...</td>\n",
              "      <td>1.0</td>\n",
              "      <td>None</td>\n",
              "      <td>&lt;NA&gt;</td>\n",
              "      <td>1.0</td>\n",
              "      <td>0E-9</td>\n",
              "      <td>193</td>\n",
              "      <td>193</td>\n",
              "      <td>2021</td>\n",
              "      <td>2</td>\n",
              "      <td>12:44:27</td>\n",
              "    </tr>\n",
              "    <tr>\n",
              "      <th>4</th>\n",
              "      <td>2</td>\n",
              "      <td>2021-02-03 13:12:14+00:00</td>\n",
              "      <td>2021-02-03 13:26:45+00:00</td>\n",
              "      <td>N</td>\n",
              "      <td>1.0</td>\n",
              "      <td>1</td>\n",
              "      <td>2.580000000</td>\n",
              "      <td>0E-9</td>\n",
              "      <td>0E-9</td>\n",
              "      <td>0E-9</td>\n",
              "      <td>...</td>\n",
              "      <td>2.0</td>\n",
              "      <td>None</td>\n",
              "      <td>&lt;NA&gt;</td>\n",
              "      <td>1.0</td>\n",
              "      <td>0E-9</td>\n",
              "      <td>95</td>\n",
              "      <td>130</td>\n",
              "      <td>2021</td>\n",
              "      <td>2</td>\n",
              "      <td>13:12:14</td>\n",
              "    </tr>\n",
              "  </tbody>\n",
              "</table>\n",
              "<p>5 rows × 25 columns</p>\n",
              "</div>\n",
              "      <button class=\"colab-df-convert\" onclick=\"convertToInteractive('df-34d8786a-3f4f-4d18-987b-d4b50f8de8d7')\"\n",
              "              title=\"Convert this dataframe to an interactive table.\"\n",
              "              style=\"display:none;\">\n",
              "        \n",
              "  <svg xmlns=\"http://www.w3.org/2000/svg\" height=\"24px\"viewBox=\"0 0 24 24\"\n",
              "       width=\"24px\">\n",
              "    <path d=\"M0 0h24v24H0V0z\" fill=\"none\"/>\n",
              "    <path d=\"M18.56 5.44l.94 2.06.94-2.06 2.06-.94-2.06-.94-.94-2.06-.94 2.06-2.06.94zm-11 1L8.5 8.5l.94-2.06 2.06-.94-2.06-.94L8.5 2.5l-.94 2.06-2.06.94zm10 10l.94 2.06.94-2.06 2.06-.94-2.06-.94-.94-2.06-.94 2.06-2.06.94z\"/><path d=\"M17.41 7.96l-1.37-1.37c-.4-.4-.92-.59-1.43-.59-.52 0-1.04.2-1.43.59L10.3 9.45l-7.72 7.72c-.78.78-.78 2.05 0 2.83L4 21.41c.39.39.9.59 1.41.59.51 0 1.02-.2 1.41-.59l7.78-7.78 2.81-2.81c.8-.78.8-2.07 0-2.86zM5.41 20L4 18.59l7.72-7.72 1.47 1.35L5.41 20z\"/>\n",
              "  </svg>\n",
              "      </button>\n",
              "      \n",
              "  <style>\n",
              "    .colab-df-container {\n",
              "      display:flex;\n",
              "      flex-wrap:wrap;\n",
              "      gap: 12px;\n",
              "    }\n",
              "\n",
              "    .colab-df-convert {\n",
              "      background-color: #E8F0FE;\n",
              "      border: none;\n",
              "      border-radius: 50%;\n",
              "      cursor: pointer;\n",
              "      display: none;\n",
              "      fill: #1967D2;\n",
              "      height: 32px;\n",
              "      padding: 0 0 0 0;\n",
              "      width: 32px;\n",
              "    }\n",
              "\n",
              "    .colab-df-convert:hover {\n",
              "      background-color: #E2EBFA;\n",
              "      box-shadow: 0px 1px 2px rgba(60, 64, 67, 0.3), 0px 1px 3px 1px rgba(60, 64, 67, 0.15);\n",
              "      fill: #174EA6;\n",
              "    }\n",
              "\n",
              "    [theme=dark] .colab-df-convert {\n",
              "      background-color: #3B4455;\n",
              "      fill: #D2E3FC;\n",
              "    }\n",
              "\n",
              "    [theme=dark] .colab-df-convert:hover {\n",
              "      background-color: #434B5C;\n",
              "      box-shadow: 0px 1px 3px 1px rgba(0, 0, 0, 0.15);\n",
              "      filter: drop-shadow(0px 1px 2px rgba(0, 0, 0, 0.3));\n",
              "      fill: #FFFFFF;\n",
              "    }\n",
              "  </style>\n",
              "\n",
              "      <script>\n",
              "        const buttonEl =\n",
              "          document.querySelector('#df-34d8786a-3f4f-4d18-987b-d4b50f8de8d7 button.colab-df-convert');\n",
              "        buttonEl.style.display =\n",
              "          google.colab.kernel.accessAllowed ? 'block' : 'none';\n",
              "\n",
              "        async function convertToInteractive(key) {\n",
              "          const element = document.querySelector('#df-34d8786a-3f4f-4d18-987b-d4b50f8de8d7');\n",
              "          const dataTable =\n",
              "            await google.colab.kernel.invokeFunction('convertToInteractive',\n",
              "                                                     [key], {});\n",
              "          if (!dataTable) return;\n",
              "\n",
              "          const docLinkHtml = 'Like what you see? Visit the ' +\n",
              "            '<a target=\"_blank\" href=https://colab.research.google.com/notebooks/data_table.ipynb>data table notebook</a>'\n",
              "            + ' to learn more about interactive tables.';\n",
              "          element.innerHTML = '';\n",
              "          dataTable['output_type'] = 'display_data';\n",
              "          await google.colab.output.renderOutput(dataTable, element);\n",
              "          const docLink = document.createElement('div');\n",
              "          docLink.innerHTML = docLinkHtml;\n",
              "          element.appendChild(docLink);\n",
              "        }\n",
              "      </script>\n",
              "    </div>\n",
              "  </div>\n",
              "  "
            ]
          },
          "metadata": {},
          "execution_count": 135
        }
      ]
    },
    {
      "cell_type": "code",
      "source": [
        "# Create a new column indicating if pickup_time is at night or during the day\n",
        "df1['pickup_time_period'] = df1['pickup_datetime'].apply(lambda x: 'night' if ((x.hour >= 20) or (x.hour < 8)) else 'day')\n",
        "\n",
        "# Print the first few rows to verify the results\n",
        "print(df1.head())\n"
      ],
      "metadata": {
        "colab": {
          "base_uri": "https://localhost:8080/"
        },
        "id": "RSC-uVUyU-OH",
        "outputId": "bbd2ef7e-3cb6-4091-8e1b-92abb7506409"
      },
      "execution_count": 136,
      "outputs": [
        {
          "output_type": "stream",
          "name": "stdout",
          "text": [
            "  vendor_id           pickup_datetime          dropoff_datetime  \\\n",
            "0         2 2021-02-02 11:28:59+00:00 2021-02-02 11:30:01+00:00   \n",
            "1         1 2021-02-02 15:11:53+00:00 2021-02-02 18:43:58+00:00   \n",
            "2         2 2021-02-03 12:43:19+00:00 2021-02-03 12:44:19+00:00   \n",
            "3         2 2021-02-03 12:44:27+00:00 2021-02-03 12:45:17+00:00   \n",
            "4         2 2021-02-03 13:12:14+00:00 2021-02-03 13:26:45+00:00   \n",
            "\n",
            "  store_and_fwd_flag rate_code  passenger_count trip_distance fare_amount  \\\n",
            "0                  N       1.0                1          0E-9        0E-9   \n",
            "1                  N       5.0                1  48.100000000        0E-9   \n",
            "2                  N       1.0                1          0E-9        0E-9   \n",
            "3                  N       1.0                1          0E-9        0E-9   \n",
            "4                  N       1.0                1   2.580000000        0E-9   \n",
            "\n",
            "  extra mta_tax  ... distance_between_service time_between_service trip_type  \\\n",
            "0  0E-9    0E-9  ...                     None                 <NA>       1.0   \n",
            "1  0E-9    0E-9  ...                     None                 <NA>       2.0   \n",
            "2  0E-9    0E-9  ...                     None                 <NA>       1.0   \n",
            "3  0E-9    0E-9  ...                     None                 <NA>       1.0   \n",
            "4  0E-9    0E-9  ...                     None                 <NA>       1.0   \n",
            "\n",
            "  imp_surcharge pickup_location_id dropoff_location_id data_file_year  \\\n",
            "0          0E-9                193                 193           2021   \n",
            "1          0E-9                 83                  10           2021   \n",
            "2          0E-9                193                 193           2021   \n",
            "3          0E-9                193                 193           2021   \n",
            "4          0E-9                 95                 130           2021   \n",
            "\n",
            "   data_file_month pickup_time pickup_time_period  \n",
            "0                2    11:28:59                day  \n",
            "1                2    15:11:53                day  \n",
            "2                2    12:43:19                day  \n",
            "3                2    12:44:27                day  \n",
            "4                2    13:12:14                day  \n",
            "\n",
            "[5 rows x 26 columns]\n"
          ]
        }
      ]
    },
    {
      "cell_type": "code",
      "source": [
        "import matplotlib.pyplot as plt\n",
        "\n",
        "# Calculate the average fare amount by pickup time period\n",
        "fare_by_time_period = df1.groupby('pickup_time_period')['fare_amount'].mean()\n",
        "\n",
        "# Print the average fare amount by pickup time period\n",
        "print(\"Average Fare Amount by Pickup Time Period:\")\n",
        "print(fare_by_time_period)\n",
        "\n",
        "# Create a bar plot of average fare amount by pickup time period\n",
        "plt.bar(fare_by_time_period.index, fare_by_time_period.values)\n",
        "\n",
        "# Set the plot title and axis labels\n",
        "plt.title('Average Fare Amount by Pickup Time Period')\n",
        "plt.xlabel('Pickup Time Period')\n",
        "plt.ylabel('Average Fare Amount')\n",
        "plt.savefig('5.png', dpi=300, bbox_inches='tight')\n",
        "# Show the plot\n",
        "plt.show()\n"
      ],
      "metadata": {
        "colab": {
          "base_uri": "https://localhost:8080/",
          "height": 559
        },
        "id": "l21KTSR_U_1Z",
        "outputId": "2e18f30b-dd17-4f4f-de45-5433cbe7e6ed"
      },
      "execution_count": 137,
      "outputs": [
        {
          "output_type": "stream",
          "name": "stdout",
          "text": [
            "Average Fare Amount by Pickup Time Period:\n",
            "pickup_time_period\n",
            "day      20.063204\n",
            "night    20.405869\n",
            "Name: fare_amount, dtype: float64\n"
          ]
        },
        {
          "output_type": "display_data",
          "data": {
            "text/plain": [
              "<Figure size 640x480 with 1 Axes>"
            ],
            "image/png": "[encoded data removed]"
          },
          "metadata": {}
        }
      ]
    },
    {
      "cell_type": "code",
      "source": [
        "# Create a new column to extract the hour component of pickup_datetime\n",
        "df1['pickup_hour'] = df1['pickup_datetime'].apply(lambda x: x.hour)\n",
        "\n",
        "# Calculate the total fare amount earned for each pickup hour\n",
        "fare_by_hour = df1.groupby('pickup_hour')['fare_amount'].sum()\n",
        "\n",
        "# Create a bar plot of total fare amount earned by pickup hour\n",
        "plt.bar(fare_by_hour.index, fare_by_hour.values)\n",
        "\n",
        "# Set the plot title and axis labels\n",
        "plt.title('Total Fare Amount Earned by Pickup Hour')\n",
        "plt.xlabel('Pickup Hour')\n",
        "plt.ylabel('Total Fare Amount')\n",
        "\n",
        "\n",
        "plt.savefig('6.png', dpi=300, bbox_inches='tight')\n",
        "# Show the plot\n",
        "plt.show()\n"
      ],
      "metadata": {
        "colab": {
          "base_uri": "https://localhost:8080/",
          "height": 472
        },
        "id": "UcgjadkRVEXG",
        "outputId": "0db5a77a-6fc2-4bcf-c4ca-499b5dbcd9e5"
      },
      "execution_count": 138,
      "outputs": [
        {
          "output_type": "display_data",
          "data": {
            "text/plain": [
              "<Figure size 640x480 with 1 Axes>"
            ],
            "image/png": "[encoded data removed]"
          },
          "metadata": {}
        }
      ]
    },
    {
      "cell_type": "code",
      "source": [
        "# Example code\n",
        "import pandas as pd\n",
        "import matplotlib.pyplot as plt\n",
        "\n",
        "# Load NYC taxi fare data into a dataframe (replace 'filename.csv' with your actual filename)\n",
        "#df = pd.read_csv('filename.csv')\n",
        "\n",
        "# Count the number of occurrences of each payment type\n",
        "payment_counts = df1['payment_type'].value_counts()\n",
        "\n",
        "# Create a pie chart showing the distribution of payment types\n",
        "plt.pie(payment_counts, labels=payment_counts.index, autopct='%1.1f%%')\n",
        "plt.title('Distribution of Payment Types')\n",
        "\n",
        "# Add a legend to the chart with percentage values\n",
        "plt.legend(title='Payment Types', loc='best', bbox_to_anchor=(1, 0, 0.5, 1),\n",
        "           labels=['{} ({:.1f}%)'.format(i,j*100/sum(payment_counts)) for i,j in payment_counts.items()])\n",
        "\n",
        "plt.axis('equal')  # Equal aspect ratio ensures that pie is drawn as a circle\n",
        "plt.savefig('7.png', dpi=300, bbox_inches='tight')\n",
        "plt.show()\n"
      ],
      "metadata": {
        "colab": {
          "base_uri": "https://localhost:8080/",
          "height": 428
        },
        "id": "ZsJfSKcmb9en",
        "outputId": "ca87bb70-5898-4e9b-dbcd-e5cfe0210c9c"
      },
      "execution_count": 139,
      "outputs": [
        {
          "output_type": "display_data",
          "data": {
            "text/plain": [
              "<Figure size 640x480 with 1 Axes>"
            ],
            "image/png": "[encoded data removed]"
          },
          "metadata": {}
        }
      ]
    },
    {
      "cell_type": "code",
      "source": [
        "df1.total_amount.max()"
      ],
      "metadata": {
        "colab": {
          "base_uri": "https://localhost:8080/"
        },
        "id": "lHlWjFcMVAqh",
        "outputId": "1167c69d-1bbe-4441-efa2-64ac08fc7b48"
      },
      "execution_count": 140,
      "outputs": [
        {
          "output_type": "execute_result",
          "data": {
            "text/plain": [
              "Decimal('2113.550000000')"
            ]
          },
          "metadata": {},
          "execution_count": 140
        }
      ]
    }
  ]
}