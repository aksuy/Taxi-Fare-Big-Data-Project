{
  "nbformat": 4,
  "nbformat_minor": 0,
  "metadata": {
    "colab": {
      "provenance": []
    },
    "kernelspec": {
      "name": "python3",
      "display_name": "Python 3"
    },
    "language_info": {
      "name": "python"
    }
  },
  "cells": [
    {
      "cell_type": "code",
      "execution_count": 37,
      "metadata": {
        "id": "oprxsHTQjXKs"
      },
      "outputs": [],
      "source": [
        "from google.cloud import bigquery\n",
        "#import db-dtypes\n",
        "import os\n",
        "import pandas as pd\n",
        "# Create a BigQuery client object\n",
        "#from pyspark.sql import SparkSession\n",
        "#from pyspark.ml.regression import LinearRegression\n",
        "#from pyspark.ml.feature import VectorAssembler\n",
        "\n",
        "os.environ[\"GOOGLE_APPLICATION_CREDENTIALS\"]= \"nifty-expanse-380117-34182b0834a5.json\"\n",
        "client = bigquery.Client()\n",
        "# Construct the SQL query to fetch data from a table in the database\n",
        "sql_query1 = \"\"\"SELECT * FROM `bigquery-public-data.new_york_taxi_trips.tlc_green_trips_2020`\"\"\"\n",
        "# Execute the query and fetch the results\n",
        "query_job = client.query(sql_query1)\n",
        "df1 = query_job.to_dataframe()\n",
        "\n",
        "\n"
      ]
    },
    {
      "cell_type": "code",
      "source": [
        "df1.shape"
      ],
      "metadata": {
        "colab": {
          "base_uri": "https://localhost:8080/"
        },
        "id": "B8cQJ6YZjp4y",
        "outputId": "a1217ce5-1c7e-4e46-e9d1-1c25853c7109"
      },
      "execution_count": 20,
      "outputs": [
        {
          "output_type": "execute_result",
          "data": {
            "text/plain": [
              "(1734165, 24)"
            ]
          },
          "metadata": {},
          "execution_count": 20
        }
      ]
    },
    {
      "cell_type": "code",
      "source": [
        "df1.columns"
      ],
      "metadata": {
        "colab": {
          "base_uri": "https://localhost:8080/"
        },
        "id": "Tduips7vjtlW",
        "outputId": "af4341e3-3e1c-4b03-e4e6-af3b22ee2c09"
      },
      "execution_count": 21,
      "outputs": [
        {
          "output_type": "execute_result",
          "data": {
            "text/plain": [
              "Index(['vendor_id', 'pickup_datetime', 'dropoff_datetime',\n",
              "       'store_and_fwd_flag', 'rate_code', 'passenger_count', 'trip_distance',\n",
              "       'fare_amount', 'extra', 'mta_tax', 'tip_amount', 'tolls_amount',\n",
              "       'ehail_fee', 'airport_fee', 'total_amount', 'payment_type',\n",
              "       'distance_between_service', 'time_between_service', 'trip_type',\n",
              "       'imp_surcharge', 'pickup_location_id', 'dropoff_location_id',\n",
              "       'data_file_year', 'data_file_month'],\n",
              "      dtype='object')"
            ]
          },
          "metadata": {},
          "execution_count": 21
        }
      ]
    },
    {
      "cell_type": "code",
      "source": [
        "df1.describe"
      ],
      "metadata": {
        "colab": {
          "base_uri": "https://localhost:8080/"
        },
        "id": "WvNazQKEj-Wb",
        "outputId": "765a953c-45fc-418b-be78-3e3dbded4d5f"
      },
      "execution_count": 22,
      "outputs": [
        {
          "output_type": "execute_result",
          "data": {
            "text/plain": [
              "<bound method NDFrame.describe of         vendor_id           pickup_datetime          dropoff_datetime  \\\n",
              "0               2 2020-04-07 01:12:39+00:00 2020-04-07 01:30:44+00:00   \n",
              "1               2 2020-04-09 09:52:27+00:00 2020-04-09 09:52:32+00:00   \n",
              "2               2 2020-04-09 10:45:27+00:00 2020-04-09 10:46:16+00:00   \n",
              "3               1 2020-04-15 15:04:20+00:00 2020-04-15 15:06:33+00:00   \n",
              "4               2 2020-04-17 00:14:19+00:00 2020-04-17 00:23:31+00:00   \n",
              "...           ...                       ...                       ...   \n",
              "1734160         2 2020-01-09 06:07:00+00:00 2020-01-09 06:40:00+00:00   \n",
              "1734161         2 2020-01-07 07:49:00+00:00 2020-01-07 08:29:00+00:00   \n",
              "1734162         2 2020-01-09 07:42:00+00:00 2020-01-09 08:07:00+00:00   \n",
              "1734163         2 2020-01-22 11:46:00+00:00 2020-01-22 12:16:00+00:00   \n",
              "1734164         2 2020-01-27 08:52:56+00:00 2020-01-27 11:16:55+00:00   \n",
              "\n",
              "        store_and_fwd_flag rate_code  passenger_count  trip_distance  \\\n",
              "0                        N       1.0                2    7.420000000   \n",
              "1                        N       1.0                1    0.010000000   \n",
              "2                        N       1.0                1           0E-9   \n",
              "3                        N       5.0                1    0.200000000   \n",
              "4                        N       1.0                1    2.250000000   \n",
              "...                    ...       ...              ...            ...   \n",
              "1734160               None      None             <NA>   10.000000000   \n",
              "1734161               None      None             <NA>    6.460000000   \n",
              "1734162               None      None             <NA>    8.340000000   \n",
              "1734163               None      None             <NA>   10.140000000   \n",
              "1734164                  N       4.0                2  130.680000000   \n",
              "\n",
              "           fare_amount        extra      mta_tax  ...   total_amount  \\\n",
              "0                 0E-9         0E-9         0E-9  ...           0E-9   \n",
              "1                 0E-9         0E-9         0E-9  ...           0E-9   \n",
              "2                 0E-9         0E-9         0E-9  ...           0E-9   \n",
              "3                 0E-9         0E-9         0E-9  ...           0E-9   \n",
              "4                 0E-9         0E-9         0E-9  ...           0E-9   \n",
              "...                ...          ...          ...  ...            ...   \n",
              "1734160   29.070000000         0E-9  0.500000000  ...   29.870000000   \n",
              "1734161   29.070000000         0E-9  0.500000000  ...   29.570000000   \n",
              "1734162   29.070000000         0E-9         0E-9  ...   29.370000000   \n",
              "1734163   34.190000000  2.750000000  0.500000000  ...   37.740000000   \n",
              "1734164  630.000000000         0E-9  0.500000000  ...  636.920000000   \n",
              "\n",
              "        payment_type distance_between_service time_between_service trip_type  \\\n",
              "0                2.0                     None                 <NA>       1.0   \n",
              "1                2.0                     None                 <NA>       1.0   \n",
              "2                1.0                     None                 <NA>       1.0   \n",
              "3                3.0                     None                 <NA>       2.0   \n",
              "4                2.0                     None                 <NA>       1.0   \n",
              "...              ...                      ...                  ...       ...   \n",
              "1734160         None                     None                 <NA>      None   \n",
              "1734161         None                     None                 <NA>      None   \n",
              "1734162         None                     None                 <NA>      None   \n",
              "1734163         None                     None                 <NA>      None   \n",
              "1734164          2.0                     None                 <NA>       1.0   \n",
              "\n",
              "        imp_surcharge pickup_location_id  dropoff_location_id data_file_year  \\\n",
              "0                0E-9                 75                  241           2020   \n",
              "1                0E-9                244                  244           2020   \n",
              "2                0E-9                193                  193           2020   \n",
              "3                0E-9                119                  119           2020   \n",
              "4                0E-9                116                  244           2020   \n",
              "...               ...                ...                  ...            ...   \n",
              "1734160   0.300000000                220                  213           2020   \n",
              "1734161          0E-9                 76                   61           2020   \n",
              "1734162   0.300000000                215                  252           2020   \n",
              "1734163   0.300000000                166                    3           2020   \n",
              "1734164   0.300000000                 92                  265           2020   \n",
              "\n",
              "        data_file_month  \n",
              "0                     4  \n",
              "1                     4  \n",
              "2                     4  \n",
              "3                     4  \n",
              "4                     4  \n",
              "...                 ...  \n",
              "1734160               1  \n",
              "1734161               1  \n",
              "1734162               1  \n",
              "1734163               1  \n",
              "1734164               1  \n",
              "\n",
              "[1734165 rows x 24 columns]>"
            ]
          },
          "metadata": {},
          "execution_count": 22
        }
      ]
    },
    {
      "cell_type": "code",
      "source": [
        "df1.trip_distance.min()"
      ],
      "metadata": {
        "colab": {
          "base_uri": "https://localhost:8080/"
        },
        "id": "iQr3qlaOj0Rt",
        "outputId": "e056622d-1647-41e9-da7d-e7ef9eb1ac24"
      },
      "execution_count": 23,
      "outputs": [
        {
          "output_type": "execute_result",
          "data": {
            "text/plain": [
              "Decimal('-33.690000000')"
            ]
          },
          "metadata": {},
          "execution_count": 23
        }
      ]
    },
    {
      "cell_type": "code",
      "source": [
        "df1.trip_distance.max()"
      ],
      "metadata": {
        "colab": {
          "base_uri": "https://localhost:8080/"
        },
        "id": "cgLkjuSzj7yM",
        "outputId": "873b4be4-ac5d-4806-c1ea-b50e8b1cc54c"
      },
      "execution_count": 24,
      "outputs": [
        {
          "output_type": "execute_result",
          "data": {
            "text/plain": [
              "Decimal('205654.120000000')"
            ]
          },
          "metadata": {},
          "execution_count": 24
        }
      ]
    },
    {
      "cell_type": "code",
      "source": [
        "df1.trip_distance.mean()"
      ],
      "metadata": {
        "colab": {
          "base_uri": "https://localhost:8080/"
        },
        "id": "rTI013-HlEJa",
        "outputId": "928bb8f8-269d-434e-dc9f-956f91de0e76"
      },
      "execution_count": 25,
      "outputs": [
        {
          "output_type": "execute_result",
          "data": {
            "text/plain": [
              "17.29147615134661"
            ]
          },
          "metadata": {},
          "execution_count": 25
        }
      ]
    },
    {
      "cell_type": "code",
      "source": [
        "df1.dtypes"
      ],
      "metadata": {
        "colab": {
          "base_uri": "https://localhost:8080/"
        },
        "id": "1Aj9ngJSlimB",
        "outputId": "5d671048-837c-4c14-d3f3-7582d0c6c023"
      },
      "execution_count": null,
      "outputs": [
        {
          "output_type": "execute_result",
          "data": {
            "text/plain": [
              "vendor_id                                object\n",
              "pickup_datetime             datetime64[ns, UTC]\n",
              "dropoff_datetime            datetime64[ns, UTC]\n",
              "store_and_fwd_flag                       object\n",
              "rate_code                                object\n",
              "passenger_count                           Int64\n",
              "trip_distance                             int64\n",
              "fare_amount                              object\n",
              "extra                                    object\n",
              "mta_tax                                  object\n",
              "tip_amount                               object\n",
              "tolls_amount                             object\n",
              "ehail_fee                                object\n",
              "airport_fee                              object\n",
              "total_amount                             object\n",
              "payment_type                             object\n",
              "distance_between_service                 object\n",
              "time_between_service                      Int64\n",
              "trip_type                                object\n",
              "imp_surcharge                            object\n",
              "pickup_location_id                       object\n",
              "dropoff_location_id                      object\n",
              "data_file_year                            Int64\n",
              "data_file_month                           Int64\n",
              "dtype: object"
            ]
          },
          "metadata": {},
          "execution_count": 17
        }
      ]
    },
    {
      "cell_type": "code",
      "source": [
        "df1['trip_distance'] = df1['trip_distance'].astype(int)"
      ],
      "metadata": {
        "id": "muptn8QAltBU"
      },
      "execution_count": 26,
      "outputs": []
    },
    {
      "cell_type": "code",
      "source": [
        "df1.trip_distance.unique()"
      ],
      "metadata": {
        "colab": {
          "base_uri": "https://localhost:8080/"
        },
        "id": "KgHpyv1ol5wr",
        "outputId": "c2faf1bb-fa44-4355-bfee-30a3b33a02a7"
      },
      "execution_count": 27,
      "outputs": [
        {
          "output_type": "execute_result",
          "data": {
            "text/plain": [
              "array([     7,      0,      2,      1,      9,     11,      3,      5,\n",
              "            8,     20,     16,     19,     17,     15,      4,     12,\n",
              "           10,     14,      6,     13,     23,     25,     26,     18,\n",
              "           24,     31,     22,     21,     30,     29,     27,     32,\n",
              "           88,     28,   6726,   6752,   6712,     36,  55027,     35,\n",
              "           38,   6738,   6733,     33,     37,  26471,  41813,   6719,\n",
              "           34,   6702,     39,     67,     62,     41, 149267, 131317,\n",
              "           60,  11266,     57,  94703,  35465,  38283,  11549, 116920,\n",
              "           45, 132205,  81823,  12244, 117898,  12142,   5785,  11540,\n",
              "          107,  37067,     46, 169330,     44,  37079,  11275,     40,\n",
              "        84052, 116981,     47,     50,  82220,     52, 169320,  49245,\n",
              "       117347,  75426,     65,  42893, 133499,     42, 134121,     55,\n",
              "       134341,     51,     79,     84, 134017,  44222,  48550,  84439,\n",
              "       133662,  34873, 133669,     49, 132850, 133533, 148387,  49185,\n",
              "         6237, 134349,  44030, 133425, 134355,     48, 134359,     78,\n",
              "           80, 162291, 109859,  37562,  50203,  44051,  96973,  37467,\n",
              "        43972,  26775,  54061,  37603,  26656,  34331,     53,  37501,\n",
              "           92,  37445, 109878,  52492,  35757,  37435,  60627,  37544,\n",
              "        37570,  55139,  54708,  60479, 157806,  61864,  59991, 201764,\n",
              "        39702, 109504,  49201,  38822,  66115,  37489,  16162,  37515,\n",
              "        28334,  30557,  98718,  37422,  37491,  28325,  53218,  53167,\n",
              "        37521,  52485,  39583,  56305,  39746,  28348,  41233, 162214,\n",
              "       109974,     85,  63209,  37393,  51437,     74,  39700,  25731,\n",
              "        24430,  39792,   5445,  56311,  37580, 134976, 135607,  40299,\n",
              "        44849,  58211, 134652,  38640,  36636, 135018,  46006, 135028,\n",
              "       136465,    108,     97,     43,  45470,  45496, 135055, 136050,\n",
              "       135793,  46020,    103,     54,  45621, 136079,  49969, 134873,\n",
              "       136573,  45313,  51383, 136519,   2288,  36013, 141563,  16356,\n",
              "       134867, 135620, 135947, 136461,  45597,  46014,     59,  49633,\n",
              "       136394, 134992, 135683,  49637, 134955, 135496,     75,  36588,\n",
              "        36675,  44796,     69, 136070, 135799, 136404,  49628,  45514,\n",
              "        26899,  45610,  47669, 135954,  11906,  52464, 136127,  34625,\n",
              "        45588, 135528, 136399,   2542,  16033, 105617,  16025,  95274,\n",
              "          120,  34316, 147363,  24986,  52044,     94, 106462, 205654,\n",
              "        51207, 122044,  50824,  53337, 200968,  24219,  15406,  37418,\n",
              "        49971,  18993,  85048,  24121,  19217, 190174, 147356,  59094,\n",
              "           66, 179006, 170187,  62761,  53331, 102496,     70,    423,\n",
              "           77, 138316, 170783,    100,    119,  17197,  47961,  30225,\n",
              "         8500, 137936,     87, 137868, 138014, 138125,  50966, 136862,\n",
              "        24246, 137262, 138023, 137007, 137947,  42775,  23767,  14554,\n",
              "       138353, 138106,     68,  14492, 146467, 178993,  48696,  42638,\n",
              "        35604, 102349,  30491,  52847,  23359,  19947, 137158, 137956,\n",
              "       180122,  53686,   4566, 137931, 138306,   8476,  20444,     64,\n",
              "          101,   6264,     61,  65893,  32979,    171,  49776,     93,\n",
              "        55394,   1805,  14800,  33927,  49515, 170878,  50520,  12311,\n",
              "        45941,  27954,  26918,    996,  26913,  56363,  42246, 168064,\n",
              "        40779,  19786,    533,    125,   6062,   5991,   6564,    105,\n",
              "        37290,  59230,     89,  60982,    151, 117421,  99870,  28416,\n",
              "         5949,  39271,  59201,   6282,  40818,  28436,  29299,    115,\n",
              "       109461,   6276,  40763,  19125,  35331,  52025,  41637,  71642,\n",
              "       159622, 123821,  29885,   6000,  64192,  56609,   6842,  42213,\n",
              "        19624,  99989,   9437,  26057,  28497,  20906,  27899,    -13,\n",
              "           -5,     -9,    -19,     -1,     56,    -11,    -10,     -6,\n",
              "           -8,     -4,     -2,    -14,     -3,    -18,    -15,    -12,\n",
              "           -7,    -16,    -24,    -17,    -20,    -33,    -26,    -21,\n",
              "       106704, 118949, 141874,  58566, 141603,  29890, 117195,  34695,\n",
              "         8834,   5388, 122181,  37266,  12392,    -22,  24904,  12467,\n",
              "       159907,    124,    -29,     72,    130])"
            ]
          },
          "metadata": {},
          "execution_count": 27
        }
      ]
    },
    {
      "cell_type": "code",
      "source": [
        "newdf1 = df1.loc[df1['trip_distance'] >= 0]"
      ],
      "metadata": {
        "id": "yFZSJBStkHfS"
      },
      "execution_count": 28,
      "outputs": []
    },
    {
      "cell_type": "code",
      "source": [
        "import pandas as pd\n",
        "import numpy as np\n",
        "\n",
        "def remove_outliers(df1, column, lower_bound=None, upper_bound=None):\n",
        "    if lower_bound is None:\n",
        "        lower_bound = df1[column].quantile(0.25) - 1.5 * (df1[column].quantile(0.75) - df1[column].quantile(0.25))\n",
        "    if upper_bound is None:\n",
        "        upper_bound = df1[column].quantile(0.75) + 1.5 * (df1[column].quantile(0.75) - df1[column].quantile(0.25))\n",
        "    df1_filtered = df1[(df1[column] >= lower_bound) & (df1[column] <= upper_bound)]\n",
        "    return df1_filtered\n",
        "\n",
        "# Example usage\n",
        "data_filtered = remove_outliers(df1, 'trip_distance')"
      ],
      "metadata": {
        "id": "324IzJvfkdFj"
      },
      "execution_count": 29,
      "outputs": []
    },
    {
      "cell_type": "code",
      "source": [
        "newdf1.trip_distance.mean()"
      ],
      "metadata": {
        "colab": {
          "base_uri": "https://localhost:8080/"
        },
        "id": "2bBx7WabmNMw",
        "outputId": "b49556cc-c183-4ed8-8e73-b10103a3753f"
      },
      "execution_count": 30,
      "outputs": [
        {
          "output_type": "execute_result",
          "data": {
            "text/plain": [
              "16.828711353052757"
            ]
          },
          "metadata": {},
          "execution_count": 30
        }
      ]
    },
    {
      "cell_type": "code",
      "source": [
        "newdf1.trip_distance.max()"
      ],
      "metadata": {
        "colab": {
          "base_uri": "https://localhost:8080/"
        },
        "id": "nPoHpGSLlCs9",
        "outputId": "bf6569b7-db0a-4f3c-e036-1991617f8743"
      },
      "execution_count": 31,
      "outputs": [
        {
          "output_type": "execute_result",
          "data": {
            "text/plain": [
              "205654"
            ]
          },
          "metadata": {},
          "execution_count": 31
        }
      ]
    },
    {
      "cell_type": "code",
      "source": [
        "df1.total_amount.min()"
      ],
      "metadata": {
        "colab": {
          "base_uri": "https://localhost:8080/"
        },
        "id": "z2BVGW5amZY4",
        "outputId": "01b6da8b-f4cc-45db-df05-a6778b6e1d72"
      },
      "execution_count": 32,
      "outputs": [
        {
          "output_type": "execute_result",
          "data": {
            "text/plain": [
              "Decimal('-210.300000000')"
            ]
          },
          "metadata": {},
          "execution_count": 32
        }
      ]
    },
    {
      "cell_type": "code",
      "source": [
        "df1.passenger_count.isna().sum()"
      ],
      "metadata": {
        "colab": {
          "base_uri": "https://localhost:8080/"
        },
        "id": "vdOFiubEszpV",
        "outputId": "a1a2689d-69b5-4dd2-f3cb-4da9825bb347"
      },
      "execution_count": 38,
      "outputs": [
        {
          "output_type": "execute_result",
          "data": {
            "text/plain": [
              "528216"
            ]
          },
          "metadata": {},
          "execution_count": 38
        }
      ]
    },
    {
      "cell_type": "code",
      "source": [
        "df1.dropna(subset=['passenger_count'], inplace=True)\n"
      ],
      "metadata": {
        "id": "7_SiiUMZtIdL"
      },
      "execution_count": 39,
      "outputs": []
    },
    {
      "cell_type": "code",
      "source": [
        "df1 = df1[df1['passenger_count'] != 0]"
      ],
      "metadata": {
        "id": "PZ5fHX4lv299"
      },
      "execution_count": 40,
      "outputs": []
    },
    {
      "cell_type": "code",
      "source": [
        "df1.passenger_count.unique()"
      ],
      "metadata": {
        "colab": {
          "base_uri": "https://localhost:8080/"
        },
        "id": "EV7HCmu9tQXD",
        "outputId": "cef9a7ce-db0a-41b6-8fc2-e538a90faa92"
      },
      "execution_count": 41,
      "outputs": [
        {
          "output_type": "execute_result",
          "data": {
            "text/plain": [
              "<IntegerArray>\n",
              "[2, 3, 1, 6, 5, 4, 8, 7, 9]\n",
              "Length: 9, dtype: Int64"
            ]
          },
          "metadata": {},
          "execution_count": 41
        }
      ]
    },
    {
      "cell_type": "code",
      "source": [
        "import pandas as pd\n",
        "import matplotlib.pyplot as plt\n",
        "\n",
        "# Read in the data\n",
        "\n",
        "\n",
        "# Get value counts for the column\n",
        "value_counts = df1['passenger_count'].value_counts()\n",
        "\n",
        "# Plot pie chart\n",
        "fig, ax = plt.subplots()\n",
        "ax.pie(value_counts, labels=value_counts.index)\n",
        "plt.figure(figsize=(8, 8))\n",
        "\n",
        "# Add percentage values to legend\n",
        "total = sum(value_counts)\n",
        "vals = value_counts.values\n",
        "labels = value_counts.index\n",
        "percentages = [\"{0:.2f}%\".format(val/total*100) for val in vals]\n",
        "legends = [f'{label}: {percentage}' for label, percentage in zip(labels, percentages)]\n",
        "ax.legend(legends, loc=\"upper right\",bbox_to_anchor=(1.1, 1.5))\n",
        "\n",
        "plt.savefig('fare_by_hour.png', dpi=300, bbox_inches='tight')\n",
        "#plt.savefig('pie_payment2020.png')\n",
        "plt.show()\n",
        "\n"
      ],
      "metadata": {
        "colab": {
          "base_uri": "https://localhost:8080/",
          "height": 619
        },
        "id": "EJt8CFSQvUiT",
        "outputId": "69977881-4a1d-470a-fdb2-cb8b3b3c4169"
      },
      "execution_count": 48,
      "outputs": [
        {
          "output_type": "display_data",
          "data": {
            "text/plain": [
              "<Figure size 640x480 with 1 Axes>"
            ],
            "image/png": "[encoded data removed]"
          },
          "metadata": {}
        },
        {
          "output_type": "display_data",
          "data": {
            "text/plain": [
              "<Figure size 800x800 with 0 Axes>"
            ]
          },
          "metadata": {}
        },
        {
          "output_type": "display_data",
          "data": {
            "text/plain": [
              "<Figure size 640x480 with 0 Axes>"
            ]
          },
          "metadata": {}
        }
      ]
    },
    {
      "cell_type": "code",
      "source": [],
      "metadata": {
        "id": "7Jfd3fh2cDYE"
      },
      "execution_count": null,
      "outputs": []
    },
    {
      "cell_type": "code",
      "source": [
        "from google.cloud import bigquery\n",
        "#import db-dtypes\n",
        "import os\n",
        "import pandas as pd\n",
        "# Create a BigQuery client object\n",
        "#from pyspark.sql import SparkSession\n",
        "#from pyspark.ml.regression import LinearRegression\n",
        "#from pyspark.ml.feature import VectorAssembler\n",
        "\n",
        "os.environ[\"GOOGLE_APPLICATION_CREDENTIALS\"]= \"nifty-expanse-380117-34182b0834a5.json\"\n",
        "client = bigquery.Client()\n",
        "# Construct the SQL query to fetch data from a table in the database\n",
        "sql_query1 = \"\"\"SELECT * FROM `bigquery-public-data.new_york_taxi_trips.tlc_green_trips_2020`\"\"\"\n",
        "# Execute the query and fetch the results\n",
        "query_job = client.query(sql_query1)\n",
        "df1 = query_job.to_dataframe()\n"
      ],
      "metadata": {
        "id": "taKWAG4cvyr0"
      },
      "execution_count": 49,
      "outputs": []
    },
    {
      "cell_type": "code",
      "source": [
        "df1.pickup_location_id.max()"
      ],
      "metadata": {
        "colab": {
          "base_uri": "https://localhost:8080/",
          "height": 36
        },
        "id": "_QWUXjSO2ysD",
        "outputId": "442a8a0c-4e9f-4f8b-c2eb-e4b326005872"
      },
      "execution_count": null,
      "outputs": [
        {
          "output_type": "execute_result",
          "data": {
            "text/plain": [
              "'99'"
            ],
            "application/vnd.google.colaboratory.intrinsic+json": {
              "type": "string"
            }
          },
          "metadata": {},
          "execution_count": 136
        }
      ]
    },
    {
      "cell_type": "code",
      "source": [
        "df1.pickup_location_id.max()"
      ],
      "metadata": {
        "colab": {
          "base_uri": "https://localhost:8080/",
          "height": 36
        },
        "id": "IMtZ62totejI",
        "outputId": "259df50a-c9e9-464f-de63-8d79c4e93ea8"
      },
      "execution_count": null,
      "outputs": [
        {
          "output_type": "execute_result",
          "data": {
            "text/plain": [
              "'99'"
            ],
            "application/vnd.google.colaboratory.intrinsic+json": {
              "type": "string"
            }
          },
          "metadata": {},
          "execution_count": 135
        }
      ]
    },
    {
      "cell_type": "code",
      "source": [
        "df1.head()"
      ],
      "metadata": {
        "colab": {
          "base_uri": "https://localhost:8080/",
          "height": 386
        },
        "id": "nVpSeKAt3iDD",
        "outputId": "ca8674ab-c1c7-44d6-9abf-8de357aab80e"
      },
      "execution_count": null,
      "outputs": [
        {
          "output_type": "execute_result",
          "data": {
            "text/plain": [
              "  vendor_id           pickup_datetime          dropoff_datetime  \\\n",
              "0         2 2020-04-02 12:20:08+00:00 2020-04-02 12:21:30+00:00   \n",
              "1         2 2020-04-06 03:09:37+00:00 2020-04-06 03:10:58+00:00   \n",
              "2         2 2020-04-08 03:15:47+00:00 2020-04-08 03:37:11+00:00   \n",
              "3         1 2020-04-13 10:37:14+00:00 2020-04-13 10:37:46+00:00   \n",
              "4         2 2020-04-18 13:08:11+00:00 2020-04-18 13:08:24+00:00   \n",
              "\n",
              "  store_and_fwd_flag rate_code  passenger_count trip_distance fare_amount  \\\n",
              "0                  N       1.0                1          0E-9        0E-9   \n",
              "1                  N       1.0                1   0.130000000        0E-9   \n",
              "2                  N       1.0                1   7.110000000        0E-9   \n",
              "3                  N       1.0                1          0E-9        0E-9   \n",
              "4                  N       1.0                1          0E-9        0E-9   \n",
              "\n",
              "  extra mta_tax  ... total_amount payment_type distance_between_service  \\\n",
              "0  0E-9    0E-9  ...         0E-9          1.0                     None   \n",
              "1  0E-9    0E-9  ...         0E-9          2.0                     None   \n",
              "2  0E-9    0E-9  ...         0E-9          2.0                     None   \n",
              "3  0E-9    0E-9  ...         0E-9          3.0                     None   \n",
              "4  0E-9    0E-9  ...         0E-9          1.0                     None   \n",
              "\n",
              "  time_between_service trip_type imp_surcharge pickup_location_id  \\\n",
              "0                 <NA>       1.0          0E-9                193   \n",
              "1                 <NA>       1.0          0E-9                152   \n",
              "2                 <NA>       1.0          0E-9                127   \n",
              "3                 <NA>       1.0          0E-9                152   \n",
              "4                 <NA>       1.0          0E-9                193   \n",
              "\n",
              "   dropoff_location_id data_file_year data_file_month  \n",
              "0                  193           2020               4  \n",
              "1                  152           2020               4  \n",
              "2                   75           2020               4  \n",
              "3                  152           2020               4  \n",
              "4                  193           2020               4  \n",
              "\n",
              "[5 rows x 24 columns]"
            ],
            "text/html": [
              "\n",
              "  <div id=\"df-8d6d29ba-9a0c-4b66-91e6-0eef0d906368\">\n",
              "    <div class=\"colab-df-container\">\n",
              "      <div>\n",
              "<style scoped>\n",
              "    .dataframe tbody tr th:only-of-type {\n",
              "        vertical-align: middle;\n",
              "    }\n",
              "\n",
              "    .dataframe tbody tr th {\n",
              "        vertical-align: top;\n",
              "    }\n",
              "\n",
              "    .dataframe thead th {\n",
              "        text-align: right;\n",
              "    }\n",
              "</style>\n",
              "<table border=\"1\" class=\"dataframe\">\n",
              "  <thead>\n",
              "    <tr style=\"text-align: right;\">\n",
              "      <th></th>\n",
              "      <th>vendor_id</th>\n",
              "      <th>pickup_datetime</th>\n",
              "      <th>dropoff_datetime</th>\n",
              "      <th>store_and_fwd_flag</th>\n",
              "      <th>rate_code</th>\n",
              "      <th>passenger_count</th>\n",
              "      <th>trip_distance</th>\n",
              "      <th>fare_amount</th>\n",
              "      <th>extra</th>\n",
              "      <th>mta_tax</th>\n",
              "      <th>...</th>\n",
              "      <th>total_amount</th>\n",
              "      <th>payment_type</th>\n",
              "      <th>distance_between_service</th>\n",
              "      <th>time_between_service</th>\n",
              "      <th>trip_type</th>\n",
              "      <th>imp_surcharge</th>\n",
              "      <th>pickup_location_id</th>\n",
              "      <th>dropoff_location_id</th>\n",
              "      <th>data_file_year</th>\n",
              "      <th>data_file_month</th>\n",
              "    </tr>\n",
              "  </thead>\n",
              "  <tbody>\n",
              "    <tr>\n",
              "      <th>0</th>\n",
              "      <td>2</td>\n",
              "      <td>2020-04-02 12:20:08+00:00</td>\n",
              "      <td>2020-04-02 12:21:30+00:00</td>\n",
              "      <td>N</td>\n",
              "      <td>1.0</td>\n",
              "      <td>1</td>\n",
              "      <td>0E-9</td>\n",
              "      <td>0E-9</td>\n",
              "      <td>0E-9</td>\n",
              "      <td>0E-9</td>\n",
              "      <td>...</td>\n",
              "      <td>0E-9</td>\n",
              "      <td>1.0</td>\n",
              "      <td>None</td>\n",
              "      <td>&lt;NA&gt;</td>\n",
              "      <td>1.0</td>\n",
              "      <td>0E-9</td>\n",
              "      <td>193</td>\n",
              "      <td>193</td>\n",
              "      <td>2020</td>\n",
              "      <td>4</td>\n",
              "    </tr>\n",
              "    <tr>\n",
              "      <th>1</th>\n",
              "      <td>2</td>\n",
              "      <td>2020-04-06 03:09:37+00:00</td>\n",
              "      <td>2020-04-06 03:10:58+00:00</td>\n",
              "      <td>N</td>\n",
              "      <td>1.0</td>\n",
              "      <td>1</td>\n",
              "      <td>0.130000000</td>\n",
              "      <td>0E-9</td>\n",
              "      <td>0E-9</td>\n",
              "      <td>0E-9</td>\n",
              "      <td>...</td>\n",
              "      <td>0E-9</td>\n",
              "      <td>2.0</td>\n",
              "      <td>None</td>\n",
              "      <td>&lt;NA&gt;</td>\n",
              "      <td>1.0</td>\n",
              "      <td>0E-9</td>\n",
              "      <td>152</td>\n",
              "      <td>152</td>\n",
              "      <td>2020</td>\n",
              "      <td>4</td>\n",
              "    </tr>\n",
              "    <tr>\n",
              "      <th>2</th>\n",
              "      <td>2</td>\n",
              "      <td>2020-04-08 03:15:47+00:00</td>\n",
              "      <td>2020-04-08 03:37:11+00:00</td>\n",
              "      <td>N</td>\n",
              "      <td>1.0</td>\n",
              "      <td>1</td>\n",
              "      <td>7.110000000</td>\n",
              "      <td>0E-9</td>\n",
              "      <td>0E-9</td>\n",
              "      <td>0E-9</td>\n",
              "      <td>...</td>\n",
              "      <td>0E-9</td>\n",
              "      <td>2.0</td>\n",
              "      <td>None</td>\n",
              "      <td>&lt;NA&gt;</td>\n",
              "      <td>1.0</td>\n",
              "      <td>0E-9</td>\n",
              "      <td>127</td>\n",
              "      <td>75</td>\n",
              "      <td>2020</td>\n",
              "      <td>4</td>\n",
              "    </tr>\n",
              "    <tr>\n",
              "      <th>3</th>\n",
              "      <td>1</td>\n",
              "      <td>2020-04-13 10:37:14+00:00</td>\n",
              "      <td>2020-04-13 10:37:46+00:00</td>\n",
              "      <td>N</td>\n",
              "      <td>1.0</td>\n",
              "      <td>1</td>\n",
              "      <td>0E-9</td>\n",
              "      <td>0E-9</td>\n",
              "      <td>0E-9</td>\n",
              "      <td>0E-9</td>\n",
              "      <td>...</td>\n",
              "      <td>0E-9</td>\n",
              "      <td>3.0</td>\n",
              "      <td>None</td>\n",
              "      <td>&lt;NA&gt;</td>\n",
              "      <td>1.0</td>\n",
              "      <td>0E-9</td>\n",
              "      <td>152</td>\n",
              "      <td>152</td>\n",
              "      <td>2020</td>\n",
              "      <td>4</td>\n",
              "    </tr>\n",
              "    <tr>\n",
              "      <th>4</th>\n",
              "      <td>2</td>\n",
              "      <td>2020-04-18 13:08:11+00:00</td>\n",
              "      <td>2020-04-18 13:08:24+00:00</td>\n",
              "      <td>N</td>\n",
              "      <td>1.0</td>\n",
              "      <td>1</td>\n",
              "      <td>0E-9</td>\n",
              "      <td>0E-9</td>\n",
              "      <td>0E-9</td>\n",
              "      <td>0E-9</td>\n",
              "      <td>...</td>\n",
              "      <td>0E-9</td>\n",
              "      <td>1.0</td>\n",
              "      <td>None</td>\n",
              "      <td>&lt;NA&gt;</td>\n",
              "      <td>1.0</td>\n",
              "      <td>0E-9</td>\n",
              "      <td>193</td>\n",
              "      <td>193</td>\n",
              "      <td>2020</td>\n",
              "      <td>4</td>\n",
              "    </tr>\n",
              "  </tbody>\n",
              "</table>\n",
              "<p>5 rows × 24 columns</p>\n",
              "</div>\n",
              "      <button class=\"colab-df-convert\" onclick=\"convertToInteractive('df-8d6d29ba-9a0c-4b66-91e6-0eef0d906368')\"\n",
              "              title=\"Convert this dataframe to an interactive table.\"\n",
              "              style=\"display:none;\">\n",
              "        \n",
              "  <svg xmlns=\"http://www.w3.org/2000/svg\" height=\"24px\"viewBox=\"0 0 24 24\"\n",
              "       width=\"24px\">\n",
              "    <path d=\"M0 0h24v24H0V0z\" fill=\"none\"/>\n",
              "    <path d=\"M18.56 5.44l.94 2.06.94-2.06 2.06-.94-2.06-.94-.94-2.06-.94 2.06-2.06.94zm-11 1L8.5 8.5l.94-2.06 2.06-.94-2.06-.94L8.5 2.5l-.94 2.06-2.06.94zm10 10l.94 2.06.94-2.06 2.06-.94-2.06-.94-.94-2.06-.94 2.06-2.06.94z\"/><path d=\"M17.41 7.96l-1.37-1.37c-.4-.4-.92-.59-1.43-.59-.52 0-1.04.2-1.43.59L10.3 9.45l-7.72 7.72c-.78.78-.78 2.05 0 2.83L4 21.41c.39.39.9.59 1.41.59.51 0 1.02-.2 1.41-.59l7.78-7.78 2.81-2.81c.8-.78.8-2.07 0-2.86zM5.41 20L4 18.59l7.72-7.72 1.47 1.35L5.41 20z\"/>\n",
              "  </svg>\n",
              "      </button>\n",
              "      \n",
              "  <style>\n",
              "    .colab-df-container {\n",
              "      display:flex;\n",
              "      flex-wrap:wrap;\n",
              "      gap: 12px;\n",
              "    }\n",
              "\n",
              "    .colab-df-convert {\n",
              "      background-color: #E8F0FE;\n",
              "      border: none;\n",
              "      border-radius: 50%;\n",
              "      cursor: pointer;\n",
              "      display: none;\n",
              "      fill: #1967D2;\n",
              "      height: 32px;\n",
              "      padding: 0 0 0 0;\n",
              "      width: 32px;\n",
              "    }\n",
              "\n",
              "    .colab-df-convert:hover {\n",
              "      background-color: #E2EBFA;\n",
              "      box-shadow: 0px 1px 2px rgba(60, 64, 67, 0.3), 0px 1px 3px 1px rgba(60, 64, 67, 0.15);\n",
              "      fill: #174EA6;\n",
              "    }\n",
              "\n",
              "    [theme=dark] .colab-df-convert {\n",
              "      background-color: #3B4455;\n",
              "      fill: #D2E3FC;\n",
              "    }\n",
              "\n",
              "    [theme=dark] .colab-df-convert:hover {\n",
              "      background-color: #434B5C;\n",
              "      box-shadow: 0px 1px 3px 1px rgba(0, 0, 0, 0.15);\n",
              "      filter: drop-shadow(0px 1px 2px rgba(0, 0, 0, 0.3));\n",
              "      fill: #FFFFFF;\n",
              "    }\n",
              "  </style>\n",
              "\n",
              "      <script>\n",
              "        const buttonEl =\n",
              "          document.querySelector('#df-8d6d29ba-9a0c-4b66-91e6-0eef0d906368 button.colab-df-convert');\n",
              "        buttonEl.style.display =\n",
              "          google.colab.kernel.accessAllowed ? 'block' : 'none';\n",
              "\n",
              "        async function convertToInteractive(key) {\n",
              "          const element = document.querySelector('#df-8d6d29ba-9a0c-4b66-91e6-0eef0d906368');\n",
              "          const dataTable =\n",
              "            await google.colab.kernel.invokeFunction('convertToInteractive',\n",
              "                                                     [key], {});\n",
              "          if (!dataTable) return;\n",
              "\n",
              "          const docLinkHtml = 'Like what you see? Visit the ' +\n",
              "            '<a target=\"_blank\" href=https://colab.research.google.com/notebooks/data_table.ipynb>data table notebook</a>'\n",
              "            + ' to learn more about interactive tables.';\n",
              "          element.innerHTML = '';\n",
              "          dataTable['output_type'] = 'display_data';\n",
              "          await google.colab.output.renderOutput(dataTable, element);\n",
              "          const docLink = document.createElement('div');\n",
              "          docLink.innerHTML = docLinkHtml;\n",
              "          element.appendChild(docLink);\n",
              "        }\n",
              "      </script>\n",
              "    </div>\n",
              "  </div>\n",
              "  "
            ]
          },
          "metadata": {},
          "execution_count": 134
        }
      ]
    },
    {
      "cell_type": "code",
      "source": [
        "from google.cloud import bigquery\n",
        "#import db-dtypes\n",
        "import os\n",
        "import pandas as pd\n",
        "# Create a BigQuery client object\n",
        "#from pyspark.sql import SparkSession\n",
        "#from pyspark.ml.regression import LinearRegression\n",
        "#from pyspark.ml.feature import VectorAssembler\n",
        "\n",
        "os.environ[\"GOOGLE_APPLICATION_CREDENTIALS\"]= \"nifty-expanse-380117-34182b0834a5.json\"\n",
        "client = bigquery.Client()\n",
        "# Construct the SQL query to fetch data from a table in the database\n",
        "sql_query1 = \"\"\"SELECT * FROM `bigquery-public-data.new_york_taxi_trips.taxi_zone_geom`\"\"\"\n",
        "# Execute the query and fetch the results\n",
        "query_job = client.query(sql_query1)\n",
        "zone = query_job.to_dataframe()\n"
      ],
      "metadata": {
        "id": "JZ6OIvOc4L4L"
      },
      "execution_count": 50,
      "outputs": []
    },
    {
      "cell_type": "code",
      "source": [
        "new_df = pd.DataFrame({\n",
        "    'Pick-up': df1['pickup_location_id'],\n",
        "    'Drop-off': df1['dropoff_location_id']\n",
        "})"
      ],
      "metadata": {
        "id": "TMC9SfjM8ag5"
      },
      "execution_count": 51,
      "outputs": []
    },
    {
      "cell_type": "code",
      "source": [
        "new_df"
      ],
      "metadata": {
        "colab": {
          "base_uri": "https://localhost:8080/",
          "height": 423
        },
        "id": "VkbXiFNu8sNU",
        "outputId": "95225ad4-5cae-4445-84b7-55a95c4081a8"
      },
      "execution_count": 52,
      "outputs": [
        {
          "output_type": "execute_result",
          "data": {
            "text/plain": [
              "        Pick-up Drop-off\n",
              "0           116      244\n",
              "1           193      264\n",
              "2           193      193\n",
              "3           193      193\n",
              "4           208      208\n",
              "...         ...      ...\n",
              "1734160      38      237\n",
              "1734161      41      254\n",
              "1734162     242      166\n",
              "1734163      42      183\n",
              "1734164     166       51\n",
              "\n",
              "[1734165 rows x 2 columns]"
            ],
            "text/html": [
              "\n",
              "  <div id=\"df-e33226c9-199c-4c73-ad3e-49d76676945a\">\n",
              "    <div class=\"colab-df-container\">\n",
              "      <div>\n",
              "<style scoped>\n",
              "    .dataframe tbody tr th:only-of-type {\n",
              "        vertical-align: middle;\n",
              "    }\n",
              "\n",
              "    .dataframe tbody tr th {\n",
              "        vertical-align: top;\n",
              "    }\n",
              "\n",
              "    .dataframe thead th {\n",
              "        text-align: right;\n",
              "    }\n",
              "</style>\n",
              "<table border=\"1\" class=\"dataframe\">\n",
              "  <thead>\n",
              "    <tr style=\"text-align: right;\">\n",
              "      <th></th>\n",
              "      <th>Pick-up</th>\n",
              "      <th>Drop-off</th>\n",
              "    </tr>\n",
              "  </thead>\n",
              "  <tbody>\n",
              "    <tr>\n",
              "      <th>0</th>\n",
              "      <td>116</td>\n",
              "      <td>244</td>\n",
              "    </tr>\n",
              "    <tr>\n",
              "      <th>1</th>\n",
              "      <td>193</td>\n",
              "      <td>264</td>\n",
              "    </tr>\n",
              "    <tr>\n",
              "      <th>2</th>\n",
              "      <td>193</td>\n",
              "      <td>193</td>\n",
              "    </tr>\n",
              "    <tr>\n",
              "      <th>3</th>\n",
              "      <td>193</td>\n",
              "      <td>193</td>\n",
              "    </tr>\n",
              "    <tr>\n",
              "      <th>4</th>\n",
              "      <td>208</td>\n",
              "      <td>208</td>\n",
              "    </tr>\n",
              "    <tr>\n",
              "      <th>...</th>\n",
              "      <td>...</td>\n",
              "      <td>...</td>\n",
              "    </tr>\n",
              "    <tr>\n",
              "      <th>1734160</th>\n",
              "      <td>38</td>\n",
              "      <td>237</td>\n",
              "    </tr>\n",
              "    <tr>\n",
              "      <th>1734161</th>\n",
              "      <td>41</td>\n",
              "      <td>254</td>\n",
              "    </tr>\n",
              "    <tr>\n",
              "      <th>1734162</th>\n",
              "      <td>242</td>\n",
              "      <td>166</td>\n",
              "    </tr>\n",
              "    <tr>\n",
              "      <th>1734163</th>\n",
              "      <td>42</td>\n",
              "      <td>183</td>\n",
              "    </tr>\n",
              "    <tr>\n",
              "      <th>1734164</th>\n",
              "      <td>166</td>\n",
              "      <td>51</td>\n",
              "    </tr>\n",
              "  </tbody>\n",
              "</table>\n",
              "<p>1734165 rows × 2 columns</p>\n",
              "</div>\n",
              "      <button class=\"colab-df-convert\" onclick=\"convertToInteractive('df-e33226c9-199c-4c73-ad3e-49d76676945a')\"\n",
              "              title=\"Convert this dataframe to an interactive table.\"\n",
              "              style=\"display:none;\">\n",
              "        \n",
              "  <svg xmlns=\"http://www.w3.org/2000/svg\" height=\"24px\"viewBox=\"0 0 24 24\"\n",
              "       width=\"24px\">\n",
              "    <path d=\"M0 0h24v24H0V0z\" fill=\"none\"/>\n",
              "    <path d=\"M18.56 5.44l.94 2.06.94-2.06 2.06-.94-2.06-.94-.94-2.06-.94 2.06-2.06.94zm-11 1L8.5 8.5l.94-2.06 2.06-.94-2.06-.94L8.5 2.5l-.94 2.06-2.06.94zm10 10l.94 2.06.94-2.06 2.06-.94-2.06-.94-.94-2.06-.94 2.06-2.06.94z\"/><path d=\"M17.41 7.96l-1.37-1.37c-.4-.4-.92-.59-1.43-.59-.52 0-1.04.2-1.43.59L10.3 9.45l-7.72 7.72c-.78.78-.78 2.05 0 2.83L4 21.41c.39.39.9.59 1.41.59.51 0 1.02-.2 1.41-.59l7.78-7.78 2.81-2.81c.8-.78.8-2.07 0-2.86zM5.41 20L4 18.59l7.72-7.72 1.47 1.35L5.41 20z\"/>\n",
              "  </svg>\n",
              "      </button>\n",
              "      \n",
              "  <style>\n",
              "    .colab-df-container {\n",
              "      display:flex;\n",
              "      flex-wrap:wrap;\n",
              "      gap: 12px;\n",
              "    }\n",
              "\n",
              "    .colab-df-convert {\n",
              "      background-color: #E8F0FE;\n",
              "      border: none;\n",
              "      border-radius: 50%;\n",
              "      cursor: pointer;\n",
              "      display: none;\n",
              "      fill: #1967D2;\n",
              "      height: 32px;\n",
              "      padding: 0 0 0 0;\n",
              "      width: 32px;\n",
              "    }\n",
              "\n",
              "    .colab-df-convert:hover {\n",
              "      background-color: #E2EBFA;\n",
              "      box-shadow: 0px 1px 2px rgba(60, 64, 67, 0.3), 0px 1px 3px 1px rgba(60, 64, 67, 0.15);\n",
              "      fill: #174EA6;\n",
              "    }\n",
              "\n",
              "    [theme=dark] .colab-df-convert {\n",
              "      background-color: #3B4455;\n",
              "      fill: #D2E3FC;\n",
              "    }\n",
              "\n",
              "    [theme=dark] .colab-df-convert:hover {\n",
              "      background-color: #434B5C;\n",
              "      box-shadow: 0px 1px 3px 1px rgba(0, 0, 0, 0.15);\n",
              "      filter: drop-shadow(0px 1px 2px rgba(0, 0, 0, 0.3));\n",
              "      fill: #FFFFFF;\n",
              "    }\n",
              "  </style>\n",
              "\n",
              "      <script>\n",
              "        const buttonEl =\n",
              "          document.querySelector('#df-e33226c9-199c-4c73-ad3e-49d76676945a button.colab-df-convert');\n",
              "        buttonEl.style.display =\n",
              "          google.colab.kernel.accessAllowed ? 'block' : 'none';\n",
              "\n",
              "        async function convertToInteractive(key) {\n",
              "          const element = document.querySelector('#df-e33226c9-199c-4c73-ad3e-49d76676945a');\n",
              "          const dataTable =\n",
              "            await google.colab.kernel.invokeFunction('convertToInteractive',\n",
              "                                                     [key], {});\n",
              "          if (!dataTable) return;\n",
              "\n",
              "          const docLinkHtml = 'Like what you see? Visit the ' +\n",
              "            '<a target=\"_blank\" href=https://colab.research.google.com/notebooks/data_table.ipynb>data table notebook</a>'\n",
              "            + ' to learn more about interactive tables.';\n",
              "          element.innerHTML = '';\n",
              "          dataTable['output_type'] = 'display_data';\n",
              "          await google.colab.output.renderOutput(dataTable, element);\n",
              "          const docLink = document.createElement('div');\n",
              "          docLink.innerHTML = docLinkHtml;\n",
              "          element.appendChild(docLink);\n",
              "        }\n",
              "      </script>\n",
              "    </div>\n",
              "  </div>\n",
              "  "
            ]
          },
          "metadata": {},
          "execution_count": 52
        }
      ]
    },
    {
      "cell_type": "code",
      "source": [
        "zone['zone_id'].max()"
      ],
      "metadata": {
        "colab": {
          "base_uri": "https://localhost:8080/",
          "height": 36
        },
        "id": "G41d2ote8vSI",
        "outputId": "d7fb3596-f97f-4032-c037-2d85f02f1fd1"
      },
      "execution_count": 53,
      "outputs": [
        {
          "output_type": "execute_result",
          "data": {
            "text/plain": [
              "'99'"
            ],
            "application/vnd.google.colaboratory.intrinsic+json": {
              "type": "string"
            }
          },
          "metadata": {},
          "execution_count": 53
        }
      ]
    },
    {
      "cell_type": "code",
      "source": [
        "zone['zone_name_borough'] = zone['zone_name'] + '-' + zone['borough']\n",
        "\n",
        "# display merged dataframe\n",
        "print(zone)"
      ],
      "metadata": {
        "colab": {
          "base_uri": "https://localhost:8080/"
        },
        "id": "0iVcuSIe9Uam",
        "outputId": "534263f7-599a-436d-c274-01be128a99f1"
      },
      "execution_count": 54,
      "outputs": [
        {
          "output_type": "stream",
          "name": "stdout",
          "text": [
            "    zone_id                  zone_name        borough  \\\n",
            "0         1             Newark Airport            EWR   \n",
            "1         3    Allerton/Pelham Gardens          Bronx   \n",
            "2        18               Bedford Park          Bronx   \n",
            "3        20                    Belmont          Bronx   \n",
            "4        31                 Bronx Park          Bronx   \n",
            "..      ...                        ...            ...   \n",
            "258     206  Saint George/New Brighton  Staten Island   \n",
            "259     214   South Beach/Dongan Hills  Staten Island   \n",
            "260     221                  Stapleton  Staten Island   \n",
            "261     245              West Brighton  Staten Island   \n",
            "262     251                Westerleigh  Staten Island   \n",
            "\n",
            "                                             zone_geom  \\\n",
            "0    POLYGON((-74.1856319999999 40.6916479999999, -...   \n",
            "1    POLYGON((-73.848596761 40.8716707849999, -73.8...   \n",
            "2    POLYGON((-73.8844286139999 40.8668003789999, -...   \n",
            "3    POLYGON((-73.8839239579998 40.8644177609999, -...   \n",
            "4    POLYGON((-73.8710017319999 40.8572767429999, -...   \n",
            "..                                                 ...   \n",
            "258  POLYGON((-74.0825658580711 40.6483158193535, -...   \n",
            "259  POLYGON((-74.085787808 40.5958840799999, -74.0...   \n",
            "260  POLYGON((-74.076017768 40.6377481049999, -74.0...   \n",
            "261  POLYGON((-74.0992883379999 40.640204723, -74.0...   \n",
            "262  POLYGON((-74.1316183449999 40.6305836889999, -...   \n",
            "\n",
            "                           zone_name_borough  \n",
            "0                         Newark Airport-EWR  \n",
            "1              Allerton/Pelham Gardens-Bronx  \n",
            "2                         Bedford Park-Bronx  \n",
            "3                              Belmont-Bronx  \n",
            "4                           Bronx Park-Bronx  \n",
            "..                                       ...  \n",
            "258  Saint George/New Brighton-Staten Island  \n",
            "259   South Beach/Dongan Hills-Staten Island  \n",
            "260                  Stapleton-Staten Island  \n",
            "261              West Brighton-Staten Island  \n",
            "262                Westerleigh-Staten Island  \n",
            "\n",
            "[263 rows x 5 columns]\n"
          ]
        }
      ]
    },
    {
      "cell_type": "code",
      "source": [
        "zone.columns"
      ],
      "metadata": {
        "colab": {
          "base_uri": "https://localhost:8080/"
        },
        "id": "6B1f0LEv_knk",
        "outputId": "708a1020-e91d-49fb-9542-b9ac0fd35c33"
      },
      "execution_count": 55,
      "outputs": [
        {
          "output_type": "execute_result",
          "data": {
            "text/plain": [
              "Index(['zone_id', 'zone_name', 'borough', 'zone_geom', 'zone_name_borough'], dtype='object')"
            ]
          },
          "metadata": {},
          "execution_count": 55
        }
      ]
    },
    {
      "cell_type": "code",
      "source": [
        "zone = zone.drop(columns=['zone_name', 'borough', 'zone_geom'])"
      ],
      "metadata": {
        "id": "djEAUhOG_4NS"
      },
      "execution_count": 56,
      "outputs": []
    },
    {
      "cell_type": "code",
      "source": [
        "zone.columns"
      ],
      "metadata": {
        "colab": {
          "base_uri": "https://localhost:8080/"
        },
        "id": "e5WrfPUjACK5",
        "outputId": "b6648a6a-2046-4680-c209-3774eadd9be2"
      },
      "execution_count": 57,
      "outputs": [
        {
          "output_type": "execute_result",
          "data": {
            "text/plain": [
              "Index(['zone_id', 'zone_name_borough'], dtype='object')"
            ]
          },
          "metadata": {},
          "execution_count": 57
        }
      ]
    },
    {
      "cell_type": "code",
      "source": [
        "zone.head()"
      ],
      "metadata": {
        "colab": {
          "base_uri": "https://localhost:8080/",
          "height": 206
        },
        "id": "FZ9KhRPdAWcC",
        "outputId": "7831d155-2a03-4700-be8c-52956c938bac"
      },
      "execution_count": 58,
      "outputs": [
        {
          "output_type": "execute_result",
          "data": {
            "text/plain": [
              "  zone_id              zone_name_borough\n",
              "0       1             Newark Airport-EWR\n",
              "1       3  Allerton/Pelham Gardens-Bronx\n",
              "2      18             Bedford Park-Bronx\n",
              "3      20                  Belmont-Bronx\n",
              "4      31               Bronx Park-Bronx"
            ],
            "text/html": [
              "\n",
              "  <div id=\"df-b2c2dae9-e262-4658-8a40-5f2b6b4d5016\">\n",
              "    <div class=\"colab-df-container\">\n",
              "      <div>\n",
              "<style scoped>\n",
              "    .dataframe tbody tr th:only-of-type {\n",
              "        vertical-align: middle;\n",
              "    }\n",
              "\n",
              "    .dataframe tbody tr th {\n",
              "        vertical-align: top;\n",
              "    }\n",
              "\n",
              "    .dataframe thead th {\n",
              "        text-align: right;\n",
              "    }\n",
              "</style>\n",
              "<table border=\"1\" class=\"dataframe\">\n",
              "  <thead>\n",
              "    <tr style=\"text-align: right;\">\n",
              "      <th></th>\n",
              "      <th>zone_id</th>\n",
              "      <th>zone_name_borough</th>\n",
              "    </tr>\n",
              "  </thead>\n",
              "  <tbody>\n",
              "    <tr>\n",
              "      <th>0</th>\n",
              "      <td>1</td>\n",
              "      <td>Newark Airport-EWR</td>\n",
              "    </tr>\n",
              "    <tr>\n",
              "      <th>1</th>\n",
              "      <td>3</td>\n",
              "      <td>Allerton/Pelham Gardens-Bronx</td>\n",
              "    </tr>\n",
              "    <tr>\n",
              "      <th>2</th>\n",
              "      <td>18</td>\n",
              "      <td>Bedford Park-Bronx</td>\n",
              "    </tr>\n",
              "    <tr>\n",
              "      <th>3</th>\n",
              "      <td>20</td>\n",
              "      <td>Belmont-Bronx</td>\n",
              "    </tr>\n",
              "    <tr>\n",
              "      <th>4</th>\n",
              "      <td>31</td>\n",
              "      <td>Bronx Park-Bronx</td>\n",
              "    </tr>\n",
              "  </tbody>\n",
              "</table>\n",
              "</div>\n",
              "      <button class=\"colab-df-convert\" onclick=\"convertToInteractive('df-b2c2dae9-e262-4658-8a40-5f2b6b4d5016')\"\n",
              "              title=\"Convert this dataframe to an interactive table.\"\n",
              "              style=\"display:none;\">\n",
              "        \n",
              "  <svg xmlns=\"http://www.w3.org/2000/svg\" height=\"24px\"viewBox=\"0 0 24 24\"\n",
              "       width=\"24px\">\n",
              "    <path d=\"M0 0h24v24H0V0z\" fill=\"none\"/>\n",
              "    <path d=\"M18.56 5.44l.94 2.06.94-2.06 2.06-.94-2.06-.94-.94-2.06-.94 2.06-2.06.94zm-11 1L8.5 8.5l.94-2.06 2.06-.94-2.06-.94L8.5 2.5l-.94 2.06-2.06.94zm10 10l.94 2.06.94-2.06 2.06-.94-2.06-.94-.94-2.06-.94 2.06-2.06.94z\"/><path d=\"M17.41 7.96l-1.37-1.37c-.4-.4-.92-.59-1.43-.59-.52 0-1.04.2-1.43.59L10.3 9.45l-7.72 7.72c-.78.78-.78 2.05 0 2.83L4 21.41c.39.39.9.59 1.41.59.51 0 1.02-.2 1.41-.59l7.78-7.78 2.81-2.81c.8-.78.8-2.07 0-2.86zM5.41 20L4 18.59l7.72-7.72 1.47 1.35L5.41 20z\"/>\n",
              "  </svg>\n",
              "      </button>\n",
              "      \n",
              "  <style>\n",
              "    .colab-df-container {\n",
              "      display:flex;\n",
              "      flex-wrap:wrap;\n",
              "      gap: 12px;\n",
              "    }\n",
              "\n",
              "    .colab-df-convert {\n",
              "      background-color: #E8F0FE;\n",
              "      border: none;\n",
              "      border-radius: 50%;\n",
              "      cursor: pointer;\n",
              "      display: none;\n",
              "      fill: #1967D2;\n",
              "      height: 32px;\n",
              "      padding: 0 0 0 0;\n",
              "      width: 32px;\n",
              "    }\n",
              "\n",
              "    .colab-df-convert:hover {\n",
              "      background-color: #E2EBFA;\n",
              "      box-shadow: 0px 1px 2px rgba(60, 64, 67, 0.3), 0px 1px 3px 1px rgba(60, 64, 67, 0.15);\n",
              "      fill: #174EA6;\n",
              "    }\n",
              "\n",
              "    [theme=dark] .colab-df-convert {\n",
              "      background-color: #3B4455;\n",
              "      fill: #D2E3FC;\n",
              "    }\n",
              "\n",
              "    [theme=dark] .colab-df-convert:hover {\n",
              "      background-color: #434B5C;\n",
              "      box-shadow: 0px 1px 3px 1px rgba(0, 0, 0, 0.15);\n",
              "      filter: drop-shadow(0px 1px 2px rgba(0, 0, 0, 0.3));\n",
              "      fill: #FFFFFF;\n",
              "    }\n",
              "  </style>\n",
              "\n",
              "      <script>\n",
              "        const buttonEl =\n",
              "          document.querySelector('#df-b2c2dae9-e262-4658-8a40-5f2b6b4d5016 button.colab-df-convert');\n",
              "        buttonEl.style.display =\n",
              "          google.colab.kernel.accessAllowed ? 'block' : 'none';\n",
              "\n",
              "        async function convertToInteractive(key) {\n",
              "          const element = document.querySelector('#df-b2c2dae9-e262-4658-8a40-5f2b6b4d5016');\n",
              "          const dataTable =\n",
              "            await google.colab.kernel.invokeFunction('convertToInteractive',\n",
              "                                                     [key], {});\n",
              "          if (!dataTable) return;\n",
              "\n",
              "          const docLinkHtml = 'Like what you see? Visit the ' +\n",
              "            '<a target=\"_blank\" href=https://colab.research.google.com/notebooks/data_table.ipynb>data table notebook</a>'\n",
              "            + ' to learn more about interactive tables.';\n",
              "          element.innerHTML = '';\n",
              "          dataTable['output_type'] = 'display_data';\n",
              "          await google.colab.output.renderOutput(dataTable, element);\n",
              "          const docLink = document.createElement('div');\n",
              "          docLink.innerHTML = docLinkHtml;\n",
              "          element.appendChild(docLink);\n",
              "        }\n",
              "      </script>\n",
              "    </div>\n",
              "  </div>\n",
              "  "
            ]
          },
          "metadata": {},
          "execution_count": 58
        }
      ]
    },
    {
      "cell_type": "code",
      "source": [
        "merged_df = pd.merge(new_df, zone, how='left', left_on='Pick-up', right_on='zone_id')\n"
      ],
      "metadata": {
        "id": "6sf4LsHZGP_g"
      },
      "execution_count": 60,
      "outputs": []
    },
    {
      "cell_type": "code",
      "source": [
        "merged_df"
      ],
      "metadata": {
        "colab": {
          "base_uri": "https://localhost:8080/",
          "height": 423
        },
        "id": "zxlxGQ1oGkLy",
        "outputId": "8b803248-a408-476e-bb12-e9fb045d72ca"
      },
      "execution_count": 61,
      "outputs": [
        {
          "output_type": "execute_result",
          "data": {
            "text/plain": [
              "        Pick-up Drop-off zone_id                   zone_name_borough\n",
              "0           116      244     116          Hamilton Heights-Manhattan\n",
              "1           193      264     193      Queensbridge/Ravenswood-Queens\n",
              "2           193      193     193      Queensbridge/Ravenswood-Queens\n",
              "3           193      193     193      Queensbridge/Ravenswood-Queens\n",
              "4           208      208     208  Schuylerville/Edgewater Park-Bronx\n",
              "...         ...      ...     ...                                 ...\n",
              "1738751      38      237      38              Cambria Heights-Queens\n",
              "1738752      41      254      41            Central Harlem-Manhattan\n",
              "1738753     242      166     242          Van Nest/Morris Park-Bronx\n",
              "1738754      42      183      42      Central Harlem North-Manhattan\n",
              "1738755     166       51     166       Morningside Heights-Manhattan\n",
              "\n",
              "[1738756 rows x 4 columns]"
            ],
            "text/html": [
              "\n",
              "  <div id=\"df-70240985-1b8e-4fd0-8383-6012a680e6ee\">\n",
              "    <div class=\"colab-df-container\">\n",
              "      <div>\n",
              "<style scoped>\n",
              "    .dataframe tbody tr th:only-of-type {\n",
              "        vertical-align: middle;\n",
              "    }\n",
              "\n",
              "    .dataframe tbody tr th {\n",
              "        vertical-align: top;\n",
              "    }\n",
              "\n",
              "    .dataframe thead th {\n",
              "        text-align: right;\n",
              "    }\n",
              "</style>\n",
              "<table border=\"1\" class=\"dataframe\">\n",
              "  <thead>\n",
              "    <tr style=\"text-align: right;\">\n",
              "      <th></th>\n",
              "      <th>Pick-up</th>\n",
              "      <th>Drop-off</th>\n",
              "      <th>zone_id</th>\n",
              "      <th>zone_name_borough</th>\n",
              "    </tr>\n",
              "  </thead>\n",
              "  <tbody>\n",
              "    <tr>\n",
              "      <th>0</th>\n",
              "      <td>116</td>\n",
              "      <td>244</td>\n",
              "      <td>116</td>\n",
              "      <td>Hamilton Heights-Manhattan</td>\n",
              "    </tr>\n",
              "    <tr>\n",
              "      <th>1</th>\n",
              "      <td>193</td>\n",
              "      <td>264</td>\n",
              "      <td>193</td>\n",
              "      <td>Queensbridge/Ravenswood-Queens</td>\n",
              "    </tr>\n",
              "    <tr>\n",
              "      <th>2</th>\n",
              "      <td>193</td>\n",
              "      <td>193</td>\n",
              "      <td>193</td>\n",
              "      <td>Queensbridge/Ravenswood-Queens</td>\n",
              "    </tr>\n",
              "    <tr>\n",
              "      <th>3</th>\n",
              "      <td>193</td>\n",
              "      <td>193</td>\n",
              "      <td>193</td>\n",
              "      <td>Queensbridge/Ravenswood-Queens</td>\n",
              "    </tr>\n",
              "    <tr>\n",
              "      <th>4</th>\n",
              "      <td>208</td>\n",
              "      <td>208</td>\n",
              "      <td>208</td>\n",
              "      <td>Schuylerville/Edgewater Park-Bronx</td>\n",
              "    </tr>\n",
              "    <tr>\n",
              "      <th>...</th>\n",
              "      <td>...</td>\n",
              "      <td>...</td>\n",
              "      <td>...</td>\n",
              "      <td>...</td>\n",
              "    </tr>\n",
              "    <tr>\n",
              "      <th>1738751</th>\n",
              "      <td>38</td>\n",
              "      <td>237</td>\n",
              "      <td>38</td>\n",
              "      <td>Cambria Heights-Queens</td>\n",
              "    </tr>\n",
              "    <tr>\n",
              "      <th>1738752</th>\n",
              "      <td>41</td>\n",
              "      <td>254</td>\n",
              "      <td>41</td>\n",
              "      <td>Central Harlem-Manhattan</td>\n",
              "    </tr>\n",
              "    <tr>\n",
              "      <th>1738753</th>\n",
              "      <td>242</td>\n",
              "      <td>166</td>\n",
              "      <td>242</td>\n",
              "      <td>Van Nest/Morris Park-Bronx</td>\n",
              "    </tr>\n",
              "    <tr>\n",
              "      <th>1738754</th>\n",
              "      <td>42</td>\n",
              "      <td>183</td>\n",
              "      <td>42</td>\n",
              "      <td>Central Harlem North-Manhattan</td>\n",
              "    </tr>\n",
              "    <tr>\n",
              "      <th>1738755</th>\n",
              "      <td>166</td>\n",
              "      <td>51</td>\n",
              "      <td>166</td>\n",
              "      <td>Morningside Heights-Manhattan</td>\n",
              "    </tr>\n",
              "  </tbody>\n",
              "</table>\n",
              "<p>1738756 rows × 4 columns</p>\n",
              "</div>\n",
              "      <button class=\"colab-df-convert\" onclick=\"convertToInteractive('df-70240985-1b8e-4fd0-8383-6012a680e6ee')\"\n",
              "              title=\"Convert this dataframe to an interactive table.\"\n",
              "              style=\"display:none;\">\n",
              "        \n",
              "  <svg xmlns=\"http://www.w3.org/2000/svg\" height=\"24px\"viewBox=\"0 0 24 24\"\n",
              "       width=\"24px\">\n",
              "    <path d=\"M0 0h24v24H0V0z\" fill=\"none\"/>\n",
              "    <path d=\"M18.56 5.44l.94 2.06.94-2.06 2.06-.94-2.06-.94-.94-2.06-.94 2.06-2.06.94zm-11 1L8.5 8.5l.94-2.06 2.06-.94-2.06-.94L8.5 2.5l-.94 2.06-2.06.94zm10 10l.94 2.06.94-2.06 2.06-.94-2.06-.94-.94-2.06-.94 2.06-2.06.94z\"/><path d=\"M17.41 7.96l-1.37-1.37c-.4-.4-.92-.59-1.43-.59-.52 0-1.04.2-1.43.59L10.3 9.45l-7.72 7.72c-.78.78-.78 2.05 0 2.83L4 21.41c.39.39.9.59 1.41.59.51 0 1.02-.2 1.41-.59l7.78-7.78 2.81-2.81c.8-.78.8-2.07 0-2.86zM5.41 20L4 18.59l7.72-7.72 1.47 1.35L5.41 20z\"/>\n",
              "  </svg>\n",
              "      </button>\n",
              "      \n",
              "  <style>\n",
              "    .colab-df-container {\n",
              "      display:flex;\n",
              "      flex-wrap:wrap;\n",
              "      gap: 12px;\n",
              "    }\n",
              "\n",
              "    .colab-df-convert {\n",
              "      background-color: #E8F0FE;\n",
              "      border: none;\n",
              "      border-radius: 50%;\n",
              "      cursor: pointer;\n",
              "      display: none;\n",
              "      fill: #1967D2;\n",
              "      height: 32px;\n",
              "      padding: 0 0 0 0;\n",
              "      width: 32px;\n",
              "    }\n",
              "\n",
              "    .colab-df-convert:hover {\n",
              "      background-color: #E2EBFA;\n",
              "      box-shadow: 0px 1px 2px rgba(60, 64, 67, 0.3), 0px 1px 3px 1px rgba(60, 64, 67, 0.15);\n",
              "      fill: #174EA6;\n",
              "    }\n",
              "\n",
              "    [theme=dark] .colab-df-convert {\n",
              "      background-color: #3B4455;\n",
              "      fill: #D2E3FC;\n",
              "    }\n",
              "\n",
              "    [theme=dark] .colab-df-convert:hover {\n",
              "      background-color: #434B5C;\n",
              "      box-shadow: 0px 1px 3px 1px rgba(0, 0, 0, 0.15);\n",
              "      filter: drop-shadow(0px 1px 2px rgba(0, 0, 0, 0.3));\n",
              "      fill: #FFFFFF;\n",
              "    }\n",
              "  </style>\n",
              "\n",
              "      <script>\n",
              "        const buttonEl =\n",
              "          document.querySelector('#df-70240985-1b8e-4fd0-8383-6012a680e6ee button.colab-df-convert');\n",
              "        buttonEl.style.display =\n",
              "          google.colab.kernel.accessAllowed ? 'block' : 'none';\n",
              "\n",
              "        async function convertToInteractive(key) {\n",
              "          const element = document.querySelector('#df-70240985-1b8e-4fd0-8383-6012a680e6ee');\n",
              "          const dataTable =\n",
              "            await google.colab.kernel.invokeFunction('convertToInteractive',\n",
              "                                                     [key], {});\n",
              "          if (!dataTable) return;\n",
              "\n",
              "          const docLinkHtml = 'Like what you see? Visit the ' +\n",
              "            '<a target=\"_blank\" href=https://colab.research.google.com/notebooks/data_table.ipynb>data table notebook</a>'\n",
              "            + ' to learn more about interactive tables.';\n",
              "          element.innerHTML = '';\n",
              "          dataTable['output_type'] = 'display_data';\n",
              "          await google.colab.output.renderOutput(dataTable, element);\n",
              "          const docLink = document.createElement('div');\n",
              "          docLink.innerHTML = docLinkHtml;\n",
              "          element.appendChild(docLink);\n",
              "        }\n",
              "      </script>\n",
              "    </div>\n",
              "  </div>\n",
              "  "
            ]
          },
          "metadata": {},
          "execution_count": 61
        }
      ]
    },
    {
      "cell_type": "code",
      "source": [
        "merged_df = pd.merge(merged_df, zone, how='left', left_on='Drop-off', right_on='zone_id')"
      ],
      "metadata": {
        "id": "HqBE2AERGpn7"
      },
      "execution_count": 62,
      "outputs": []
    },
    {
      "cell_type": "code",
      "source": [
        "merged_df\n"
      ],
      "metadata": {
        "colab": {
          "base_uri": "https://localhost:8080/",
          "height": 423
        },
        "id": "CwfEFqKBGydK",
        "outputId": "7e090fbd-724b-422a-8b3a-53b0d5a51ebb"
      },
      "execution_count": 63,
      "outputs": [
        {
          "output_type": "execute_result",
          "data": {
            "text/plain": [
              "        Pick-up Drop-off zone_id_x                 zone_name_borough_x  \\\n",
              "0           116      244       116          Hamilton Heights-Manhattan   \n",
              "1           193      264       193      Queensbridge/Ravenswood-Queens   \n",
              "2           193      193       193      Queensbridge/Ravenswood-Queens   \n",
              "3           193      193       193      Queensbridge/Ravenswood-Queens   \n",
              "4           208      208       208  Schuylerville/Edgewater Park-Bronx   \n",
              "...         ...      ...       ...                                 ...   \n",
              "1749128      38      237        38              Cambria Heights-Queens   \n",
              "1749129      41      254        41            Central Harlem-Manhattan   \n",
              "1749130     242      166       242          Van Nest/Morris Park-Bronx   \n",
              "1749131      42      183        42      Central Harlem North-Manhattan   \n",
              "1749132     166       51       166       Morningside Heights-Manhattan   \n",
              "\n",
              "        zone_id_y                 zone_name_borough_y  \n",
              "0             244  Washington Heights South-Manhattan  \n",
              "1             NaN                                 NaN  \n",
              "2             193      Queensbridge/Ravenswood-Queens  \n",
              "3             193      Queensbridge/Ravenswood-Queens  \n",
              "4             208  Schuylerville/Edgewater Park-Bronx  \n",
              "...           ...                                 ...  \n",
              "1749128       237     Upper East Side South-Manhattan  \n",
              "1749129       254      Williamsbridge/Olinville-Bronx  \n",
              "1749130       166       Morningside Heights-Manhattan  \n",
              "1749131       183                    Pelham Bay-Bronx  \n",
              "1749132        51                    Co-Op City-Bronx  \n",
              "\n",
              "[1749133 rows x 6 columns]"
            ],
            "text/html": [
              "\n",
              "  <div id=\"df-51a4cfef-4fc6-4725-8862-3c75de6cdb25\">\n",
              "    <div class=\"colab-df-container\">\n",
              "      <div>\n",
              "<style scoped>\n",
              "    .dataframe tbody tr th:only-of-type {\n",
              "        vertical-align: middle;\n",
              "    }\n",
              "\n",
              "    .dataframe tbody tr th {\n",
              "        vertical-align: top;\n",
              "    }\n",
              "\n",
              "    .dataframe thead th {\n",
              "        text-align: right;\n",
              "    }\n",
              "</style>\n",
              "<table border=\"1\" class=\"dataframe\">\n",
              "  <thead>\n",
              "    <tr style=\"text-align: right;\">\n",
              "      <th></th>\n",
              "      <th>Pick-up</th>\n",
              "      <th>Drop-off</th>\n",
              "      <th>zone_id_x</th>\n",
              "      <th>zone_name_borough_x</th>\n",
              "      <th>zone_id_y</th>\n",
              "      <th>zone_name_borough_y</th>\n",
              "    </tr>\n",
              "  </thead>\n",
              "  <tbody>\n",
              "    <tr>\n",
              "      <th>0</th>\n",
              "      <td>116</td>\n",
              "      <td>244</td>\n",
              "      <td>116</td>\n",
              "      <td>Hamilton Heights-Manhattan</td>\n",
              "      <td>244</td>\n",
              "      <td>Washington Heights South-Manhattan</td>\n",
              "    </tr>\n",
              "    <tr>\n",
              "      <th>1</th>\n",
              "      <td>193</td>\n",
              "      <td>264</td>\n",
              "      <td>193</td>\n",
              "      <td>Queensbridge/Ravenswood-Queens</td>\n",
              "      <td>NaN</td>\n",
              "      <td>NaN</td>\n",
              "    </tr>\n",
              "    <tr>\n",
              "      <th>2</th>\n",
              "      <td>193</td>\n",
              "      <td>193</td>\n",
              "      <td>193</td>\n",
              "      <td>Queensbridge/Ravenswood-Queens</td>\n",
              "      <td>193</td>\n",
              "      <td>Queensbridge/Ravenswood-Queens</td>\n",
              "    </tr>\n",
              "    <tr>\n",
              "      <th>3</th>\n",
              "      <td>193</td>\n",
              "      <td>193</td>\n",
              "      <td>193</td>\n",
              "      <td>Queensbridge/Ravenswood-Queens</td>\n",
              "      <td>193</td>\n",
              "      <td>Queensbridge/Ravenswood-Queens</td>\n",
              "    </tr>\n",
              "    <tr>\n",
              "      <th>4</th>\n",
              "      <td>208</td>\n",
              "      <td>208</td>\n",
              "      <td>208</td>\n",
              "      <td>Schuylerville/Edgewater Park-Bronx</td>\n",
              "      <td>208</td>\n",
              "      <td>Schuylerville/Edgewater Park-Bronx</td>\n",
              "    </tr>\n",
              "    <tr>\n",
              "      <th>...</th>\n",
              "      <td>...</td>\n",
              "      <td>...</td>\n",
              "      <td>...</td>\n",
              "      <td>...</td>\n",
              "      <td>...</td>\n",
              "      <td>...</td>\n",
              "    </tr>\n",
              "    <tr>\n",
              "      <th>1749128</th>\n",
              "      <td>38</td>\n",
              "      <td>237</td>\n",
              "      <td>38</td>\n",
              "      <td>Cambria Heights-Queens</td>\n",
              "      <td>237</td>\n",
              "      <td>Upper East Side South-Manhattan</td>\n",
              "    </tr>\n",
              "    <tr>\n",
              "      <th>1749129</th>\n",
              "      <td>41</td>\n",
              "      <td>254</td>\n",
              "      <td>41</td>\n",
              "      <td>Central Harlem-Manhattan</td>\n",
              "      <td>254</td>\n",
              "      <td>Williamsbridge/Olinville-Bronx</td>\n",
              "    </tr>\n",
              "    <tr>\n",
              "      <th>1749130</th>\n",
              "      <td>242</td>\n",
              "      <td>166</td>\n",
              "      <td>242</td>\n",
              "      <td>Van Nest/Morris Park-Bronx</td>\n",
              "      <td>166</td>\n",
              "      <td>Morningside Heights-Manhattan</td>\n",
              "    </tr>\n",
              "    <tr>\n",
              "      <th>1749131</th>\n",
              "      <td>42</td>\n",
              "      <td>183</td>\n",
              "      <td>42</td>\n",
              "      <td>Central Harlem North-Manhattan</td>\n",
              "      <td>183</td>\n",
              "      <td>Pelham Bay-Bronx</td>\n",
              "    </tr>\n",
              "    <tr>\n",
              "      <th>1749132</th>\n",
              "      <td>166</td>\n",
              "      <td>51</td>\n",
              "      <td>166</td>\n",
              "      <td>Morningside Heights-Manhattan</td>\n",
              "      <td>51</td>\n",
              "      <td>Co-Op City-Bronx</td>\n",
              "    </tr>\n",
              "  </tbody>\n",
              "</table>\n",
              "<p>1749133 rows × 6 columns</p>\n",
              "</div>\n",
              "      <button class=\"colab-df-convert\" onclick=\"convertToInteractive('df-51a4cfef-4fc6-4725-8862-3c75de6cdb25')\"\n",
              "              title=\"Convert this dataframe to an interactive table.\"\n",
              "              style=\"display:none;\">\n",
              "        \n",
              "  <svg xmlns=\"http://www.w3.org/2000/svg\" height=\"24px\"viewBox=\"0 0 24 24\"\n",
              "       width=\"24px\">\n",
              "    <path d=\"M0 0h24v24H0V0z\" fill=\"none\"/>\n",
              "    <path d=\"M18.56 5.44l.94 2.06.94-2.06 2.06-.94-2.06-.94-.94-2.06-.94 2.06-2.06.94zm-11 1L8.5 8.5l.94-2.06 2.06-.94-2.06-.94L8.5 2.5l-.94 2.06-2.06.94zm10 10l.94 2.06.94-2.06 2.06-.94-2.06-.94-.94-2.06-.94 2.06-2.06.94z\"/><path d=\"M17.41 7.96l-1.37-1.37c-.4-.4-.92-.59-1.43-.59-.52 0-1.04.2-1.43.59L10.3 9.45l-7.72 7.72c-.78.78-.78 2.05 0 2.83L4 21.41c.39.39.9.59 1.41.59.51 0 1.02-.2 1.41-.59l7.78-7.78 2.81-2.81c.8-.78.8-2.07 0-2.86zM5.41 20L4 18.59l7.72-7.72 1.47 1.35L5.41 20z\"/>\n",
              "  </svg>\n",
              "      </button>\n",
              "      \n",
              "  <style>\n",
              "    .colab-df-container {\n",
              "      display:flex;\n",
              "      flex-wrap:wrap;\n",
              "      gap: 12px;\n",
              "    }\n",
              "\n",
              "    .colab-df-convert {\n",
              "      background-color: #E8F0FE;\n",
              "      border: none;\n",
              "      border-radius: 50%;\n",
              "      cursor: pointer;\n",
              "      display: none;\n",
              "      fill: #1967D2;\n",
              "      height: 32px;\n",
              "      padding: 0 0 0 0;\n",
              "      width: 32px;\n",
              "    }\n",
              "\n",
              "    .colab-df-convert:hover {\n",
              "      background-color: #E2EBFA;\n",
              "      box-shadow: 0px 1px 2px rgba(60, 64, 67, 0.3), 0px 1px 3px 1px rgba(60, 64, 67, 0.15);\n",
              "      fill: #174EA6;\n",
              "    }\n",
              "\n",
              "    [theme=dark] .colab-df-convert {\n",
              "      background-color: #3B4455;\n",
              "      fill: #D2E3FC;\n",
              "    }\n",
              "\n",
              "    [theme=dark] .colab-df-convert:hover {\n",
              "      background-color: #434B5C;\n",
              "      box-shadow: 0px 1px 3px 1px rgba(0, 0, 0, 0.15);\n",
              "      filter: drop-shadow(0px 1px 2px rgba(0, 0, 0, 0.3));\n",
              "      fill: #FFFFFF;\n",
              "    }\n",
              "  </style>\n",
              "\n",
              "      <script>\n",
              "        const buttonEl =\n",
              "          document.querySelector('#df-51a4cfef-4fc6-4725-8862-3c75de6cdb25 button.colab-df-convert');\n",
              "        buttonEl.style.display =\n",
              "          google.colab.kernel.accessAllowed ? 'block' : 'none';\n",
              "\n",
              "        async function convertToInteractive(key) {\n",
              "          const element = document.querySelector('#df-51a4cfef-4fc6-4725-8862-3c75de6cdb25');\n",
              "          const dataTable =\n",
              "            await google.colab.kernel.invokeFunction('convertToInteractive',\n",
              "                                                     [key], {});\n",
              "          if (!dataTable) return;\n",
              "\n",
              "          const docLinkHtml = 'Like what you see? Visit the ' +\n",
              "            '<a target=\"_blank\" href=https://colab.research.google.com/notebooks/data_table.ipynb>data table notebook</a>'\n",
              "            + ' to learn more about interactive tables.';\n",
              "          element.innerHTML = '';\n",
              "          dataTable['output_type'] = 'display_data';\n",
              "          await google.colab.output.renderOutput(dataTable, element);\n",
              "          const docLink = document.createElement('div');\n",
              "          docLink.innerHTML = docLinkHtml;\n",
              "          element.appendChild(docLink);\n",
              "        }\n",
              "      </script>\n",
              "    </div>\n",
              "  </div>\n",
              "  "
            ]
          },
          "metadata": {},
          "execution_count": 63
        }
      ]
    },
    {
      "cell_type": "code",
      "source": [
        "merged_df = merged_df.drop(columns=['zone_id_x', 'zone_id_y'])"
      ],
      "metadata": {
        "id": "aO2CNUC9G8N-"
      },
      "execution_count": 64,
      "outputs": []
    },
    {
      "cell_type": "code",
      "source": [
        "new_names = {'zone_name_borough_x': 'Pick-up_location', 'zone_name_borough_y': 'Drop-off_location'}\n",
        "location = merged_df.rename(columns=new_names)"
      ],
      "metadata": {
        "id": "nru5WiGlHFrt"
      },
      "execution_count": 65,
      "outputs": []
    },
    {
      "cell_type": "code",
      "source": [
        "location"
      ],
      "metadata": {
        "colab": {
          "base_uri": "https://localhost:8080/",
          "height": 423
        },
        "id": "j5krf6UPHrcq",
        "outputId": "b321ab9e-0cc8-4868-825c-ae7937132fe3"
      },
      "execution_count": 66,
      "outputs": [
        {
          "output_type": "execute_result",
          "data": {
            "text/plain": [
              "        Pick-up Drop-off                    Pick-up_location  \\\n",
              "0           116      244          Hamilton Heights-Manhattan   \n",
              "1           193      264      Queensbridge/Ravenswood-Queens   \n",
              "2           193      193      Queensbridge/Ravenswood-Queens   \n",
              "3           193      193      Queensbridge/Ravenswood-Queens   \n",
              "4           208      208  Schuylerville/Edgewater Park-Bronx   \n",
              "...         ...      ...                                 ...   \n",
              "1749128      38      237              Cambria Heights-Queens   \n",
              "1749129      41      254            Central Harlem-Manhattan   \n",
              "1749130     242      166          Van Nest/Morris Park-Bronx   \n",
              "1749131      42      183      Central Harlem North-Manhattan   \n",
              "1749132     166       51       Morningside Heights-Manhattan   \n",
              "\n",
              "                          Drop-off_location  \n",
              "0        Washington Heights South-Manhattan  \n",
              "1                                       NaN  \n",
              "2            Queensbridge/Ravenswood-Queens  \n",
              "3            Queensbridge/Ravenswood-Queens  \n",
              "4        Schuylerville/Edgewater Park-Bronx  \n",
              "...                                     ...  \n",
              "1749128     Upper East Side South-Manhattan  \n",
              "1749129      Williamsbridge/Olinville-Bronx  \n",
              "1749130       Morningside Heights-Manhattan  \n",
              "1749131                    Pelham Bay-Bronx  \n",
              "1749132                    Co-Op City-Bronx  \n",
              "\n",
              "[1749133 rows x 4 columns]"
            ],
            "text/html": [
              "\n",
              "  <div id=\"df-7290d685-b284-41e8-a2e1-4ec7e81f4565\">\n",
              "    <div class=\"colab-df-container\">\n",
              "      <div>\n",
              "<style scoped>\n",
              "    .dataframe tbody tr th:only-of-type {\n",
              "        vertical-align: middle;\n",
              "    }\n",
              "\n",
              "    .dataframe tbody tr th {\n",
              "        vertical-align: top;\n",
              "    }\n",
              "\n",
              "    .dataframe thead th {\n",
              "        text-align: right;\n",
              "    }\n",
              "</style>\n",
              "<table border=\"1\" class=\"dataframe\">\n",
              "  <thead>\n",
              "    <tr style=\"text-align: right;\">\n",
              "      <th></th>\n",
              "      <th>Pick-up</th>\n",
              "      <th>Drop-off</th>\n",
              "      <th>Pick-up_location</th>\n",
              "      <th>Drop-off_location</th>\n",
              "    </tr>\n",
              "  </thead>\n",
              "  <tbody>\n",
              "    <tr>\n",
              "      <th>0</th>\n",
              "      <td>116</td>\n",
              "      <td>244</td>\n",
              "      <td>Hamilton Heights-Manhattan</td>\n",
              "      <td>Washington Heights South-Manhattan</td>\n",
              "    </tr>\n",
              "    <tr>\n",
              "      <th>1</th>\n",
              "      <td>193</td>\n",
              "      <td>264</td>\n",
              "      <td>Queensbridge/Ravenswood-Queens</td>\n",
              "      <td>NaN</td>\n",
              "    </tr>\n",
              "    <tr>\n",
              "      <th>2</th>\n",
              "      <td>193</td>\n",
              "      <td>193</td>\n",
              "      <td>Queensbridge/Ravenswood-Queens</td>\n",
              "      <td>Queensbridge/Ravenswood-Queens</td>\n",
              "    </tr>\n",
              "    <tr>\n",
              "      <th>3</th>\n",
              "      <td>193</td>\n",
              "      <td>193</td>\n",
              "      <td>Queensbridge/Ravenswood-Queens</td>\n",
              "      <td>Queensbridge/Ravenswood-Queens</td>\n",
              "    </tr>\n",
              "    <tr>\n",
              "      <th>4</th>\n",
              "      <td>208</td>\n",
              "      <td>208</td>\n",
              "      <td>Schuylerville/Edgewater Park-Bronx</td>\n",
              "      <td>Schuylerville/Edgewater Park-Bronx</td>\n",
              "    </tr>\n",
              "    <tr>\n",
              "      <th>...</th>\n",
              "      <td>...</td>\n",
              "      <td>...</td>\n",
              "      <td>...</td>\n",
              "      <td>...</td>\n",
              "    </tr>\n",
              "    <tr>\n",
              "      <th>1749128</th>\n",
              "      <td>38</td>\n",
              "      <td>237</td>\n",
              "      <td>Cambria Heights-Queens</td>\n",
              "      <td>Upper East Side South-Manhattan</td>\n",
              "    </tr>\n",
              "    <tr>\n",
              "      <th>1749129</th>\n",
              "      <td>41</td>\n",
              "      <td>254</td>\n",
              "      <td>Central Harlem-Manhattan</td>\n",
              "      <td>Williamsbridge/Olinville-Bronx</td>\n",
              "    </tr>\n",
              "    <tr>\n",
              "      <th>1749130</th>\n",
              "      <td>242</td>\n",
              "      <td>166</td>\n",
              "      <td>Van Nest/Morris Park-Bronx</td>\n",
              "      <td>Morningside Heights-Manhattan</td>\n",
              "    </tr>\n",
              "    <tr>\n",
              "      <th>1749131</th>\n",
              "      <td>42</td>\n",
              "      <td>183</td>\n",
              "      <td>Central Harlem North-Manhattan</td>\n",
              "      <td>Pelham Bay-Bronx</td>\n",
              "    </tr>\n",
              "    <tr>\n",
              "      <th>1749132</th>\n",
              "      <td>166</td>\n",
              "      <td>51</td>\n",
              "      <td>Morningside Heights-Manhattan</td>\n",
              "      <td>Co-Op City-Bronx</td>\n",
              "    </tr>\n",
              "  </tbody>\n",
              "</table>\n",
              "<p>1749133 rows × 4 columns</p>\n",
              "</div>\n",
              "      <button class=\"colab-df-convert\" onclick=\"convertToInteractive('df-7290d685-b284-41e8-a2e1-4ec7e81f4565')\"\n",
              "              title=\"Convert this dataframe to an interactive table.\"\n",
              "              style=\"display:none;\">\n",
              "        \n",
              "  <svg xmlns=\"http://www.w3.org/2000/svg\" height=\"24px\"viewBox=\"0 0 24 24\"\n",
              "       width=\"24px\">\n",
              "    <path d=\"M0 0h24v24H0V0z\" fill=\"none\"/>\n",
              "    <path d=\"M18.56 5.44l.94 2.06.94-2.06 2.06-.94-2.06-.94-.94-2.06-.94 2.06-2.06.94zm-11 1L8.5 8.5l.94-2.06 2.06-.94-2.06-.94L8.5 2.5l-.94 2.06-2.06.94zm10 10l.94 2.06.94-2.06 2.06-.94-2.06-.94-.94-2.06-.94 2.06-2.06.94z\"/><path d=\"M17.41 7.96l-1.37-1.37c-.4-.4-.92-.59-1.43-.59-.52 0-1.04.2-1.43.59L10.3 9.45l-7.72 7.72c-.78.78-.78 2.05 0 2.83L4 21.41c.39.39.9.59 1.41.59.51 0 1.02-.2 1.41-.59l7.78-7.78 2.81-2.81c.8-.78.8-2.07 0-2.86zM5.41 20L4 18.59l7.72-7.72 1.47 1.35L5.41 20z\"/>\n",
              "  </svg>\n",
              "      </button>\n",
              "      \n",
              "  <style>\n",
              "    .colab-df-container {\n",
              "      display:flex;\n",
              "      flex-wrap:wrap;\n",
              "      gap: 12px;\n",
              "    }\n",
              "\n",
              "    .colab-df-convert {\n",
              "      background-color: #E8F0FE;\n",
              "      border: none;\n",
              "      border-radius: 50%;\n",
              "      cursor: pointer;\n",
              "      display: none;\n",
              "      fill: #1967D2;\n",
              "      height: 32px;\n",
              "      padding: 0 0 0 0;\n",
              "      width: 32px;\n",
              "    }\n",
              "\n",
              "    .colab-df-convert:hover {\n",
              "      background-color: #E2EBFA;\n",
              "      box-shadow: 0px 1px 2px rgba(60, 64, 67, 0.3), 0px 1px 3px 1px rgba(60, 64, 67, 0.15);\n",
              "      fill: #174EA6;\n",
              "    }\n",
              "\n",
              "    [theme=dark] .colab-df-convert {\n",
              "      background-color: #3B4455;\n",
              "      fill: #D2E3FC;\n",
              "    }\n",
              "\n",
              "    [theme=dark] .colab-df-convert:hover {\n",
              "      background-color: #434B5C;\n",
              "      box-shadow: 0px 1px 3px 1px rgba(0, 0, 0, 0.15);\n",
              "      filter: drop-shadow(0px 1px 2px rgba(0, 0, 0, 0.3));\n",
              "      fill: #FFFFFF;\n",
              "    }\n",
              "  </style>\n",
              "\n",
              "      <script>\n",
              "        const buttonEl =\n",
              "          document.querySelector('#df-7290d685-b284-41e8-a2e1-4ec7e81f4565 button.colab-df-convert');\n",
              "        buttonEl.style.display =\n",
              "          google.colab.kernel.accessAllowed ? 'block' : 'none';\n",
              "\n",
              "        async function convertToInteractive(key) {\n",
              "          const element = document.querySelector('#df-7290d685-b284-41e8-a2e1-4ec7e81f4565');\n",
              "          const dataTable =\n",
              "            await google.colab.kernel.invokeFunction('convertToInteractive',\n",
              "                                                     [key], {});\n",
              "          if (!dataTable) return;\n",
              "\n",
              "          const docLinkHtml = 'Like what you see? Visit the ' +\n",
              "            '<a target=\"_blank\" href=https://colab.research.google.com/notebooks/data_table.ipynb>data table notebook</a>'\n",
              "            + ' to learn more about interactive tables.';\n",
              "          element.innerHTML = '';\n",
              "          dataTable['output_type'] = 'display_data';\n",
              "          await google.colab.output.renderOutput(dataTable, element);\n",
              "          const docLink = document.createElement('div');\n",
              "          docLink.innerHTML = docLinkHtml;\n",
              "          element.appendChild(docLink);\n",
              "        }\n",
              "      </script>\n",
              "    </div>\n",
              "  </div>\n",
              "  "
            ]
          },
          "metadata": {},
          "execution_count": 66
        }
      ]
    },
    {
      "cell_type": "code",
      "source": [
        "trip_counts = location.groupby(['Pick-up_location', 'Drop-off_location']).size().reset_index(name='count')\n",
        "\n",
        "# Sort the trip counts in descending order\n",
        "trip_counts = trip_counts.sort_values(by='count', ascending=False)\n",
        "\n",
        "# Plot a bar chart of the top 10 pickup-dropoff pairs by trip count\n",
        "top_pairs = trip_counts.head(10)\n",
        "plt.bar(range(len(top_pairs)), top_pairs['count'])\n",
        "plt.xticks(range(len(top_pairs)), [f\"{pickup}\\n{dropoff}\" for pickup, dropoff in zip(top_pairs['Pick-up_location'], top_pairs['Drop-off_location'])])\n",
        "plt.xlabel('Pickup and Dropoff Locations')\n",
        "plt.ylabel('Number of Trips')\n",
        "plt.title('Top 10 Pickup-Dropoff Pairs by Trip Count')\n",
        "plt.xticks(rotation=90)\n",
        "plt.savefig('Pickup.png', dpi=300, bbox_inches='tight')\n",
        "\n",
        "plt.show()"
      ],
      "metadata": {
        "colab": {
          "base_uri": "https://localhost:8080/",
          "height": 687
        },
        "id": "tYNhNO9CH1Q2",
        "outputId": "2ac77ec3-05d6-4216-fc73-ee6b392dc2b8"
      },
      "execution_count": 68,
      "outputs": [
        {
          "output_type": "display_data",
          "data": {
            "text/plain": [
              "<Figure size 640x480 with 1 Axes>"
            ],
            "image/png": "[encoded data removed]"
          },
          "metadata": {}
        }
      ]
    },
    {
      "cell_type": "code",
      "source": [
        "df1.time_between_service.isna()"
      ],
      "metadata": {
        "colab": {
          "base_uri": "https://localhost:8080/"
        },
        "id": "nTnV2rjHIxFI",
        "outputId": "786a105c-3454-451e-cc1b-513d5a7aa5d8"
      },
      "execution_count": null,
      "outputs": [
        {
          "output_type": "execute_result",
          "data": {
            "text/plain": [
              "0          True\n",
              "1          True\n",
              "2          True\n",
              "3          True\n",
              "4          True\n",
              "           ... \n",
              "1734160    True\n",
              "1734161    True\n",
              "1734162    True\n",
              "1734163    True\n",
              "1734164    True\n",
              "Name: time_between_service, Length: 1734165, dtype: bool"
            ]
          },
          "metadata": {},
          "execution_count": 179
        }
      ]
    },
    {
      "cell_type": "code",
      "source": [
        "df1.trip_type.unique()"
      ],
      "metadata": {
        "colab": {
          "base_uri": "https://localhost:8080/"
        },
        "id": "AoS68SSoJzA9",
        "outputId": "48a0485f-9df1-4b54-96f6-8020a2d7e002"
      },
      "execution_count": 69,
      "outputs": [
        {
          "output_type": "execute_result",
          "data": {
            "text/plain": [
              "array(['1.0', '2.0', None], dtype=object)"
            ]
          },
          "metadata": {},
          "execution_count": 69
        }
      ]
    },
    {
      "cell_type": "code",
      "source": [
        "df1.trip_type.nunique()"
      ],
      "metadata": {
        "colab": {
          "base_uri": "https://localhost:8080/"
        },
        "id": "gY-ZysFYKcjD",
        "outputId": "421cd80f-db7b-4854-8b3a-687877d0a8d9"
      },
      "execution_count": 70,
      "outputs": [
        {
          "output_type": "execute_result",
          "data": {
            "text/plain": [
              "2"
            ]
          },
          "metadata": {},
          "execution_count": 70
        }
      ]
    },
    {
      "cell_type": "code",
      "source": [
        "df1.rate_code.unique()"
      ],
      "metadata": {
        "colab": {
          "base_uri": "https://localhost:8080/"
        },
        "id": "dhiXGJ9NKt90",
        "outputId": "181d2ad7-30f4-459e-f9bf-6d708d07db40"
      },
      "execution_count": 71,
      "outputs": [
        {
          "output_type": "execute_result",
          "data": {
            "text/plain": [
              "array(['1.0', '5.0', None, '2.0', '4.0', '3.0', '6.0', '99.0'],\n",
              "      dtype=object)"
            ]
          },
          "metadata": {},
          "execution_count": 71
        }
      ]
    },
    {
      "cell_type": "code",
      "source": [
        "df1.rate_code.nunique()"
      ],
      "metadata": {
        "colab": {
          "base_uri": "https://localhost:8080/"
        },
        "id": "TpzxkXSDK1Cm",
        "outputId": "6f5da195-31ea-4f9f-ea8c-03d8bed7a669"
      },
      "execution_count": 72,
      "outputs": [
        {
          "output_type": "execute_result",
          "data": {
            "text/plain": [
              "7"
            ]
          },
          "metadata": {},
          "execution_count": 72
        }
      ]
    },
    {
      "cell_type": "code",
      "source": [
        "df1.fare_amount.min()"
      ],
      "metadata": {
        "colab": {
          "base_uri": "https://localhost:8080/"
        },
        "id": "JoEWAt3oMKaQ",
        "outputId": "4a473e91-94c2-4c9e-9609-40e2441706ec"
      },
      "execution_count": 73,
      "outputs": [
        {
          "output_type": "execute_result",
          "data": {
            "text/plain": [
              "Decimal('-210.000000000')"
            ]
          },
          "metadata": {},
          "execution_count": 73
        }
      ]
    },
    {
      "cell_type": "code",
      "source": [
        "df1.total_amount.min()"
      ],
      "metadata": {
        "colab": {
          "base_uri": "https://localhost:8080/"
        },
        "id": "h0ffpff6OVxr",
        "outputId": "96fbca8c-193d-45a4-fea7-7c8b2e736877"
      },
      "execution_count": 74,
      "outputs": [
        {
          "output_type": "execute_result",
          "data": {
            "text/plain": [
              "Decimal('-210.300000000')"
            ]
          },
          "metadata": {},
          "execution_count": 74
        }
      ]
    },
    {
      "cell_type": "code",
      "source": [
        "df1.total_amount.max()"
      ],
      "metadata": {
        "colab": {
          "base_uri": "https://localhost:8080/"
        },
        "id": "BTdywxIDOdUJ",
        "outputId": "f6c76b20-3c27-46c6-e709-62677a8414f5"
      },
      "execution_count": 75,
      "outputs": [
        {
          "output_type": "execute_result",
          "data": {
            "text/plain": [
              "Decimal('803.800000000')"
            ]
          },
          "metadata": {},
          "execution_count": 75
        }
      ]
    },
    {
      "cell_type": "code",
      "source": [
        "df1.fare_amount.min()"
      ],
      "metadata": {
        "colab": {
          "base_uri": "https://localhost:8080/"
        },
        "id": "vLlIQkpJOrmE",
        "outputId": "24d74083-934f-4bb5-885a-3613c6d0d06b"
      },
      "execution_count": 76,
      "outputs": [
        {
          "output_type": "execute_result",
          "data": {
            "text/plain": [
              "Decimal('-210.000000000')"
            ]
          },
          "metadata": {},
          "execution_count": 76
        }
      ]
    },
    {
      "cell_type": "code",
      "source": [
        "df1.passenger_count.min()"
      ],
      "metadata": {
        "colab": {
          "base_uri": "https://localhost:8080/"
        },
        "id": "8L1awef8PiuE",
        "outputId": "4e0b8c26-041f-4e18-f11e-18b076fa76ac"
      },
      "execution_count": 77,
      "outputs": [
        {
          "output_type": "execute_result",
          "data": {
            "text/plain": [
              "0"
            ]
          },
          "metadata": {},
          "execution_count": 77
        }
      ]
    },
    {
      "cell_type": "code",
      "source": [
        "df1 = df1[df1['passenger_count'] != 0]"
      ],
      "metadata": {
        "id": "nbyMVYcRPnFf"
      },
      "execution_count": 78,
      "outputs": []
    },
    {
      "cell_type": "code",
      "source": [
        "df1.passenger_count.unique()"
      ],
      "metadata": {
        "colab": {
          "base_uri": "https://localhost:8080/"
        },
        "id": "9CwBA8yTQBQh",
        "outputId": "6fe1c9ba-659e-4620-e0c4-093e3a417a60"
      },
      "execution_count": 79,
      "outputs": [
        {
          "output_type": "execute_result",
          "data": {
            "text/plain": [
              "<IntegerArray>\n",
              "[2, 3, 1, 6, 5, 4, 8, 7, 9]\n",
              "Length: 9, dtype: Int64"
            ]
          },
          "metadata": {},
          "execution_count": 79
        }
      ]
    },
    {
      "cell_type": "code",
      "source": [
        "df1.data_file_month.unique()"
      ],
      "metadata": {
        "colab": {
          "base_uri": "https://localhost:8080/"
        },
        "id": "cSDtZ2h7QSHP",
        "outputId": "c1bd1c0b-6427-40dd-ce02-a02bb37f9543"
      },
      "execution_count": 80,
      "outputs": [
        {
          "output_type": "execute_result",
          "data": {
            "text/plain": [
              "<IntegerArray>\n",
              "[4, 5, 6, 11, 7, 10, 8, 2, 9, 12, 3, 1]\n",
              "Length: 12, dtype: Int64"
            ]
          },
          "metadata": {},
          "execution_count": 80
        }
      ]
    },
    {
      "cell_type": "code",
      "source": [
        "monthly_stats = df1.groupby('data_file_month').agg({'fare_amount': 'sum', 'passenger_count': 'sum'})"
      ],
      "metadata": {
        "id": "w1kxD5hAQgp3"
      },
      "execution_count": 81,
      "outputs": []
    },
    {
      "cell_type": "code",
      "source": [
        "monthly_stats.plot(kind='line', y='passenger_count',legend=True)\n",
        "\n",
        "plt.xlabel('Month')\n",
        "plt.ylabel('Passenger Count')\n",
        "plt.title('Monthly Trend of Passenger Count')\n",
        "plt.savefig('month_passenger_count.png', dpi=300, bbox_inches='tight')\n",
        "plt.show()"
      ],
      "metadata": {
        "colab": {
          "base_uri": "https://localhost:8080/",
          "height": 472
        },
        "id": "voJElWusRf8G",
        "outputId": "b011a5c5-9928-485f-cd87-07ba2b6fa54c"
      },
      "execution_count": 82,
      "outputs": [
        {
          "output_type": "display_data",
          "data": {
            "text/plain": [
              "<Figure size 640x480 with 1 Axes>"
            ],
            "image/png": "[encoded data removed]"
          },
          "metadata": {}
        }
      ]
    },
    {
      "cell_type": "code",
      "source": [
        "from google.cloud import bigquery\n",
        "#import db-dtypes\n",
        "import os\n",
        "import pandas as pd\n",
        "# Create a BigQuery client object\n",
        "#from pyspark.sql import SparkSession\n",
        "#from pyspark.ml.regression import LinearRegression\n",
        "#from pyspark.ml.feature import VectorAssembler\n",
        "\n",
        "os.environ[\"GOOGLE_APPLICATION_CREDENTIALS\"]= \"nifty-expanse-380117-34182b0834a5.json\"\n",
        "client = bigquery.Client()\n",
        "# Construct the SQL query to fetch data from a table in the database\n",
        "sql_query1 = \"\"\"SELECT * FROM `bigquery-public-data.new_york_taxi_trips.tlc_green_trips_2020`\"\"\"\n",
        "# Execute the query and fetch the results\n",
        "query_job = client.query(sql_query1)\n",
        "df1 = query_job.to_dataframe()\n"
      ],
      "metadata": {
        "id": "HGTdeEhLRyuz"
      },
      "execution_count": 83,
      "outputs": []
    },
    {
      "cell_type": "code",
      "source": [
        "df1.total_amount.max()"
      ],
      "metadata": {
        "colab": {
          "base_uri": "https://localhost:8080/"
        },
        "id": "pqRKHEIbSgcK",
        "outputId": "de355473-953c-45c4-9e03-e874b37e14b4"
      },
      "execution_count": 84,
      "outputs": [
        {
          "output_type": "execute_result",
          "data": {
            "text/plain": [
              "Decimal('803.800000000')"
            ]
          },
          "metadata": {},
          "execution_count": 84
        }
      ]
    },
    {
      "cell_type": "code",
      "source": [
        "df1.total_amount.min()"
      ],
      "metadata": {
        "colab": {
          "base_uri": "https://localhost:8080/"
        },
        "id": "wlQN0Vv_VdWB",
        "outputId": "7d1c9346-b9f1-4882-c6b7-b9fcbb458992"
      },
      "execution_count": 85,
      "outputs": [
        {
          "output_type": "execute_result",
          "data": {
            "text/plain": [
              "Decimal('-210.300000000')"
            ]
          },
          "metadata": {},
          "execution_count": 85
        }
      ]
    },
    {
      "cell_type": "code",
      "source": [
        "df1 = df1[df1['total_amount'] >= 0]\n"
      ],
      "metadata": {
        "id": "mbxwFBKmVkF9"
      },
      "execution_count": 86,
      "outputs": []
    },
    {
      "cell_type": "code",
      "source": [
        "df1.total_amount.min()"
      ],
      "metadata": {
        "colab": {
          "base_uri": "https://localhost:8080/"
        },
        "id": "aoobO6KcYMTY",
        "outputId": "71353bf7-7947-4a05-d618-0a7bd055f810"
      },
      "execution_count": 87,
      "outputs": [
        {
          "output_type": "execute_result",
          "data": {
            "text/plain": [
              "Decimal('0E-9')"
            ]
          },
          "metadata": {},
          "execution_count": 87
        }
      ]
    },
    {
      "cell_type": "code",
      "source": [
        "df1 = df1[df1['total_amount'] != 0E-9]"
      ],
      "metadata": {
        "id": "Xa9RhmwlYPIg"
      },
      "execution_count": 88,
      "outputs": []
    },
    {
      "cell_type": "code",
      "source": [
        "df1.total_amount.min()"
      ],
      "metadata": {
        "colab": {
          "base_uri": "https://localhost:8080/"
        },
        "id": "ZrC8zJDUYXz7",
        "outputId": "6776cc77-2e49-4bf3-eb09-5bbd21e7f127"
      },
      "execution_count": null,
      "outputs": [
        {
          "output_type": "execute_result",
          "data": {
            "text/plain": [
              "Decimal('0.010000000')"
            ]
          },
          "metadata": {},
          "execution_count": 232
        }
      ]
    },
    {
      "cell_type": "code",
      "source": [
        "df1 = df1[df1['total_amount'] >= 1]"
      ],
      "metadata": {
        "id": "isJviZ9UYdr1"
      },
      "execution_count": 89,
      "outputs": []
    },
    {
      "cell_type": "code",
      "source": [
        "df1.total_amount.min()"
      ],
      "metadata": {
        "colab": {
          "base_uri": "https://localhost:8080/"
        },
        "id": "0_SuEI52YgWQ",
        "outputId": "57f4806e-b331-4995-d894-f9db637a16b5"
      },
      "execution_count": null,
      "outputs": [
        {
          "output_type": "execute_result",
          "data": {
            "text/plain": [
              "Decimal('1.000000000')"
            ]
          },
          "metadata": {},
          "execution_count": 234
        }
      ]
    },
    {
      "cell_type": "code",
      "source": [
        "df1.total_amount.max()"
      ],
      "metadata": {
        "colab": {
          "base_uri": "https://localhost:8080/"
        },
        "id": "0-Px7k7MYlVY",
        "outputId": "84482cec-353c-4150-e24e-a3bb95fa7366"
      },
      "execution_count": null,
      "outputs": [
        {
          "output_type": "execute_result",
          "data": {
            "text/plain": [
              "Decimal('803.800000000')"
            ]
          },
          "metadata": {},
          "execution_count": 235
        }
      ]
    },
    {
      "cell_type": "code",
      "source": [
        "df1.total_amount.mean()"
      ],
      "metadata": {
        "colab": {
          "base_uri": "https://localhost:8080/"
        },
        "id": "C0AoDnWBYnEU",
        "outputId": "8ec4bf7a-3674-4e70-e431-2f6759a76794"
      },
      "execution_count": null,
      "outputs": [
        {
          "output_type": "execute_result",
          "data": {
            "text/plain": [
              "20.286997386658104"
            ]
          },
          "metadata": {},
          "execution_count": 237
        }
      ]
    },
    {
      "cell_type": "code",
      "source": [
        "df1.data_file_month.unique()"
      ],
      "metadata": {
        "colab": {
          "base_uri": "https://localhost:8080/"
        },
        "id": "pWXr0YXBYpjO",
        "outputId": "87f6ac5d-6121-47f0-88fa-71cf005fb4f6"
      },
      "execution_count": null,
      "outputs": [
        {
          "output_type": "execute_result",
          "data": {
            "text/plain": [
              "<IntegerArray>\n",
              "[4, 5, 6, 11, 7, 10, 8, 2, 9, 12, 3, 1]\n",
              "Length: 12, dtype: Int64"
            ]
          },
          "metadata": {},
          "execution_count": 238
        }
      ]
    },
    {
      "cell_type": "code",
      "source": [
        "monthly_stats = df1.groupby('data_file_month').agg({'fare_amount': 'sum'})"
      ],
      "metadata": {
        "id": "crWgYyubYwtW"
      },
      "execution_count": 90,
      "outputs": []
    },
    {
      "cell_type": "code",
      "source": [
        "monthly_stats['fare_amount'] = pd.to_numeric(monthly_stats['fare_amount'], errors='coerce')\n",
        "monthly_stats.plot(kind='line', y='fare_amount', legend=True)\n",
        "\n",
        "plt.xlabel('Month')\n",
        "plt.ylabel('Fare')\n",
        "plt.title('Monthly Trend of Fare')\n",
        "plt.savefig('monthlytrend.png', dpi=300, bbox_inches='tight')\n",
        "plt.show()\n"
      ],
      "metadata": {
        "colab": {
          "base_uri": "https://localhost:8080/",
          "height": 472
        },
        "id": "ZO5KZK6ZY62M",
        "outputId": "1579bb98-4efe-4e1c-f1e3-a70e44e3a65f"
      },
      "execution_count": 91,
      "outputs": [
        {
          "output_type": "display_data",
          "data": {
            "text/plain": [
              "<Figure size 640x480 with 1 Axes>"
            ],
            "image/png": "[encoded data removed]"
          },
          "metadata": {}
        }
      ]
    },
    {
      "cell_type": "code",
      "source": [
        "from google.cloud import bigquery\n",
        "#import db-dtypes\n",
        "import os\n",
        "import pandas as pd\n",
        "# Create a BigQuery client object\n",
        "#from pyspark.sql import SparkSession\n",
        "#from pyspark.ml.regression import LinearRegression\n",
        "#from pyspark.ml.feature import VectorAssembler\n",
        "\n",
        "os.environ[\"GOOGLE_APPLICATION_CREDENTIALS\"]= \"nifty-expanse-380117-34182b0834a5.json\"\n",
        "client = bigquery.Client()\n",
        "# Construct the SQL query to fetch data from a table in the database\n",
        "sql_query1 = \"\"\"SELECT * FROM `bigquery-public-data.new_york_taxi_trips.tlc_green_trips_2020`\"\"\"\n",
        "# Execute the query and fetch the results\n",
        "query_job = client.query(sql_query1)\n",
        "df1 = query_job.to_dataframe()\n"
      ],
      "metadata": {
        "id": "Y4lIHCM7ZmoV"
      },
      "execution_count": 92,
      "outputs": []
    },
    {
      "cell_type": "code",
      "source": [
        "df1.columns"
      ],
      "metadata": {
        "colab": {
          "base_uri": "https://localhost:8080/"
        },
        "id": "Va6siohdKTJp",
        "outputId": "baeb1cbf-d975-446a-c6e5-1a41f255f38f"
      },
      "execution_count": 93,
      "outputs": [
        {
          "output_type": "execute_result",
          "data": {
            "text/plain": [
              "Index(['vendor_id', 'pickup_datetime', 'dropoff_datetime',\n",
              "       'store_and_fwd_flag', 'rate_code', 'passenger_count', 'trip_distance',\n",
              "       'fare_amount', 'extra', 'mta_tax', 'tip_amount', 'tolls_amount',\n",
              "       'ehail_fee', 'airport_fee', 'total_amount', 'payment_type',\n",
              "       'distance_between_service', 'time_between_service', 'trip_type',\n",
              "       'imp_surcharge', 'pickup_location_id', 'dropoff_location_id',\n",
              "       'data_file_year', 'data_file_month'],\n",
              "      dtype='object')"
            ]
          },
          "metadata": {},
          "execution_count": 93
        }
      ]
    },
    {
      "cell_type": "code",
      "source": [
        "df1.pickup_datetime"
      ],
      "metadata": {
        "colab": {
          "base_uri": "https://localhost:8080/"
        },
        "id": "LeOEhtJFK1SU",
        "outputId": "8c817d7a-ca23-42e2-90b6-ea11369e1137"
      },
      "execution_count": 94,
      "outputs": [
        {
          "output_type": "execute_result",
          "data": {
            "text/plain": [
              "0         2020-04-02 12:20:08+00:00\n",
              "1         2020-04-06 03:09:37+00:00\n",
              "2         2020-04-08 03:15:47+00:00\n",
              "3         2020-04-13 10:37:14+00:00\n",
              "4         2020-04-18 13:08:11+00:00\n",
              "                     ...           \n",
              "1734160   2020-01-06 07:19:00+00:00\n",
              "1734161   2020-01-05 16:31:00+00:00\n",
              "1734162   2020-01-13 15:33:00+00:00\n",
              "1734163   2020-01-24 15:06:00+00:00\n",
              "1734164   2020-01-27 21:20:00+00:00\n",
              "Name: pickup_datetime, Length: 1734165, dtype: datetime64[ns, UTC]"
            ]
          },
          "metadata": {},
          "execution_count": 94
        }
      ]
    },
    {
      "cell_type": "code",
      "source": [
        "import pandas as pd\n",
        "from datetime import datetime\n",
        "\n",
        "# Load the data into a pandas DataFrame\n",
        "#df1 = pd.read_csv('your_file.csv')\n",
        "\n",
        "# Convert the pickup_datetime column to a datetime object\n",
        "df1['pickup_datetime'] = pd.to_datetime(df1['pickup_datetime'])\n",
        "\n",
        "# Extract the pickup time as a separate column\n",
        "df1['pickup_time'] = df1['pickup_datetime'].apply(lambda x: datetime.strftime(x, '%H:%M:%S'))\n",
        "\n",
        "# Print the first few rows to verify the results\n",
        "print(df1.head())"
      ],
      "metadata": {
        "colab": {
          "base_uri": "https://localhost:8080/"
        },
        "id": "B-f6wubcKjJd",
        "outputId": "f7f9630c-7367-4d43-bc20-ec9e9089d88b"
      },
      "execution_count": 95,
      "outputs": [
        {
          "output_type": "stream",
          "name": "stdout",
          "text": [
            "  vendor_id           pickup_datetime          dropoff_datetime  \\\n",
            "0         2 2020-04-02 12:20:08+00:00 2020-04-02 12:21:30+00:00   \n",
            "1         2 2020-04-06 03:09:37+00:00 2020-04-06 03:10:58+00:00   \n",
            "2         2 2020-04-08 03:15:47+00:00 2020-04-08 03:37:11+00:00   \n",
            "3         1 2020-04-13 10:37:14+00:00 2020-04-13 10:37:46+00:00   \n",
            "4         2 2020-04-18 13:08:11+00:00 2020-04-18 13:08:24+00:00   \n",
            "\n",
            "  store_and_fwd_flag rate_code  passenger_count trip_distance fare_amount  \\\n",
            "0                  N       1.0                1          0E-9        0E-9   \n",
            "1                  N       1.0                1   0.130000000        0E-9   \n",
            "2                  N       1.0                1   7.110000000        0E-9   \n",
            "3                  N       1.0                1          0E-9        0E-9   \n",
            "4                  N       1.0                1          0E-9        0E-9   \n",
            "\n",
            "  extra mta_tax  ... payment_type distance_between_service  \\\n",
            "0  0E-9    0E-9  ...          1.0                     None   \n",
            "1  0E-9    0E-9  ...          2.0                     None   \n",
            "2  0E-9    0E-9  ...          2.0                     None   \n",
            "3  0E-9    0E-9  ...          3.0                     None   \n",
            "4  0E-9    0E-9  ...          1.0                     None   \n",
            "\n",
            "  time_between_service trip_type imp_surcharge pickup_location_id  \\\n",
            "0                 <NA>       1.0          0E-9                193   \n",
            "1                 <NA>       1.0          0E-9                152   \n",
            "2                 <NA>       1.0          0E-9                127   \n",
            "3                 <NA>       1.0          0E-9                152   \n",
            "4                 <NA>       1.0          0E-9                193   \n",
            "\n",
            "  dropoff_location_id  data_file_year data_file_month pickup_time  \n",
            "0                 193            2020               4    12:20:08  \n",
            "1                 152            2020               4    03:09:37  \n",
            "2                  75            2020               4    03:15:47  \n",
            "3                 152            2020               4    10:37:14  \n",
            "4                 193            2020               4    13:08:11  \n",
            "\n",
            "[5 rows x 25 columns]\n"
          ]
        }
      ]
    },
    {
      "cell_type": "code",
      "source": [
        "df1.head()"
      ],
      "metadata": {
        "colab": {
          "base_uri": "https://localhost:8080/",
          "height": 386
        },
        "id": "V81YKUizLW9J",
        "outputId": "12b86e87-40bc-46f1-94bb-e4fd2f310c90"
      },
      "execution_count": 96,
      "outputs": [
        {
          "output_type": "execute_result",
          "data": {
            "text/plain": [
              "  vendor_id           pickup_datetime          dropoff_datetime  \\\n",
              "0         2 2020-04-02 12:20:08+00:00 2020-04-02 12:21:30+00:00   \n",
              "1         2 2020-04-06 03:09:37+00:00 2020-04-06 03:10:58+00:00   \n",
              "2         2 2020-04-08 03:15:47+00:00 2020-04-08 03:37:11+00:00   \n",
              "3         1 2020-04-13 10:37:14+00:00 2020-04-13 10:37:46+00:00   \n",
              "4         2 2020-04-18 13:08:11+00:00 2020-04-18 13:08:24+00:00   \n",
              "\n",
              "  store_and_fwd_flag rate_code  passenger_count trip_distance fare_amount  \\\n",
              "0                  N       1.0                1          0E-9        0E-9   \n",
              "1                  N       1.0                1   0.130000000        0E-9   \n",
              "2                  N       1.0                1   7.110000000        0E-9   \n",
              "3                  N       1.0                1          0E-9        0E-9   \n",
              "4                  N       1.0                1          0E-9        0E-9   \n",
              "\n",
              "  extra mta_tax  ... payment_type distance_between_service  \\\n",
              "0  0E-9    0E-9  ...          1.0                     None   \n",
              "1  0E-9    0E-9  ...          2.0                     None   \n",
              "2  0E-9    0E-9  ...          2.0                     None   \n",
              "3  0E-9    0E-9  ...          3.0                     None   \n",
              "4  0E-9    0E-9  ...          1.0                     None   \n",
              "\n",
              "  time_between_service trip_type imp_surcharge pickup_location_id  \\\n",
              "0                 <NA>       1.0          0E-9                193   \n",
              "1                 <NA>       1.0          0E-9                152   \n",
              "2                 <NA>       1.0          0E-9                127   \n",
              "3                 <NA>       1.0          0E-9                152   \n",
              "4                 <NA>       1.0          0E-9                193   \n",
              "\n",
              "  dropoff_location_id  data_file_year data_file_month pickup_time  \n",
              "0                 193            2020               4    12:20:08  \n",
              "1                 152            2020               4    03:09:37  \n",
              "2                  75            2020               4    03:15:47  \n",
              "3                 152            2020               4    10:37:14  \n",
              "4                 193            2020               4    13:08:11  \n",
              "\n",
              "[5 rows x 25 columns]"
            ],
            "text/html": [
              "\n",
              "  <div id=\"df-3402c473-3b7d-4faf-b3fb-27bc27169edf\">\n",
              "    <div class=\"colab-df-container\">\n",
              "      <div>\n",
              "<style scoped>\n",
              "    .dataframe tbody tr th:only-of-type {\n",
              "        vertical-align: middle;\n",
              "    }\n",
              "\n",
              "    .dataframe tbody tr th {\n",
              "        vertical-align: top;\n",
              "    }\n",
              "\n",
              "    .dataframe thead th {\n",
              "        text-align: right;\n",
              "    }\n",
              "</style>\n",
              "<table border=\"1\" class=\"dataframe\">\n",
              "  <thead>\n",
              "    <tr style=\"text-align: right;\">\n",
              "      <th></th>\n",
              "      <th>vendor_id</th>\n",
              "      <th>pickup_datetime</th>\n",
              "      <th>dropoff_datetime</th>\n",
              "      <th>store_and_fwd_flag</th>\n",
              "      <th>rate_code</th>\n",
              "      <th>passenger_count</th>\n",
              "      <th>trip_distance</th>\n",
              "      <th>fare_amount</th>\n",
              "      <th>extra</th>\n",
              "      <th>mta_tax</th>\n",
              "      <th>...</th>\n",
              "      <th>payment_type</th>\n",
              "      <th>distance_between_service</th>\n",
              "      <th>time_between_service</th>\n",
              "      <th>trip_type</th>\n",
              "      <th>imp_surcharge</th>\n",
              "      <th>pickup_location_id</th>\n",
              "      <th>dropoff_location_id</th>\n",
              "      <th>data_file_year</th>\n",
              "      <th>data_file_month</th>\n",
              "      <th>pickup_time</th>\n",
              "    </tr>\n",
              "  </thead>\n",
              "  <tbody>\n",
              "    <tr>\n",
              "      <th>0</th>\n",
              "      <td>2</td>\n",
              "      <td>2020-04-02 12:20:08+00:00</td>\n",
              "      <td>2020-04-02 12:21:30+00:00</td>\n",
              "      <td>N</td>\n",
              "      <td>1.0</td>\n",
              "      <td>1</td>\n",
              "      <td>0E-9</td>\n",
              "      <td>0E-9</td>\n",
              "      <td>0E-9</td>\n",
              "      <td>0E-9</td>\n",
              "      <td>...</td>\n",
              "      <td>1.0</td>\n",
              "      <td>None</td>\n",
              "      <td>&lt;NA&gt;</td>\n",
              "      <td>1.0</td>\n",
              "      <td>0E-9</td>\n",
              "      <td>193</td>\n",
              "      <td>193</td>\n",
              "      <td>2020</td>\n",
              "      <td>4</td>\n",
              "      <td>12:20:08</td>\n",
              "    </tr>\n",
              "    <tr>\n",
              "      <th>1</th>\n",
              "      <td>2</td>\n",
              "      <td>2020-04-06 03:09:37+00:00</td>\n",
              "      <td>2020-04-06 03:10:58+00:00</td>\n",
              "      <td>N</td>\n",
              "      <td>1.0</td>\n",
              "      <td>1</td>\n",
              "      <td>0.130000000</td>\n",
              "      <td>0E-9</td>\n",
              "      <td>0E-9</td>\n",
              "      <td>0E-9</td>\n",
              "      <td>...</td>\n",
              "      <td>2.0</td>\n",
              "      <td>None</td>\n",
              "      <td>&lt;NA&gt;</td>\n",
              "      <td>1.0</td>\n",
              "      <td>0E-9</td>\n",
              "      <td>152</td>\n",
              "      <td>152</td>\n",
              "      <td>2020</td>\n",
              "      <td>4</td>\n",
              "      <td>03:09:37</td>\n",
              "    </tr>\n",
              "    <tr>\n",
              "      <th>2</th>\n",
              "      <td>2</td>\n",
              "      <td>2020-04-08 03:15:47+00:00</td>\n",
              "      <td>2020-04-08 03:37:11+00:00</td>\n",
              "      <td>N</td>\n",
              "      <td>1.0</td>\n",
              "      <td>1</td>\n",
              "      <td>7.110000000</td>\n",
              "      <td>0E-9</td>\n",
              "      <td>0E-9</td>\n",
              "      <td>0E-9</td>\n",
              "      <td>...</td>\n",
              "      <td>2.0</td>\n",
              "      <td>None</td>\n",
              "      <td>&lt;NA&gt;</td>\n",
              "      <td>1.0</td>\n",
              "      <td>0E-9</td>\n",
              "      <td>127</td>\n",
              "      <td>75</td>\n",
              "      <td>2020</td>\n",
              "      <td>4</td>\n",
              "      <td>03:15:47</td>\n",
              "    </tr>\n",
              "    <tr>\n",
              "      <th>3</th>\n",
              "      <td>1</td>\n",
              "      <td>2020-04-13 10:37:14+00:00</td>\n",
              "      <td>2020-04-13 10:37:46+00:00</td>\n",
              "      <td>N</td>\n",
              "      <td>1.0</td>\n",
              "      <td>1</td>\n",
              "      <td>0E-9</td>\n",
              "      <td>0E-9</td>\n",
              "      <td>0E-9</td>\n",
              "      <td>0E-9</td>\n",
              "      <td>...</td>\n",
              "      <td>3.0</td>\n",
              "      <td>None</td>\n",
              "      <td>&lt;NA&gt;</td>\n",
              "      <td>1.0</td>\n",
              "      <td>0E-9</td>\n",
              "      <td>152</td>\n",
              "      <td>152</td>\n",
              "      <td>2020</td>\n",
              "      <td>4</td>\n",
              "      <td>10:37:14</td>\n",
              "    </tr>\n",
              "    <tr>\n",
              "      <th>4</th>\n",
              "      <td>2</td>\n",
              "      <td>2020-04-18 13:08:11+00:00</td>\n",
              "      <td>2020-04-18 13:08:24+00:00</td>\n",
              "      <td>N</td>\n",
              "      <td>1.0</td>\n",
              "      <td>1</td>\n",
              "      <td>0E-9</td>\n",
              "      <td>0E-9</td>\n",
              "      <td>0E-9</td>\n",
              "      <td>0E-9</td>\n",
              "      <td>...</td>\n",
              "      <td>1.0</td>\n",
              "      <td>None</td>\n",
              "      <td>&lt;NA&gt;</td>\n",
              "      <td>1.0</td>\n",
              "      <td>0E-9</td>\n",
              "      <td>193</td>\n",
              "      <td>193</td>\n",
              "      <td>2020</td>\n",
              "      <td>4</td>\n",
              "      <td>13:08:11</td>\n",
              "    </tr>\n",
              "  </tbody>\n",
              "</table>\n",
              "<p>5 rows × 25 columns</p>\n",
              "</div>\n",
              "      <button class=\"colab-df-convert\" onclick=\"convertToInteractive('df-3402c473-3b7d-4faf-b3fb-27bc27169edf')\"\n",
              "              title=\"Convert this dataframe to an interactive table.\"\n",
              "              style=\"display:none;\">\n",
              "        \n",
              "  <svg xmlns=\"http://www.w3.org/2000/svg\" height=\"24px\"viewBox=\"0 0 24 24\"\n",
              "       width=\"24px\">\n",
              "    <path d=\"M0 0h24v24H0V0z\" fill=\"none\"/>\n",
              "    <path d=\"M18.56 5.44l.94 2.06.94-2.06 2.06-.94-2.06-.94-.94-2.06-.94 2.06-2.06.94zm-11 1L8.5 8.5l.94-2.06 2.06-.94-2.06-.94L8.5 2.5l-.94 2.06-2.06.94zm10 10l.94 2.06.94-2.06 2.06-.94-2.06-.94-.94-2.06-.94 2.06-2.06.94z\"/><path d=\"M17.41 7.96l-1.37-1.37c-.4-.4-.92-.59-1.43-.59-.52 0-1.04.2-1.43.59L10.3 9.45l-7.72 7.72c-.78.78-.78 2.05 0 2.83L4 21.41c.39.39.9.59 1.41.59.51 0 1.02-.2 1.41-.59l7.78-7.78 2.81-2.81c.8-.78.8-2.07 0-2.86zM5.41 20L4 18.59l7.72-7.72 1.47 1.35L5.41 20z\"/>\n",
              "  </svg>\n",
              "      </button>\n",
              "      \n",
              "  <style>\n",
              "    .colab-df-container {\n",
              "      display:flex;\n",
              "      flex-wrap:wrap;\n",
              "      gap: 12px;\n",
              "    }\n",
              "\n",
              "    .colab-df-convert {\n",
              "      background-color: #E8F0FE;\n",
              "      border: none;\n",
              "      border-radius: 50%;\n",
              "      cursor: pointer;\n",
              "      display: none;\n",
              "      fill: #1967D2;\n",
              "      height: 32px;\n",
              "      padding: 0 0 0 0;\n",
              "      width: 32px;\n",
              "    }\n",
              "\n",
              "    .colab-df-convert:hover {\n",
              "      background-color: #E2EBFA;\n",
              "      box-shadow: 0px 1px 2px rgba(60, 64, 67, 0.3), 0px 1px 3px 1px rgba(60, 64, 67, 0.15);\n",
              "      fill: #174EA6;\n",
              "    }\n",
              "\n",
              "    [theme=dark] .colab-df-convert {\n",
              "      background-color: #3B4455;\n",
              "      fill: #D2E3FC;\n",
              "    }\n",
              "\n",
              "    [theme=dark] .colab-df-convert:hover {\n",
              "      background-color: #434B5C;\n",
              "      box-shadow: 0px 1px 3px 1px rgba(0, 0, 0, 0.15);\n",
              "      filter: drop-shadow(0px 1px 2px rgba(0, 0, 0, 0.3));\n",
              "      fill: #FFFFFF;\n",
              "    }\n",
              "  </style>\n",
              "\n",
              "      <script>\n",
              "        const buttonEl =\n",
              "          document.querySelector('#df-3402c473-3b7d-4faf-b3fb-27bc27169edf button.colab-df-convert');\n",
              "        buttonEl.style.display =\n",
              "          google.colab.kernel.accessAllowed ? 'block' : 'none';\n",
              "\n",
              "        async function convertToInteractive(key) {\n",
              "          const element = document.querySelector('#df-3402c473-3b7d-4faf-b3fb-27bc27169edf');\n",
              "          const dataTable =\n",
              "            await google.colab.kernel.invokeFunction('convertToInteractive',\n",
              "                                                     [key], {});\n",
              "          if (!dataTable) return;\n",
              "\n",
              "          const docLinkHtml = 'Like what you see? Visit the ' +\n",
              "            '<a target=\"_blank\" href=https://colab.research.google.com/notebooks/data_table.ipynb>data table notebook</a>'\n",
              "            + ' to learn more about interactive tables.';\n",
              "          element.innerHTML = '';\n",
              "          dataTable['output_type'] = 'display_data';\n",
              "          await google.colab.output.renderOutput(dataTable, element);\n",
              "          const docLink = document.createElement('div');\n",
              "          docLink.innerHTML = docLinkHtml;\n",
              "          element.appendChild(docLink);\n",
              "        }\n",
              "      </script>\n",
              "    </div>\n",
              "  </div>\n",
              "  "
            ]
          },
          "metadata": {},
          "execution_count": 96
        }
      ]
    },
    {
      "cell_type": "code",
      "source": [
        "# Create a new column indicating if pickup_time is at night or during the day\n",
        "df1['pickup_time_period'] = df1['pickup_datetime'].apply(lambda x: 'night' if ((x.hour >= 20) or (x.hour < 8)) else 'day')\n",
        "\n",
        "# Print the first few rows to verify the results\n",
        "print(df1.head())\n"
      ],
      "metadata": {
        "colab": {
          "base_uri": "https://localhost:8080/"
        },
        "id": "PHo_Zk4AL6aI",
        "outputId": "5176efaf-35c9-4af8-d590-775724f7845a"
      },
      "execution_count": 97,
      "outputs": [
        {
          "output_type": "stream",
          "name": "stdout",
          "text": [
            "  vendor_id           pickup_datetime          dropoff_datetime  \\\n",
            "0         2 2020-04-02 12:20:08+00:00 2020-04-02 12:21:30+00:00   \n",
            "1         2 2020-04-06 03:09:37+00:00 2020-04-06 03:10:58+00:00   \n",
            "2         2 2020-04-08 03:15:47+00:00 2020-04-08 03:37:11+00:00   \n",
            "3         1 2020-04-13 10:37:14+00:00 2020-04-13 10:37:46+00:00   \n",
            "4         2 2020-04-18 13:08:11+00:00 2020-04-18 13:08:24+00:00   \n",
            "\n",
            "  store_and_fwd_flag rate_code  passenger_count trip_distance fare_amount  \\\n",
            "0                  N       1.0                1          0E-9        0E-9   \n",
            "1                  N       1.0                1   0.130000000        0E-9   \n",
            "2                  N       1.0                1   7.110000000        0E-9   \n",
            "3                  N       1.0                1          0E-9        0E-9   \n",
            "4                  N       1.0                1          0E-9        0E-9   \n",
            "\n",
            "  extra mta_tax  ... distance_between_service time_between_service trip_type  \\\n",
            "0  0E-9    0E-9  ...                     None                 <NA>       1.0   \n",
            "1  0E-9    0E-9  ...                     None                 <NA>       1.0   \n",
            "2  0E-9    0E-9  ...                     None                 <NA>       1.0   \n",
            "3  0E-9    0E-9  ...                     None                 <NA>       1.0   \n",
            "4  0E-9    0E-9  ...                     None                 <NA>       1.0   \n",
            "\n",
            "  imp_surcharge pickup_location_id dropoff_location_id data_file_year  \\\n",
            "0          0E-9                193                 193           2020   \n",
            "1          0E-9                152                 152           2020   \n",
            "2          0E-9                127                  75           2020   \n",
            "3          0E-9                152                 152           2020   \n",
            "4          0E-9                193                 193           2020   \n",
            "\n",
            "   data_file_month pickup_time pickup_time_period  \n",
            "0                4    12:20:08                day  \n",
            "1                4    03:09:37              night  \n",
            "2                4    03:15:47              night  \n",
            "3                4    10:37:14                day  \n",
            "4                4    13:08:11                day  \n",
            "\n",
            "[5 rows x 26 columns]\n"
          ]
        }
      ]
    },
    {
      "cell_type": "code",
      "source": [
        "\n",
        "import matplotlib.pyplot as plt\n",
        "\n",
        "# Calculate the average fare amount by pickup time period\n",
        "fare_by_time_period = df1.groupby('pickup_time_period')['fare_amount'].mean()\n",
        "\n",
        "# Create a bar plot of average fare amount by pickup time period\n",
        "plt.bar(fare_by_time_period.index, fare_by_time_period.values)\n",
        "\n",
        "# Set the plot title and axis labels\n",
        "plt.title('Average Fare Amount by Pickup Time Period')\n",
        "plt.xlabel('Pickup Time Period')\n",
        "plt.ylabel('Average Fare Amount')\n",
        "plt.savefig('fare_pickup', dpi=300, bbox_inches='tight')\n",
        "\n",
        "# Show the plot\n",
        "plt.show()"
      ],
      "metadata": {
        "colab": {
          "base_uri": "https://localhost:8080/",
          "height": 472
        },
        "id": "OxG3j2NyMAqT",
        "outputId": "e6a1c6a8-828c-4029-e7ca-a7439064c5e2"
      },
      "execution_count": 98,
      "outputs": [
        {
          "output_type": "display_data",
          "data": {
            "text/plain": [
              "<Figure size 640x480 with 1 Axes>"
            ],
            "image/png": "[encoded data removed]"
          },
          "metadata": {}
        }
      ]
    },
    {
      "cell_type": "code",
      "source": [
        "import matplotlib.pyplot as plt\n",
        "\n",
        "# Calculate the average fare amount by pickup time period\n",
        "fare_by_time_period = df1.groupby('pickup_time_period')['fare_amount'].mean()\n",
        "\n",
        "# Print the average fare amount by pickup time period\n",
        "print(\"Average Fare Amount by Pickup Time Period:\")\n",
        "print(fare_by_time_period)\n",
        "\n",
        "# Create a bar plot of average fare amount by pickup time period\n",
        "plt.bar(fare_by_time_period.index, fare_by_time_period.values)\n",
        "\n",
        "# Set the plot title and axis labels\n",
        "plt.title('Average Fare Amount by Pickup Time Period')\n",
        "plt.xlabel('Pickup Time Period')\n",
        "plt.ylabel('Average Fare Amount')\n",
        "\n",
        "# Show the plot\n",
        "plt.show()\n"
      ],
      "metadata": {
        "colab": {
          "base_uri": "https://localhost:8080/",
          "height": 559
        },
        "id": "68AwkQC_MVFR",
        "outputId": "0cd95ed2-3784-403d-b0ac-cba62426d682"
      },
      "execution_count": 99,
      "outputs": [
        {
          "output_type": "stream",
          "name": "stdout",
          "text": [
            "Average Fare Amount by Pickup Time Period:\n",
            "pickup_time_period\n",
            "day      16.876317\n",
            "night    17.294560\n",
            "Name: fare_amount, dtype: float64\n"
          ]
        },
        {
          "output_type": "display_data",
          "data": {
            "text/plain": [
              "<Figure size 640x480 with 1 Axes>"
            ],
            "image/png": "[encoded data removed]"
          },
          "metadata": {}
        }
      ]
    },
    {
      "cell_type": "code",
      "source": [
        "# Create a new column to extract the hour component of pickup_datetime\n",
        "df1['pickup_hour'] = df1['pickup_datetime'].apply(lambda x: x.hour)\n",
        "\n",
        "# Calculate the total fare amount earned for each pickup hour\n",
        "fare_by_hour = df1.groupby('pickup_hour')['fare_amount'].sum()\n",
        "\n",
        "# Create a bar plot of total fare amount earned by pickup hour\n",
        "plt.bar(fare_by_hour.index, fare_by_hour.values)\n",
        "\n",
        "# Set the plot title and axis labels\n",
        "plt.title('Total Fare Amount Earned by Pickup Hour')\n",
        "plt.xlabel('Pickup Hour')\n",
        "plt.ylabel('Total Fare Amount')\n",
        "\n",
        "plt.savefig('total_fare_pickup.png', dpi=300, bbox_inches='tight')\n",
        "\n",
        "\n",
        "# Show the plot\n",
        "plt.show()\n"
      ],
      "metadata": {
        "colab": {
          "base_uri": "https://localhost:8080/",
          "height": 472
        },
        "id": "McAQhehJM949",
        "outputId": "2f0f05b5-8689-4b31-a71a-6a26ad1ca553"
      },
      "execution_count": 101,
      "outputs": [
        {
          "output_type": "display_data",
          "data": {
            "text/plain": [
              "<Figure size 640x480 with 1 Axes>"
            ],
            "image/png": "[encoded data removed]"
          },
          "metadata": {}
        }
      ]
    },
    {
      "cell_type": "code",
      "source": [
        "# Example code\n",
        "import pandas as pd\n",
        "import matplotlib.pyplot as plt\n",
        "\n",
        "# Load NYC taxi fare data into a dataframe (replace 'filename.csv' with your actual filename)\n",
        "#df = pd.read_csv('filename.csv')\n",
        "\n",
        "# Count the number of occurrences of each payment type\n",
        "payment_counts = df1['payment_type'].value_counts()\n",
        "\n",
        "# Create a pie chart showing the distribution of payment types\n",
        "plt.pie(payment_counts, labels=payment_counts.index, autopct='%1.1f%%')\n",
        "plt.title('Distribution of Payment Types')\n",
        "\n",
        "# Add a legend to the chart with percentage values\n",
        "plt.legend(title='Payment Types', loc='best', bbox_to_anchor=(1, 0, 0.5, 1),\n",
        "           labels=['{} ({:.1f}%)'.format(i,j*100/sum(payment_counts)) for i,j in payment_counts.items()])\n",
        "\n",
        "plt.axis('equal')  # Equal aspect ratio ensures that pie is drawn as a circle\n",
        "plt.savefig('payment_distib.png', dpi=300, bbox_inches='tight')\n",
        "\n",
        "plt.show()\n"
      ],
      "metadata": {
        "colab": {
          "base_uri": "https://localhost:8080/",
          "height": 434
        },
        "id": "hTNRfmmDcFvy",
        "outputId": "88c5e4be-669a-4934-ecca-01b7dec37f71"
      },
      "execution_count": 102,
      "outputs": [
        {
          "output_type": "display_data",
          "data": {
            "text/plain": [
              "<Figure size 640x480 with 1 Axes>"
            ],
            "image/png": "[encoded data removed]"
          },
          "metadata": {}
        }
      ]
    },
    {
      "cell_type": "code",
      "source": [],
      "metadata": {
        "id": "9BDsukL7c1qt"
      },
      "execution_count": null,
      "outputs": []
    }
  ]
}